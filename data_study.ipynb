{
 "cells": [
  {
   "cell_type": "code",
   "execution_count": null,
   "metadata": {},
   "outputs": [],
   "source": [
    "import numpy as nb\n",
    "import pandas as pd"
   ]
  },
  {
   "attachments": {},
   "cell_type": "markdown",
   "metadata": {},
   "source": [
    "Olympic_Athlete_Bio.csv"
   ]
  },
  {
   "cell_type": "code",
   "execution_count": 29,
   "metadata": {},
   "outputs": [
    {
     "name": "stdout",
     "output_type": "stream",
     "text": [
      "<class 'pandas.core.frame.DataFrame'>\n",
      "RangeIndex: 155031 entries, 0 to 155030\n",
      "Data columns (total 10 columns):\n",
      " #   Column         Non-Null Count   Dtype \n",
      "---  ------         --------------   ----- \n",
      " 0   athlete_id     155031 non-null  int64 \n",
      " 1   name           155031 non-null  object\n",
      " 2   sex            155031 non-null  object\n",
      " 3   born           155031 non-null  object\n",
      " 4   height         155031 non-null  object\n",
      " 5   weight         155031 non-null  object\n",
      " 6   country        155031 non-null  object\n",
      " 7   country_noc    155031 non-null  object\n",
      " 8   description    155031 non-null  object\n",
      " 9   special_notes  155031 non-null  object\n",
      "dtypes: int64(1), object(9)\n",
      "memory usage: 11.8+ MB\n"
     ]
    }
   ],
   "source": [
    "athlete_Bio = pd.read_csv('Dataset/Olympic_Athlete_Bio.csv', sep=',')\n",
    "athlete_Bio.info()"
   ]
  },
  {
   "cell_type": "code",
   "execution_count": 30,
   "metadata": {},
   "outputs": [
    {
     "name": "stdout",
     "output_type": "stream",
     "text": [
      "Number of Rows:  155031\n",
      "Number of Columns:  10\n"
     ]
    }
   ],
   "source": [
    "print(\"Number of Rows: \", athlete_Bio.shape[0])\n",
    "print(\"Number of Columns: \", athlete_Bio.shape[1])"
   ]
  },
  {
   "attachments": {},
   "cell_type": "markdown",
   "metadata": {},
   "source": [
    "Olympic_Event_Results.csv"
   ]
  },
  {
   "cell_type": "code",
   "execution_count": 20,
   "metadata": {},
   "outputs": [
    {
     "name": "stdout",
     "output_type": "stream",
     "text": [
      "<class 'pandas.core.frame.DataFrame'>\n",
      "RangeIndex: 314907 entries, 0 to 314906\n",
      "Data columns (total 11 columns):\n",
      " #   Column       Non-Null Count   Dtype \n",
      "---  ------       --------------   ----- \n",
      " 0   edition      314907 non-null  object\n",
      " 1   edition_id   314907 non-null  int64 \n",
      " 2   country_noc  314907 non-null  object\n",
      " 3   sport        314907 non-null  object\n",
      " 4   event        314907 non-null  object\n",
      " 5   result_id    314907 non-null  int64 \n",
      " 6   athlete      314907 non-null  object\n",
      " 7   athlete_id   314907 non-null  int64 \n",
      " 8   pos          314907 non-null  object\n",
      " 9   medal        314907 non-null  object\n",
      " 10  isTeamSport  314907 non-null  bool  \n",
      "dtypes: bool(1), int64(3), object(7)\n",
      "memory usage: 24.3+ MB\n"
     ]
    }
   ],
   "source": [
    "athlete_Event_Results = pd.read_csv('Dataset/Olympic_Athlete_Event_Results.csv', sep=',')\n",
    "athlete_Event_Results.info()"
   ]
  },
  {
   "cell_type": "code",
   "execution_count": 31,
   "metadata": {},
   "outputs": [
    {
     "name": "stdout",
     "output_type": "stream",
     "text": [
      "Number of Rows:  314907\n",
      "Number of Columns:  11\n"
     ]
    }
   ],
   "source": [
    "print(\"Number of Rows: \", athlete_Event_Results.shape[0])\n",
    "print(\"Number of Columns: \", athlete_Event_Results.shape[1])"
   ]
  },
  {
   "attachments": {},
   "cell_type": "markdown",
   "metadata": {},
   "source": [
    "Olympic_Games_Medal_Tally.csv"
   ]
  },
  {
   "cell_type": "code",
   "execution_count": 21,
   "metadata": {},
   "outputs": [
    {
     "name": "stdout",
     "output_type": "stream",
     "text": [
      "<class 'pandas.core.frame.DataFrame'>\n",
      "RangeIndex: 1779 entries, 0 to 1778\n",
      "Data columns (total 9 columns):\n",
      " #   Column       Non-Null Count  Dtype \n",
      "---  ------       --------------  ----- \n",
      " 0   edition      1779 non-null   object\n",
      " 1   edition_id   1779 non-null   int64 \n",
      " 2   year         1779 non-null   int64 \n",
      " 3   country      1779 non-null   object\n",
      " 4   country_noc  1779 non-null   object\n",
      " 5   gold         1779 non-null   int64 \n",
      " 6   silver       1779 non-null   int64 \n",
      " 7   bronze       1779 non-null   int64 \n",
      " 8   total        1779 non-null   int64 \n",
      "dtypes: int64(6), object(3)\n",
      "memory usage: 125.2+ KB\n"
     ]
    }
   ],
   "source": [
    "games_Medal = pd.read_csv('Dataset/Olympic_Games_Medal_Tally.csv', sep=',')\n",
    "games_Medal.info()"
   ]
  },
  {
   "cell_type": "code",
   "execution_count": 32,
   "metadata": {},
   "outputs": [
    {
     "name": "stdout",
     "output_type": "stream",
     "text": [
      "Number of Rows:  1779\n",
      "Number of Columns:  9\n"
     ]
    }
   ],
   "source": [
    "print(\"Number of Rows: \", games_Medal.shape[0])\n",
    "print(\"Number of Columns: \", games_Medal.shape[1])"
   ]
  },
  {
   "cell_type": "markdown",
   "metadata": {},
   "source": [
    "Olympic_Results.csv"
   ]
  },
  {
   "cell_type": "code",
   "execution_count": 22,
   "metadata": {},
   "outputs": [
    {
     "name": "stdout",
     "output_type": "stream",
     "text": [
      "<class 'pandas.core.frame.DataFrame'>\n",
      "RangeIndex: 7329 entries, 0 to 7328\n",
      "Data columns (total 14 columns):\n",
      " #   Column               Non-Null Count  Dtype \n",
      "---  ------               --------------  ----- \n",
      " 0   result_id            7329 non-null   int64 \n",
      " 1   event_title          7329 non-null   object\n",
      " 2   edition              7329 non-null   object\n",
      " 3   edition_id           7329 non-null   int64 \n",
      " 4   sport                7329 non-null   object\n",
      " 5   sport_url            7329 non-null   object\n",
      " 6   result_location      7329 non-null   object\n",
      " 7   result_participants  7329 non-null   object\n",
      " 8   result_format        7329 non-null   object\n",
      " 9   result_detail        7329 non-null   object\n",
      " 10  result_description   7329 non-null   object\n",
      " 11  start_date           7329 non-null   object\n",
      " 12  end_date             7329 non-null   object\n",
      " 13  time                 7329 non-null   object\n",
      "dtypes: int64(2), object(12)\n",
      "memory usage: 801.7+ KB\n"
     ]
    }
   ],
   "source": [
    "olympic_Results = pd.read_csv('Dataset/Olympic_Results.csv', sep=',')\n",
    "olympic_Results.info()"
   ]
  },
  {
   "cell_type": "code",
   "execution_count": 33,
   "metadata": {},
   "outputs": [
    {
     "name": "stdout",
     "output_type": "stream",
     "text": [
      "Number of Rows:  7329\n",
      "Number of Columns:  14\n"
     ]
    }
   ],
   "source": [
    "print(\"Number of Rows: \", olympic_Results.shape[0])\n",
    "print(\"Number of Columns: \", olympic_Results.shape[1])"
   ]
  },
  {
   "attachments": {},
   "cell_type": "markdown",
   "metadata": {},
   "source": [
    "Olympic_Country.csv"
   ]
  },
  {
   "cell_type": "code",
   "execution_count": 23,
   "metadata": {},
   "outputs": [
    {
     "name": "stdout",
     "output_type": "stream",
     "text": [
      "<class 'pandas.core.frame.DataFrame'>\n",
      "RangeIndex: 234 entries, 0 to 233\n",
      "Data columns (total 2 columns):\n",
      " #   Column       Non-Null Count  Dtype \n",
      "---  ------       --------------  ----- \n",
      " 0   country_noc  234 non-null    object\n",
      " 1   country      234 non-null    object\n",
      "dtypes: object(2)\n",
      "memory usage: 3.8+ KB\n"
     ]
    }
   ],
   "source": [
    "olympic_Country = pd.read_csv('Dataset/Olympics_Country.csv', sep=',')\n",
    "olympic_Country.info()"
   ]
  },
  {
   "cell_type": "code",
   "execution_count": 34,
   "metadata": {},
   "outputs": [
    {
     "name": "stdout",
     "output_type": "stream",
     "text": [
      "Number of Rows:  234\n",
      "Number of Columns:  2\n"
     ]
    }
   ],
   "source": [
    "print(\"Number of Rows: \", olympic_Country.shape[0])\n",
    "print(\"Number of Columns: \", olympic_Country.shape[1])"
   ]
  },
  {
   "cell_type": "markdown",
   "metadata": {},
   "source": [
    "Olympics_Games.csv"
   ]
  },
  {
   "cell_type": "code",
   "execution_count": 24,
   "metadata": {},
   "outputs": [
    {
     "name": "stdout",
     "output_type": "stream",
     "text": [
      "<class 'pandas.core.frame.DataFrame'>\n",
      "RangeIndex: 62 entries, 0 to 61\n",
      "Data columns (total 13 columns):\n",
      " #   Column                  Non-Null Count  Dtype \n",
      "---  ------                  --------------  ----- \n",
      " 0   edition                 62 non-null     object\n",
      " 1   edition_id              62 non-null     int64 \n",
      " 2   edition_url             62 non-null     object\n",
      " 3   season                  62 non-null     object\n",
      " 4   year                    62 non-null     int64 \n",
      " 5   city                    62 non-null     object\n",
      " 6   country_flag_url        62 non-null     object\n",
      " 7   country_noc             62 non-null     object\n",
      " 8   start_date              62 non-null     object\n",
      " 9   end_date                62 non-null     object\n",
      " 10  isHeld                  62 non-null     object\n",
      " 11  competition_start_date  62 non-null     object\n",
      " 12  competition_end_date    62 non-null     object\n",
      "dtypes: int64(2), object(11)\n",
      "memory usage: 6.4+ KB\n"
     ]
    }
   ],
   "source": [
    "olympic_Games = pd.read_csv('Dataset/Olympics_Games.csv', sep=',')\n",
    "olympic_Games.info()"
   ]
  },
  {
   "cell_type": "code",
   "execution_count": 35,
   "metadata": {},
   "outputs": [
    {
     "name": "stdout",
     "output_type": "stream",
     "text": [
      "Number of Rows:  62\n",
      "Number of Columns:  13\n"
     ]
    }
   ],
   "source": [
    "print(\"Number of Rows: \", olympic_Games.shape[0])\n",
    "print(\"Number of Columns: \", olympic_Games.shape[1])"
   ]
  }
 ],
 "metadata": {
  "kernelspec": {
   "display_name": "base",
   "language": "python",
   "name": "python3"
  },
  "language_info": {
   "codemirror_mode": {
    "name": "ipython",
    "version": 3
   },
   "file_extension": ".py",
   "mimetype": "text/x-python",
   "name": "python",
   "nbconvert_exporter": "python",
   "pygments_lexer": "ipython3",
   "version": "3.9.12"
  },
  "orig_nbformat": 4,
  "vscode": {
   "interpreter": {
    "hash": "47e1b8a2c375dc7eddb7fcbc77a4789e02579d6e777ba36c235362aa19e94720"
   }
  }
 },
 "nbformat": 4,
 "nbformat_minor": 2
}
