{
 "cells": [
  {
   "cell_type": "code",
   "execution_count": 2,
   "metadata": {},
   "outputs": [],
   "source": [
    "import pandas as pd\n",
    "import plotly.express as px"
   ]
  },
  {
   "cell_type": "code",
   "execution_count": 54,
   "metadata": {},
   "outputs": [],
   "source": [
    "athlete_Event_Results = pd.read_csv('Dataset/Olympic_Athlete_Event_Results.csv', sep=',')\n",
    "athlete_Event_Results = athlete_Event_Results.replace([\"na\"], None)\n",
    "\n",
    "\n",
    "athlete_results = athlete_Event_Results[athlete_Event_Results[\"edition\"].str.contains(\"Winter\") == False]   # apenas jogos de verao\n",
    "\n",
    "athlete_results = athlete_results.reset_index()\n",
    "\n",
    "athlete_results = athlete_results.drop(columns=['result_id','athlete','athlete_id','pos'])\n",
    "\n",
    "\n",
    "repeat = []\n",
    "i=0\n",
    "while(i < len(athlete_results)):\n",
    "    if athlete_results.loc[i, 'isTeamSport'] == True:\n",
    "        auxi = i + 1 \n",
    "        p = athlete_results.loc[i, 'country_noc']\n",
    "        e = athlete_results.loc[i, 'event']\n",
    "        a = athlete_results.loc[i, 'edition_id']\n",
    "        while((athlete_results.loc[auxi, 'country_noc'] == p) and (athlete_results.loc[auxi, 'event'] == e) and (athlete_results.loc[auxi, 'edition_id'] == a)):\n",
    "            repeat.append(auxi)\n",
    "            auxi += 1\n",
    "        i = auxi-1\n",
    "    i+=1\n",
    "\n",
    "athlete_results.drop(repeat, inplace=True)\n",
    "athlete_results.drop(columns=['edition_id', 'isTeamSport', 'index'], inplace=True)\n",
    "athlete_results['edition'] = athlete_results['edition'].str.split().str[0].astype(int)\n",
    "\n",
    "athlete_results[\"medal\"] = athlete_results[\"medal\"].notnull().mul(1)\n",
    "\n",
    "gr = pd.DataFrame(athlete_results.groupby(['country_noc', 'sport', 'edition', 'event']).sum()).reset_index()\n"
   ]
  },
  {
   "cell_type": "code",
   "execution_count": 74,
   "metadata": {},
   "outputs": [],
   "source": [
    "country = 'USA'\n",
    "dataset = gr[gr['country_noc'] == country].reset_index()\n",
    "\n",
    "\n",
    "new_medal = []\n",
    "for i in range(len(dataset)):\n",
    "    edition = dataset.loc[i, 'edition']\n",
    "    sport = dataset.loc[i, 'sport']\n",
    "    event = dataset.loc[i, 'event']\n",
    "\n",
    "    new_medal.append(dataset[(dataset['edition'] <= edition) & (dataset['sport'] == sport) & (dataset['event'] == event)]['medal'].sum())\n",
    "\n",
    "sports = pd.unique(dataset.sport)\n",
    "\n",
    "dataset['medal'] = new_medal\n"
   ]
  },
  {
   "cell_type": "code",
   "execution_count": 75,
   "metadata": {},
   "outputs": [
    {
     "name": "stdout",
     "output_type": "stream",
     "text": [
      "Dash is running on http://127.0.0.1:8050/\n",
      "\n",
      " * Serving Flask app \"__main__\" (lazy loading)\n",
      " * Environment: production\n",
      "\u001b[31m   WARNING: This is a development server. Do not use it in a production deployment.\u001b[0m\n",
      "\u001b[2m   Use a production WSGI server instead.\u001b[0m\n",
      " * Debug mode: off\n"
     ]
    }
   ],
   "source": [
    "from dash import Dash, dcc, html, Input, Output\n",
    "import plotly.express as px\n",
    "\n",
    "app = Dash(__name__)\n",
    "\n",
    "\n",
    "app.layout = html.Div([\n",
    "    html.H4('Sports evolution of ' + country),\n",
    "    dcc.Graph(id=\"graph\"),\n",
    "    dcc.Checklist(\n",
    "        id=\"checklist\",\n",
    "        options=sports,\n",
    "        value=[sports[0]],\n",
    "        inline=True\n",
    "    ),\n",
    "])\n",
    "\n",
    "\n",
    "@app.callback(\n",
    "    Output(\"graph\", \"figure\"), \n",
    "    Input(\"checklist\", \"value\"))\n",
    "\n",
    "def update_line_chart(s):\n",
    "    df = dataset#px.data.gapminder()\n",
    "    mask = df.sport.isin(s)\n",
    "    fig = px.line(df[mask], \n",
    "        x=\"edition\", y=\"medal\", color='event')\n",
    "    return fig\n",
    "\n",
    "\n",
    "app.run_server(debug=False)"
   ]
  },
  {
   "cell_type": "code",
   "execution_count": null,
   "metadata": {},
   "outputs": [],
   "source": []
  }
 ],
 "metadata": {
  "kernelspec": {
   "display_name": "base",
   "language": "python",
   "name": "python3"
  },
  "language_info": {
   "codemirror_mode": {
    "name": "ipython",
    "version": 3
   },
   "file_extension": ".py",
   "mimetype": "text/x-python",
   "name": "python",
   "nbconvert_exporter": "python",
   "pygments_lexer": "ipython3",
   "version": "3.9.12"
  },
  "orig_nbformat": 4
 },
 "nbformat": 4,
 "nbformat_minor": 2
}
