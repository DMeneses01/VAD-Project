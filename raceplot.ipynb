{
 "cells": [
  {
   "cell_type": "code",
   "execution_count": 45,
   "metadata": {},
   "outputs": [],
   "source": [
    "import pandas as pd\n",
    "from raceplotly.plots import barplot"
   ]
  },
  {
   "cell_type": "code",
   "execution_count": 53,
   "metadata": {},
   "outputs": [
    {
     "data": {
      "text/html": [
       "<div>\n",
       "<style scoped>\n",
       "    .dataframe tbody tr th:only-of-type {\n",
       "        vertical-align: middle;\n",
       "    }\n",
       "\n",
       "    .dataframe tbody tr th {\n",
       "        vertical-align: top;\n",
       "    }\n",
       "\n",
       "    .dataframe thead th {\n",
       "        text-align: right;\n",
       "    }\n",
       "</style>\n",
       "<table border=\"1\" class=\"dataframe\">\n",
       "  <thead>\n",
       "    <tr style=\"text-align: right;\">\n",
       "      <th></th>\n",
       "      <th>edition</th>\n",
       "      <th>country_noc</th>\n",
       "      <th>sport</th>\n",
       "      <th>event</th>\n",
       "      <th>medal</th>\n",
       "    </tr>\n",
       "  </thead>\n",
       "  <tbody>\n",
       "    <tr>\n",
       "      <th>0</th>\n",
       "      <td>1908</td>\n",
       "      <td>ANZ</td>\n",
       "      <td>Athletics</td>\n",
       "      <td>100 metres, Men</td>\n",
       "      <td>0</td>\n",
       "    </tr>\n",
       "    <tr>\n",
       "      <th>1</th>\n",
       "      <td>1908</td>\n",
       "      <td>ANZ</td>\n",
       "      <td>Athletics</td>\n",
       "      <td>400 metres, Men</td>\n",
       "      <td>0</td>\n",
       "    </tr>\n",
       "    <tr>\n",
       "      <th>2</th>\n",
       "      <td>1908</td>\n",
       "      <td>ANZ</td>\n",
       "      <td>Athletics</td>\n",
       "      <td>800 metres, Men</td>\n",
       "      <td>0</td>\n",
       "    </tr>\n",
       "    <tr>\n",
       "      <th>3</th>\n",
       "      <td>1908</td>\n",
       "      <td>ANZ</td>\n",
       "      <td>Athletics</td>\n",
       "      <td>800 metres, Men</td>\n",
       "      <td>0</td>\n",
       "    </tr>\n",
       "    <tr>\n",
       "      <th>4</th>\n",
       "      <td>1908</td>\n",
       "      <td>ANZ</td>\n",
       "      <td>Athletics</td>\n",
       "      <td>800 metres, Men</td>\n",
       "      <td>0</td>\n",
       "    </tr>\n",
       "    <tr>\n",
       "      <th>...</th>\n",
       "      <td>...</td>\n",
       "      <td>...</td>\n",
       "      <td>...</td>\n",
       "      <td>...</td>\n",
       "      <td>...</td>\n",
       "    </tr>\n",
       "    <tr>\n",
       "      <th>253177</th>\n",
       "      <td>2020</td>\n",
       "      <td>USA</td>\n",
       "      <td>Wrestling</td>\n",
       "      <td>Featherweight, Freestyle, Women</td>\n",
       "      <td>0</td>\n",
       "    </tr>\n",
       "    <tr>\n",
       "      <th>253178</th>\n",
       "      <td>2020</td>\n",
       "      <td>USA</td>\n",
       "      <td>Wrestling</td>\n",
       "      <td>Lightweight, Freestyle, Women</td>\n",
       "      <td>1</td>\n",
       "    </tr>\n",
       "    <tr>\n",
       "      <th>253179</th>\n",
       "      <td>2020</td>\n",
       "      <td>USA</td>\n",
       "      <td>Wrestling</td>\n",
       "      <td>Middleweight, Freestyle, Women</td>\n",
       "      <td>0</td>\n",
       "    </tr>\n",
       "    <tr>\n",
       "      <th>253180</th>\n",
       "      <td>2020</td>\n",
       "      <td>USA</td>\n",
       "      <td>Wrestling</td>\n",
       "      <td>Light-Heavyweight, Freestyle, Women</td>\n",
       "      <td>1</td>\n",
       "    </tr>\n",
       "    <tr>\n",
       "      <th>253181</th>\n",
       "      <td>2020</td>\n",
       "      <td>USA</td>\n",
       "      <td>Wrestling</td>\n",
       "      <td>Heavyweight, Freestyle, Women</td>\n",
       "      <td>1</td>\n",
       "    </tr>\n",
       "  </tbody>\n",
       "</table>\n",
       "<p>172107 rows × 5 columns</p>\n",
       "</div>"
      ],
      "text/plain": [
       "        edition country_noc      sport                                event  \\\n",
       "0          1908         ANZ  Athletics                      100 metres, Men   \n",
       "1          1908         ANZ  Athletics                      400 metres, Men   \n",
       "2          1908         ANZ  Athletics                      800 metres, Men   \n",
       "3          1908         ANZ  Athletics                      800 metres, Men   \n",
       "4          1908         ANZ  Athletics                      800 metres, Men   \n",
       "...         ...         ...        ...                                  ...   \n",
       "253177     2020         USA  Wrestling      Featherweight, Freestyle, Women   \n",
       "253178     2020         USA  Wrestling        Lightweight, Freestyle, Women   \n",
       "253179     2020         USA  Wrestling       Middleweight, Freestyle, Women   \n",
       "253180     2020         USA  Wrestling  Light-Heavyweight, Freestyle, Women   \n",
       "253181     2020         USA  Wrestling        Heavyweight, Freestyle, Women   \n",
       "\n",
       "        medal  \n",
       "0           0  \n",
       "1           0  \n",
       "2           0  \n",
       "3           0  \n",
       "4           0  \n",
       "...       ...  \n",
       "253177      0  \n",
       "253178      1  \n",
       "253179      0  \n",
       "253180      1  \n",
       "253181      1  \n",
       "\n",
       "[172107 rows x 5 columns]"
      ]
     },
     "metadata": {},
     "output_type": "display_data"
    }
   ],
   "source": [
    "athlete_Event_Results = pd.read_csv('Dataset/Olympic_Athlete_Event_Results.csv', sep=',')\n",
    "athlete_Event_Results = athlete_Event_Results.replace([\"na\"], None)\n",
    "\n",
    "\n",
    "athlete_results = athlete_Event_Results[athlete_Event_Results[\"edition\"].str.contains(\"Winter\") == False]   # apenas jogos de verao\n",
    "\n",
    "athlete_results = athlete_results.reset_index()\n",
    "\n",
    "athlete_results = athlete_results.drop(columns=['result_id','athlete','athlete_id','pos'])\n",
    "\n",
    "\n",
    "repeat = []\n",
    "i=0\n",
    "while(i < len(athlete_results)):\n",
    "    if athlete_results.loc[i, 'isTeamSport'] == True:\n",
    "        auxi = i + 1 \n",
    "        p = athlete_results.loc[i, 'country_noc']\n",
    "        e = athlete_results.loc[i, 'event']\n",
    "        a = athlete_results.loc[i, 'edition_id']\n",
    "        while((athlete_results.loc[auxi, 'country_noc'] == p) and (athlete_results.loc[auxi, 'event'] == e) and (athlete_results.loc[auxi, 'edition_id'] == a)):\n",
    "            repeat.append(auxi)\n",
    "            auxi += 1\n",
    "        i = auxi-1\n",
    "    i+=1\n",
    "\n",
    "athlete_results.drop(repeat, inplace=True)\n",
    "athlete_results.drop(columns=['edition_id', 'isTeamSport', 'index'], inplace=True)\n",
    "athlete_results['edition'] = athlete_results['edition'].str.split().str[0].astype(int)\n",
    "\n",
    "athlete_results[\"medal\"] = athlete_results[\"medal\"].notnull().mul(1)\n",
    "\n",
    "display(athlete_results)"
   ]
  },
  {
   "cell_type": "code",
   "execution_count": 55,
   "metadata": {},
   "outputs": [
    {
     "name": "stderr",
     "output_type": "stream",
     "text": [
      "C:\\Users\\emanu\\AppData\\Local\\Temp\\ipykernel_19976\\4276111948.py:3: UserWarning:\n",
      "\n",
      "Boolean Series key will be reindexed to match DataFrame index.\n",
      "\n"
     ]
    },
    {
     "data": {
      "text/html": [
       "<div>\n",
       "<style scoped>\n",
       "    .dataframe tbody tr th:only-of-type {\n",
       "        vertical-align: middle;\n",
       "    }\n",
       "\n",
       "    .dataframe tbody tr th {\n",
       "        vertical-align: top;\n",
       "    }\n",
       "\n",
       "    .dataframe thead th {\n",
       "        text-align: right;\n",
       "    }\n",
       "</style>\n",
       "<table border=\"1\" class=\"dataframe\">\n",
       "  <thead>\n",
       "    <tr style=\"text-align: right;\">\n",
       "      <th></th>\n",
       "      <th>edition</th>\n",
       "      <th>country_noc</th>\n",
       "      <th>medal</th>\n",
       "    </tr>\n",
       "  </thead>\n",
       "  <tbody>\n",
       "    <tr>\n",
       "      <th>0</th>\n",
       "      <td>1896</td>\n",
       "      <td>BUL</td>\n",
       "      <td>0</td>\n",
       "    </tr>\n",
       "    <tr>\n",
       "      <th>1</th>\n",
       "      <td>1896</td>\n",
       "      <td>FRA</td>\n",
       "      <td>0</td>\n",
       "    </tr>\n",
       "    <tr>\n",
       "      <th>2</th>\n",
       "      <td>1896</td>\n",
       "      <td>GRE</td>\n",
       "      <td>12</td>\n",
       "    </tr>\n",
       "    <tr>\n",
       "      <th>3</th>\n",
       "      <td>1900</td>\n",
       "      <td>BOH</td>\n",
       "      <td>1</td>\n",
       "    </tr>\n",
       "    <tr>\n",
       "      <th>4</th>\n",
       "      <td>1900</td>\n",
       "      <td>CUB</td>\n",
       "      <td>2</td>\n",
       "    </tr>\n",
       "    <tr>\n",
       "      <th>...</th>\n",
       "      <td>...</td>\n",
       "      <td>...</td>\n",
       "      <td>...</td>\n",
       "    </tr>\n",
       "    <tr>\n",
       "      <th>1266</th>\n",
       "      <td>2020</td>\n",
       "      <td>USA</td>\n",
       "      <td>20</td>\n",
       "    </tr>\n",
       "    <tr>\n",
       "      <th>1267</th>\n",
       "      <td>2020</td>\n",
       "      <td>UZB</td>\n",
       "      <td>2</td>\n",
       "    </tr>\n",
       "    <tr>\n",
       "      <th>1268</th>\n",
       "      <td>2020</td>\n",
       "      <td>VEN</td>\n",
       "      <td>0</td>\n",
       "    </tr>\n",
       "    <tr>\n",
       "      <th>1269</th>\n",
       "      <td>2020</td>\n",
       "      <td>VIE</td>\n",
       "      <td>0</td>\n",
       "    </tr>\n",
       "    <tr>\n",
       "      <th>1270</th>\n",
       "      <td>2020</td>\n",
       "      <td>ZAM</td>\n",
       "      <td>0</td>\n",
       "    </tr>\n",
       "  </tbody>\n",
       "</table>\n",
       "<p>1271 rows × 3 columns</p>\n",
       "</div>"
      ],
      "text/plain": [
       "      edition country_noc  medal\n",
       "0        1896         BUL      0\n",
       "1        1896         FRA      0\n",
       "2        1896         GRE     12\n",
       "3        1900         BOH      1\n",
       "4        1900         CUB      2\n",
       "...       ...         ...    ...\n",
       "1266     2020         USA     20\n",
       "1267     2020         UZB      2\n",
       "1268     2020         VEN      0\n",
       "1269     2020         VIE      0\n",
       "1270     2020         ZAM      0\n",
       "\n",
       "[1271 rows x 3 columns]"
      ]
     },
     "execution_count": 55,
     "metadata": {},
     "output_type": "execute_result"
    }
   ],
   "source": [
    "sport = \"Athletics\"\n",
    "\n",
    "athlete_results = athlete_results[athlete_Event_Results['sport'] == sport]\n",
    "\n",
    "df = pd.DataFrame(athlete_results.groupby(['edition','country_noc']).sum()).reset_index()\n",
    "\n",
    "df"
   ]
  },
  {
   "cell_type": "code",
   "execution_count": 56,
   "metadata": {},
   "outputs": [
    {
     "data": {
      "text/html": [
       "<div>\n",
       "<style scoped>\n",
       "    .dataframe tbody tr th:only-of-type {\n",
       "        vertical-align: middle;\n",
       "    }\n",
       "\n",
       "    .dataframe tbody tr th {\n",
       "        vertical-align: top;\n",
       "    }\n",
       "\n",
       "    .dataframe thead th {\n",
       "        text-align: right;\n",
       "    }\n",
       "</style>\n",
       "<table border=\"1\" class=\"dataframe\">\n",
       "  <thead>\n",
       "    <tr style=\"text-align: right;\">\n",
       "      <th></th>\n",
       "      <th>edition</th>\n",
       "      <th>country_noc</th>\n",
       "      <th>medals</th>\n",
       "    </tr>\n",
       "  </thead>\n",
       "  <tbody>\n",
       "    <tr>\n",
       "      <th>0</th>\n",
       "      <td>1896</td>\n",
       "      <td>BUL</td>\n",
       "      <td>0</td>\n",
       "    </tr>\n",
       "    <tr>\n",
       "      <th>1</th>\n",
       "      <td>1896</td>\n",
       "      <td>FRA</td>\n",
       "      <td>0</td>\n",
       "    </tr>\n",
       "    <tr>\n",
       "      <th>2</th>\n",
       "      <td>1896</td>\n",
       "      <td>GRE</td>\n",
       "      <td>12</td>\n",
       "    </tr>\n",
       "    <tr>\n",
       "      <th>3</th>\n",
       "      <td>1900</td>\n",
       "      <td>BOH</td>\n",
       "      <td>1</td>\n",
       "    </tr>\n",
       "    <tr>\n",
       "      <th>4</th>\n",
       "      <td>1900</td>\n",
       "      <td>CUB</td>\n",
       "      <td>2</td>\n",
       "    </tr>\n",
       "    <tr>\n",
       "      <th>...</th>\n",
       "      <td>...</td>\n",
       "      <td>...</td>\n",
       "      <td>...</td>\n",
       "    </tr>\n",
       "    <tr>\n",
       "      <th>1266</th>\n",
       "      <td>2020</td>\n",
       "      <td>USA</td>\n",
       "      <td>323</td>\n",
       "    </tr>\n",
       "    <tr>\n",
       "      <th>1267</th>\n",
       "      <td>2020</td>\n",
       "      <td>UZB</td>\n",
       "      <td>8</td>\n",
       "    </tr>\n",
       "    <tr>\n",
       "      <th>1268</th>\n",
       "      <td>2020</td>\n",
       "      <td>VEN</td>\n",
       "      <td>2</td>\n",
       "    </tr>\n",
       "    <tr>\n",
       "      <th>1269</th>\n",
       "      <td>2020</td>\n",
       "      <td>VIE</td>\n",
       "      <td>2</td>\n",
       "    </tr>\n",
       "    <tr>\n",
       "      <th>1270</th>\n",
       "      <td>2020</td>\n",
       "      <td>ZAM</td>\n",
       "      <td>1</td>\n",
       "    </tr>\n",
       "  </tbody>\n",
       "</table>\n",
       "<p>1271 rows × 3 columns</p>\n",
       "</div>"
      ],
      "text/plain": [
       "      edition country_noc  medals\n",
       "0        1896         BUL       0\n",
       "1        1896         FRA       0\n",
       "2        1896         GRE      12\n",
       "3        1900         BOH       1\n",
       "4        1900         CUB       2\n",
       "...       ...         ...     ...\n",
       "1266     2020         USA     323\n",
       "1267     2020         UZB       8\n",
       "1268     2020         VEN       2\n",
       "1269     2020         VIE       2\n",
       "1270     2020         ZAM       1\n",
       "\n",
       "[1271 rows x 3 columns]"
      ]
     },
     "execution_count": 56,
     "metadata": {},
     "output_type": "execute_result"
    }
   ],
   "source": [
    "new_medal = []\n",
    "for i in range(len(df)):\n",
    "    edition = df.loc[i, 'edition']\n",
    "    country = df.loc[i, 'country_noc']\n",
    "    medals = df.loc[i, 'medal']\n",
    "\n",
    "    new_medal.append(df[(df['edition'] <= edition) & (df['country_noc'] == country)]['medal'].sum())\n",
    "\n",
    "df['medals'] = new_medal\n",
    "df.drop(columns=['medal'], inplace=True)\n",
    "\n",
    "df"
   ]
  },
  {
   "cell_type": "code",
   "execution_count": 67,
   "metadata": {},
   "outputs": [
    {
     "data": {
      "application/vnd.plotly.v1+json": {
       "config": {
        "plotlyServerURL": "https://plot.ly"
       },
       "data": [
        {
         "cliponaxis": false,
         "hoverinfo": "all",
         "marker": {
          "color": [
           "rgb(221, 176, 213)",
           "rgb(136, 88, 8)",
           "rgb(188, 58, 55)"
          ]
         },
         "orientation": "h",
         "textangle": 0,
         "textposition": "outside",
         "texttemplate": "%{y}<br>%{x:.4s}",
         "type": "bar",
         "x": [
          0,
          0,
          12
         ],
         "y": [
          "BUL",
          "FRA",
          "GRE"
         ]
        }
       ],
       "frames": [
        {
         "data": [
          {
           "cliponaxis": false,
           "hoverinfo": "all",
           "hovertemplate": "<extra></extra>",
           "marker": {
            "color": [
             "rgb(221, 176, 213)",
             "rgb(136, 88, 8)",
             "rgb(188, 58, 55)"
            ]
           },
           "orientation": "h",
           "textangle": 0,
           "textposition": "outside",
           "texttemplate": "%{y}<br>%{x:.4s}",
           "type": "bar",
           "x": [
            0,
            0,
            12
           ],
           "y": [
            "BUL",
            "FRA",
            "GRE"
           ]
          }
         ],
         "layout": {
          "bargap": 0.15,
          "font": {
           "size": 14
          },
          "plot_bgcolor": "#FFFFFF",
          "xaxis": {
           "range": [
            0,
            323
           ],
           "showline": true,
           "visible": true
          },
          "yaxis": {
           "showline": false,
           "visible": true
          }
         },
         "name": "1896"
        },
        {
         "data": [
          {
           "cliponaxis": false,
           "hoverinfo": "all",
           "hovertemplate": "<extra></extra>",
           "marker": {
            "color": [
             "rgb(182, 1, 189)",
             "rgb(26, 1, 196)",
             "rgb(218, 63, 179)",
             "rgb(156, 15, 179)",
             "rgb(136, 88, 8)"
            ]
           },
           "orientation": "h",
           "textangle": 0,
           "textposition": "outside",
           "texttemplate": "%{y}<br>%{x:.4s}",
           "type": "bar",
           "x": [
            1,
            2,
            7,
            8,
            15
           ],
           "y": [
            "BOH",
            "CUB",
            "GBR",
            "USA",
            "FRA"
           ]
          }
         ],
         "layout": {
          "bargap": 0.15,
          "font": {
           "size": 14
          },
          "plot_bgcolor": "#FFFFFF",
          "xaxis": {
           "range": [
            0,
            323
           ],
           "showline": true,
           "visible": true
          },
          "yaxis": {
           "showline": false,
           "visible": true
          }
         },
         "name": "1900"
        },
        {
         "data": [
          {
           "cliponaxis": false,
           "hoverinfo": "all",
           "hovertemplate": "<extra></extra>",
           "marker": {
            "color": [
             "rgb(26, 1, 196)",
             "rgb(156, 15, 179)"
            ]
           },
           "orientation": "h",
           "textangle": 0,
           "textposition": "outside",
           "texttemplate": "%{y}<br>%{x:.4s}",
           "type": "bar",
           "x": [
            4,
            37
           ],
           "y": [
            "CUB",
            "USA"
           ]
          }
         ],
         "layout": {
          "bargap": 0.15,
          "font": {
           "size": 14
          },
          "plot_bgcolor": "#FFFFFF",
          "xaxis": {
           "range": [
            0,
            323
           ],
           "showline": true,
           "visible": true
          },
          "yaxis": {
           "showline": false,
           "visible": true
          }
         },
         "name": "1904"
        },
        {
         "data": [
          {
           "cliponaxis": false,
           "hoverinfo": "all",
           "hovertemplate": "<extra></extra>",
           "marker": {
            "color": [
             "rgb(122, 121, 169)"
            ]
           },
           "orientation": "h",
           "textangle": 0,
           "textposition": "outside",
           "texttemplate": "%{y}<br>%{x:.4s}",
           "type": "bar",
           "x": [
            0
           ],
           "y": [
            "CRT"
           ]
          }
         ],
         "layout": {
          "bargap": 0.15,
          "font": {
           "size": 14
          },
          "plot_bgcolor": "#FFFFFF",
          "xaxis": {
           "range": [
            0,
            323
           ],
           "showline": true,
           "visible": true
          },
          "yaxis": {
           "showline": false,
           "visible": true
          }
         },
         "name": "1906"
        },
        {
         "data": [
          {
           "cliponaxis": false,
           "hoverinfo": "all",
           "hovertemplate": "<extra></extra>",
           "marker": {
            "color": [
             "rgb(11, 230, 172)",
             "rgb(145, 236, 235)",
             "rgb(226, 96, 123)",
             "rgb(182, 1, 189)",
             "rgb(139, 122, 48)",
             "rgb(209, 135, 208)",
             "rgb(174, 245, 2)",
             "rgb(218, 63, 179)",
             "rgb(190, 103, 133)",
             "rgb(188, 58, 55)"
            ]
           },
           "orientation": "h",
           "textangle": 0,
           "textposition": "outside",
           "texttemplate": "%{y}<br>%{x:.4s}",
           "type": "bar",
           "x": [
            0,
            0,
            1,
            1,
            1,
            2,
            4,
            8,
            9,
            13
           ],
           "y": [
            "DEN",
            "HUN",
            "ANZ",
            "BOH",
            "GER",
            "NED",
            "SWE",
            "GBR",
            "CAN",
            "GRE"
           ]
          }
         ],
         "layout": {
          "bargap": 0.15,
          "font": {
           "size": 14
          },
          "plot_bgcolor": "#FFFFFF",
          "xaxis": {
           "range": [
            0,
            323
           ],
           "showline": true,
           "visible": true
          },
          "yaxis": {
           "showline": false,
           "visible": true
          }
         },
         "name": "1908"
        },
        {
         "data": [
          {
           "cliponaxis": false,
           "hoverinfo": "all",
           "hovertemplate": "<extra></extra>",
           "marker": {
            "color": [
             "rgb(226, 96, 123)",
             "rgb(180, 143, 145)",
             "rgb(182, 1, 189)",
             "rgb(11, 230, 172)",
             "rgb(174, 245, 2)",
             "rgb(62, 134, 161)",
             "rgb(218, 63, 179)",
             "rgb(188, 58, 55)",
             "rgb(136, 88, 8)",
             "rgb(156, 15, 179)"
            ]
           },
           "orientation": "h",
           "textangle": 0,
           "textposition": "outside",
           "texttemplate": "%{y}<br>%{x:.4s}",
           "type": "bar",
           "x": [
            1,
            1,
            1,
            2,
            5,
            6,
            10,
            13,
            18,
            44
           ],
           "y": [
            "ANZ",
            "BEL",
            "BOH",
            "DEN",
            "SWE",
            "FIN",
            "GBR",
            "GRE",
            "FRA",
            "USA"
           ]
          }
         ],
         "layout": {
          "bargap": 0.15,
          "font": {
           "size": 14
          },
          "plot_bgcolor": "#FFFFFF",
          "xaxis": {
           "range": [
            0,
            323
           ],
           "showline": true,
           "visible": true
          },
          "yaxis": {
           "showline": false,
           "visible": true
          }
         },
         "name": "1912"
        },
        {
         "data": [
          {
           "cliponaxis": false,
           "hoverinfo": "all",
           "hovertemplate": "<extra></extra>",
           "marker": {
            "color": [
             "rgb(208, 140, 53)",
             "rgb(11, 230, 172)",
             "rgb(130, 218, 71)",
             "rgb(173, 121, 4)",
             "rgb(174, 245, 2)",
             "rgb(190, 103, 133)",
             "rgb(188, 58, 55)",
             "rgb(218, 63, 179)",
             "rgb(62, 134, 161)",
             "rgb(156, 15, 179)"
            ]
           },
           "orientation": "h",
           "textangle": 0,
           "textposition": "outside",
           "texttemplate": "%{y}<br>%{x:.4s}",
           "type": "bar",
           "x": [
            2,
            5,
            5,
            6,
            13,
            14,
            14,
            17,
            23,
            45
           ],
           "y": [
            "EST",
            "DEN",
            "NOR",
            "ITA",
            "SWE",
            "CAN",
            "GRE",
            "GBR",
            "FIN",
            "USA"
           ]
          }
         ],
         "layout": {
          "bargap": 0.15,
          "font": {
           "size": 14
          },
          "plot_bgcolor": "#FFFFFF",
          "xaxis": {
           "range": [
            0,
            323
           ],
           "showline": true,
           "visible": true
          },
          "yaxis": {
           "showline": false,
           "visible": true
          }
         },
         "name": "1920"
        },
        {
         "data": [
          {
           "cliponaxis": false,
           "hoverinfo": "all",
           "hovertemplate": "<extra></extra>",
           "marker": {
            "color": [
             "rgb(208, 140, 53)",
             "rgb(180, 143, 145)",
             "rgb(116, 93, 167)",
             "rgb(173, 121, 4)",
             "rgb(188, 58, 55)",
             "rgb(190, 103, 133)",
             "rgb(174, 245, 2)",
             "rgb(136, 88, 8)",
             "rgb(218, 63, 179)",
             "rgb(156, 15, 179)"
            ]
           },
           "orientation": "h",
           "textangle": 0,
           "textposition": "outside",
           "texttemplate": "%{y}<br>%{x:.4s}",
           "type": "bar",
           "x": [
            3,
            3,
            5,
            9,
            14,
            15,
            20,
            21,
            23,
            56
           ],
           "y": [
            "EST",
            "BEL",
            "ARG",
            "ITA",
            "GRE",
            "CAN",
            "SWE",
            "FRA",
            "GBR",
            "USA"
           ]
          }
         ],
         "layout": {
          "bargap": 0.15,
          "font": {
           "size": 14
          },
          "plot_bgcolor": "#FFFFFF",
          "xaxis": {
           "range": [
            0,
            323
           ],
           "showline": true,
           "visible": true
          },
          "yaxis": {
           "showline": false,
           "visible": true
          }
         },
         "name": "1924"
        },
        {
         "data": [
          {
           "cliponaxis": false,
           "hoverinfo": "all",
           "hovertemplate": "<extra></extra>",
           "marker": {
            "color": [
             "rgb(139, 122, 48)",
             "rgb(11, 230, 172)",
             "rgb(209, 135, 208)",
             "rgb(116, 93, 167)",
             "rgb(173, 121, 4)",
             "rgb(188, 58, 55)",
             "rgb(190, 103, 133)",
             "rgb(174, 245, 2)",
             "rgb(136, 88, 8)",
             "rgb(156, 15, 179)"
            ]
           },
           "orientation": "h",
           "textangle": 0,
           "textposition": "outside",
           "texttemplate": "%{y}<br>%{x:.4s}",
           "type": "bar",
           "x": [
            4,
            6,
            6,
            9,
            13,
            14,
            24,
            24,
            30,
            56
           ],
           "y": [
            "GER",
            "DEN",
            "NED",
            "ARG",
            "ITA",
            "GRE",
            "CAN",
            "SWE",
            "FRA",
            "USA"
           ]
          }
         ],
         "layout": {
          "bargap": 0.15,
          "font": {
           "size": 14
          },
          "plot_bgcolor": "#FFFFFF",
          "xaxis": {
           "range": [
            0,
            323
           ],
           "showline": true,
           "visible": true
          },
          "yaxis": {
           "showline": false,
           "visible": true
          }
         },
         "name": "1928"
        },
        {
         "data": [
          {
           "cliponaxis": false,
           "hoverinfo": "all",
           "hovertemplate": "<extra></extra>",
           "marker": {
            "color": [
             "rgb(48, 22, 138)",
             "rgb(180, 143, 145)",
             "rgb(80, 142, 64)",
             "rgb(116, 93, 167)",
             "rgb(188, 58, 55)",
             "rgb(173, 121, 4)",
             "rgb(190, 103, 133)",
             "rgb(218, 63, 179)",
             "rgb(174, 245, 2)",
             "rgb(156, 15, 179)"
            ]
           },
           "orientation": "h",
           "textangle": 0,
           "textposition": "outside",
           "texttemplate": "%{y}<br>%{x:.4s}",
           "type": "bar",
           "x": [
            2,
            4,
            8,
            10,
            14,
            24,
            30,
            30,
            42,
            69
           ],
           "y": [
            "JPN",
            "BEL",
            "POL",
            "ARG",
            "GRE",
            "ITA",
            "CAN",
            "GBR",
            "SWE",
            "USA"
           ]
          }
         ],
         "layout": {
          "bargap": 0.15,
          "font": {
           "size": 14
          },
          "plot_bgcolor": "#FFFFFF",
          "xaxis": {
           "range": [
            0,
            323
           ],
           "showline": true,
           "visible": true
          },
          "yaxis": {
           "showline": false,
           "visible": true
          }
         },
         "name": "1932"
        },
        {
         "data": [
          {
           "cliponaxis": false,
           "hoverinfo": "all",
           "hovertemplate": "<extra></extra>",
           "marker": {
            "color": [
             "rgb(202, 14, 71)",
             "rgb(180, 143, 145)",
             "rgb(80, 142, 64)",
             "rgb(116, 93, 167)",
             "rgb(188, 58, 55)",
             "rgb(139, 122, 48)",
             "rgb(173, 121, 4)",
             "rgb(62, 134, 161)",
             "rgb(190, 103, 133)",
             "rgb(174, 245, 2)"
            ]
           },
           "orientation": "h",
           "textangle": 0,
           "textposition": "outside",
           "texttemplate": "%{y}<br>%{x:.4s}",
           "type": "bar",
           "x": [
            3,
            4,
            11,
            14,
            14,
            24,
            27,
            29,
            32,
            44
           ],
           "y": [
            "EGY",
            "BEL",
            "POL",
            "ARG",
            "GRE",
            "GER",
            "ITA",
            "FIN",
            "CAN",
            "SWE"
           ]
          }
         ],
         "layout": {
          "bargap": 0.15,
          "font": {
           "size": 14
          },
          "plot_bgcolor": "#FFFFFF",
          "xaxis": {
           "range": [
            0,
            323
           ],
           "showline": true,
           "visible": true
          },
          "yaxis": {
           "showline": false,
           "visible": true
          }
         },
         "name": "1936"
        },
        {
         "data": [
          {
           "cliponaxis": false,
           "hoverinfo": "all",
           "hovertemplate": "<extra></extra>",
           "marker": {
            "color": [
             "rgb(213, 15, 222)",
             "rgb(209, 135, 208)",
             "rgb(188, 58, 55)",
             "rgb(116, 93, 167)",
             "rgb(190, 103, 133)",
             "rgb(136, 88, 8)",
             "rgb(218, 63, 179)",
             "rgb(173, 121, 4)",
             "rgb(174, 245, 2)",
             "rgb(156, 15, 179)"
            ]
           },
           "orientation": "h",
           "textangle": 0,
           "textposition": "outside",
           "texttemplate": "%{y}<br>%{x:.4s}",
           "type": "bar",
           "x": [
            7,
            9,
            14,
            15,
            32,
            33,
            34,
            43,
            57,
            90
           ],
           "y": [
            "SUI",
            "NED",
            "GRE",
            "ARG",
            "CAN",
            "FRA",
            "GBR",
            "ITA",
            "SWE",
            "USA"
           ]
          }
         ],
         "layout": {
          "bargap": 0.15,
          "font": {
           "size": 14
          },
          "plot_bgcolor": "#FFFFFF",
          "xaxis": {
           "range": [
            0,
            323
           ],
           "showline": true,
           "visible": true
          },
          "yaxis": {
           "showline": false,
           "visible": true
          }
         },
         "name": "1948"
        },
        {
         "data": [
          {
           "cliponaxis": false,
           "hoverinfo": "all",
           "hovertemplate": "<extra></extra>",
           "marker": {
            "color": [
             "rgb(180, 143, 145)",
             "rgb(155, 246, 235)",
             "rgb(80, 142, 64)",
             "rgb(188, 58, 55)",
             "rgb(116, 93, 167)",
             "rgb(190, 103, 133)",
             "rgb(62, 134, 161)",
             "rgb(173, 121, 4)",
             "rgb(174, 245, 2)",
             "rgb(156, 15, 179)"
            ]
           },
           "orientation": "h",
           "textangle": 0,
           "textposition": "outside",
           "texttemplate": "%{y}<br>%{x:.4s}",
           "type": "bar",
           "x": [
            7,
            8,
            11,
            14,
            16,
            32,
            32,
            43,
            59,
            99
           ],
           "y": [
            "BEL",
            "TCH",
            "POL",
            "GRE",
            "ARG",
            "CAN",
            "FIN",
            "ITA",
            "SWE",
            "USA"
           ]
          }
         ],
         "layout": {
          "bargap": 0.15,
          "font": {
           "size": 14
          },
          "plot_bgcolor": "#FFFFFF",
          "xaxis": {
           "range": [
            0,
            323
           ],
           "showline": true,
           "visible": true
          },
          "yaxis": {
           "showline": false,
           "visible": true
          }
         },
         "name": "1952"
        },
        {
         "data": [
          {
           "cliponaxis": false,
           "hoverinfo": "all",
           "hovertemplate": "<extra></extra>",
           "marker": {
            "color": [
             "rgb(80, 142, 64)",
             "rgb(116, 93, 167)",
             "rgb(139, 122, 48)",
             "rgb(190, 103, 133)",
             "rgb(136, 88, 8)",
             "rgb(218, 63, 179)",
             "rgb(173, 121, 4)",
             "rgb(142, 1, 212)",
             "rgb(174, 245, 2)",
             "rgb(156, 15, 179)"
            ]
           },
           "orientation": "h",
           "textangle": 0,
           "textposition": "outside",
           "texttemplate": "%{y}<br>%{x:.4s}",
           "type": "bar",
           "x": [
            16,
            18,
            27,
            33,
            34,
            35,
            43,
            49,
            63,
            115
           ],
           "y": [
            "POL",
            "ARG",
            "GER",
            "CAN",
            "FRA",
            "GBR",
            "ITA",
            "URS",
            "SWE",
            "USA"
           ]
          }
         ],
         "layout": {
          "bargap": 0.15,
          "font": {
           "size": 14
          },
          "plot_bgcolor": "#FFFFFF",
          "xaxis": {
           "range": [
            0,
            323
           ],
           "showline": true,
           "visible": true
          },
          "yaxis": {
           "showline": false,
           "visible": true
          }
         },
         "name": "1956"
        },
        {
         "data": [
          {
           "cliponaxis": false,
           "hoverinfo": "all",
           "hovertemplate": "<extra></extra>",
           "marker": {
            "color": [
             "rgb(155, 246, 235)",
             "rgb(48, 22, 138)",
             "rgb(188, 58, 55)",
             "rgb(116, 93, 167)",
             "rgb(190, 103, 133)",
             "rgb(218, 63, 179)",
             "rgb(142, 1, 212)",
             "rgb(173, 121, 4)",
             "rgb(174, 245, 2)",
             "rgb(156, 15, 179)"
            ]
           },
           "orientation": "h",
           "textangle": 0,
           "textposition": "outside",
           "texttemplate": "%{y}<br>%{x:.4s}",
           "type": "bar",
           "x": [
            10,
            12,
            15,
            18,
            33,
            37,
            56,
            65,
            65,
            129
           ],
           "y": [
            "TCH",
            "JPN",
            "GRE",
            "ARG",
            "CAN",
            "GBR",
            "URS",
            "ITA",
            "SWE",
            "USA"
           ]
          }
         ],
         "layout": {
          "bargap": 0.15,
          "font": {
           "size": 14
          },
          "plot_bgcolor": "#FFFFFF",
          "xaxis": {
           "range": [
            0,
            323
           ],
           "showline": true,
           "visible": true
          },
          "yaxis": {
           "showline": false,
           "visible": true
          }
         },
         "name": "1960"
        },
        {
         "data": [
          {
           "cliponaxis": false,
           "hoverinfo": "all",
           "hovertemplate": "<extra></extra>",
           "marker": {
            "color": [
             "rgb(80, 142, 64)",
             "rgb(139, 122, 48)",
             "rgb(62, 134, 161)",
             "rgb(190, 103, 133)",
             "rgb(136, 88, 8)",
             "rgb(218, 63, 179)",
             "rgb(142, 1, 212)",
             "rgb(173, 121, 4)",
             "rgb(174, 245, 2)",
             "rgb(156, 15, 179)"
            ]
           },
           "orientation": "h",
           "textangle": 0,
           "textposition": "outside",
           "texttemplate": "%{y}<br>%{x:.4s}",
           "type": "bar",
           "x": [
            26,
            27,
            32,
            35,
            35,
            39,
            61,
            66,
            67,
            139
           ],
           "y": [
            "POL",
            "GER",
            "FIN",
            "CAN",
            "FRA",
            "GBR",
            "URS",
            "ITA",
            "SWE",
            "USA"
           ]
          }
         ],
         "layout": {
          "bargap": 0.15,
          "font": {
           "size": 14
          },
          "plot_bgcolor": "#FFFFFF",
          "xaxis": {
           "range": [
            0,
            323
           ],
           "showline": true,
           "visible": true
          },
          "yaxis": {
           "showline": false,
           "visible": true
          }
         },
         "name": "1964"
        },
        {
         "data": [
          {
           "cliponaxis": false,
           "hoverinfo": "all",
           "hovertemplate": "<extra></extra>",
           "marker": {
            "color": [
             "rgb(48, 22, 138)",
             "rgb(145, 236, 235)",
             "rgb(80, 142, 64)",
             "rgb(62, 134, 161)",
             "rgb(136, 88, 8)",
             "rgb(190, 103, 133)",
             "rgb(218, 63, 179)",
             "rgb(173, 121, 4)",
             "rgb(142, 1, 212)",
             "rgb(156, 15, 179)"
            ]
           },
           "orientation": "h",
           "textangle": 0,
           "textposition": "outside",
           "texttemplate": "%{y}<br>%{x:.4s}",
           "type": "bar",
           "x": [
            22,
            26,
            30,
            32,
            35,
            35,
            39,
            66,
            83,
            165
           ],
           "y": [
            "JPN",
            "HUN",
            "POL",
            "FIN",
            "FRA",
            "CAN",
            "GBR",
            "ITA",
            "URS",
            "USA"
           ]
          }
         ],
         "layout": {
          "bargap": 0.15,
          "font": {
           "size": 14
          },
          "plot_bgcolor": "#FFFFFF",
          "xaxis": {
           "range": [
            0,
            323
           ],
           "showline": true,
           "visible": true
          },
          "yaxis": {
           "showline": false,
           "visible": true
          }
         },
         "name": "1968"
        },
        {
         "data": [
          {
           "cliponaxis": false,
           "hoverinfo": "all",
           "hovertemplate": "<extra></extra>",
           "marker": {
            "color": [
             "rgb(116, 93, 167)",
             "rgb(48, 22, 138)",
             "rgb(145, 236, 235)",
             "rgb(80, 142, 64)",
             "rgb(190, 103, 133)",
             "rgb(218, 63, 179)",
             "rgb(173, 121, 4)",
             "rgb(174, 245, 2)",
             "rgb(142, 1, 212)",
             "rgb(156, 15, 179)"
            ]
           },
           "orientation": "h",
           "textangle": 0,
           "textposition": "outside",
           "texttemplate": "%{y}<br>%{x:.4s}",
           "type": "bar",
           "x": [
            19,
            32,
            33,
            35,
            36,
            41,
            67,
            69,
            97,
            173
           ],
           "y": [
            "ARG",
            "JPN",
            "HUN",
            "POL",
            "CAN",
            "GBR",
            "ITA",
            "SWE",
            "URS",
            "USA"
           ]
          }
         ],
         "layout": {
          "bargap": 0.15,
          "font": {
           "size": 14
          },
          "plot_bgcolor": "#FFFFFF",
          "xaxis": {
           "range": [
            0,
            323
           ],
           "showline": true,
           "visible": true
          },
          "yaxis": {
           "showline": false,
           "visible": true
          }
         },
         "name": "1972"
        },
        {
         "data": [
          {
           "cliponaxis": false,
           "hoverinfo": "all",
           "hovertemplate": "<extra></extra>",
           "marker": {
            "color": [
             "rgb(150, 197, 169)",
             "rgb(48, 22, 138)",
             "rgb(190, 103, 133)",
             "rgb(136, 88, 8)",
             "rgb(80, 142, 64)",
             "rgb(218, 63, 179)",
             "rgb(145, 236, 235)",
             "rgb(173, 121, 4)",
             "rgb(142, 1, 212)",
             "rgb(156, 15, 179)"
            ]
           },
           "orientation": "h",
           "textangle": 0,
           "textposition": "outside",
           "texttemplate": "%{y}<br>%{x:.4s}",
           "type": "bar",
           "x": [
            22,
            32,
            37,
            38,
            41,
            43,
            43,
            67,
            103,
            206
           ],
           "y": [
            "FRG",
            "JPN",
            "CAN",
            "FRA",
            "POL",
            "GBR",
            "HUN",
            "ITA",
            "URS",
            "USA"
           ]
          }
         ],
         "layout": {
          "bargap": 0.15,
          "font": {
           "size": 14
          },
          "plot_bgcolor": "#FFFFFF",
          "xaxis": {
           "range": [
            0,
            323
           ],
           "showline": true,
           "visible": true
          },
          "yaxis": {
           "showline": false,
           "visible": true
          }
         },
         "name": "1976"
        },
        {
         "data": [
          {
           "cliponaxis": false,
           "hoverinfo": "all",
           "hovertemplate": "<extra></extra>",
           "marker": {
            "color": [
             "rgb(155, 246, 235)",
             "rgb(221, 176, 213)",
             "rgb(188, 58, 55)",
             "rgb(0, 229, 202)",
             "rgb(80, 142, 64)",
             "rgb(218, 63, 179)",
             "rgb(145, 236, 235)",
             "rgb(173, 121, 4)",
             "rgb(174, 245, 2)",
             "rgb(142, 1, 212)"
            ]
           },
           "orientation": "h",
           "textangle": 0,
           "textposition": "outside",
           "texttemplate": "%{y}<br>%{x:.4s}",
           "type": "bar",
           "x": [
            15,
            16,
            18,
            28,
            41,
            49,
            51,
            70,
            71,
            113
           ],
           "y": [
            "TCH",
            "BUL",
            "GRE",
            "GDR",
            "POL",
            "GBR",
            "HUN",
            "ITA",
            "SWE",
            "URS"
           ]
          }
         ],
         "layout": {
          "bargap": 0.15,
          "font": {
           "size": 14
          },
          "plot_bgcolor": "#FFFFFF",
          "xaxis": {
           "range": [
            0,
            323
           ],
           "showline": true,
           "visible": true
          },
          "yaxis": {
           "showline": false,
           "visible": true
          }
         },
         "name": "1980"
        },
        {
         "data": [
          {
           "cliponaxis": false,
           "hoverinfo": "all",
           "hovertemplate": "<extra></extra>",
           "marker": {
            "color": [
             "rgb(150, 197, 169)",
             "rgb(48, 22, 138)",
             "rgb(62, 134, 161)",
             "rgb(136, 88, 8)",
             "rgb(190, 103, 133)",
             "rgb(20, 57, 213)",
             "rgb(218, 63, 179)",
             "rgb(173, 121, 4)",
             "rgb(174, 245, 2)",
             "rgb(156, 15, 179)"
            ]
           },
           "orientation": "h",
           "textangle": 0,
           "textposition": "outside",
           "texttemplate": "%{y}<br>%{x:.4s}",
           "type": "bar",
           "x": [
            24,
            34,
            37,
            38,
            46,
            51,
            55,
            70,
            73,
            229
           ],
           "y": [
            "FRG",
            "JPN",
            "FIN",
            "FRA",
            "CAN",
            "ROU",
            "GBR",
            "ITA",
            "SWE",
            "USA"
           ]
          }
         ],
         "layout": {
          "bargap": 0.15,
          "font": {
           "size": 14
          },
          "plot_bgcolor": "#FFFFFF",
          "xaxis": {
           "range": [
            0,
            323
           ],
           "showline": true,
           "visible": true
          },
          "yaxis": {
           "showline": false,
           "visible": true
          }
         },
         "name": "1984"
        },
        {
         "data": [
          {
           "cliponaxis": false,
           "hoverinfo": "all",
           "hovertemplate": "<extra></extra>",
           "marker": {
            "color": [
             "rgb(136, 88, 8)",
             "rgb(190, 103, 133)",
             "rgb(80, 142, 64)",
             "rgb(145, 236, 235)",
             "rgb(218, 63, 179)",
             "rgb(20, 57, 213)",
             "rgb(173, 121, 4)",
             "rgb(174, 245, 2)",
             "rgb(142, 1, 212)",
             "rgb(156, 15, 179)"
            ]
           },
           "orientation": "h",
           "textangle": 0,
           "textposition": "outside",
           "texttemplate": "%{y}<br>%{x:.4s}",
           "type": "bar",
           "x": [
            41,
            47,
            49,
            57,
            59,
            64,
            72,
            73,
            128,
            237
           ],
           "y": [
            "FRA",
            "CAN",
            "POL",
            "HUN",
            "GBR",
            "ROU",
            "ITA",
            "SWE",
            "URS",
            "USA"
           ]
          }
         ],
         "layout": {
          "bargap": 0.15,
          "font": {
           "size": 14
          },
          "plot_bgcolor": "#FFFFFF",
          "xaxis": {
           "range": [
            0,
            323
           ],
           "showline": true,
           "visible": true
          },
          "yaxis": {
           "showline": false,
           "visible": true
          }
         },
         "name": "1988"
        },
        {
         "data": [
          {
           "cliponaxis": false,
           "hoverinfo": "all",
           "hovertemplate": "<extra></extra>",
           "marker": {
            "color": [
             "rgb(48, 22, 138)",
             "rgb(136, 88, 8)",
             "rgb(190, 103, 133)",
             "rgb(139, 122, 48)",
             "rgb(20, 57, 213)",
             "rgb(145, 236, 235)",
             "rgb(173, 121, 4)",
             "rgb(218, 63, 179)",
             "rgb(174, 245, 2)",
             "rgb(156, 15, 179)"
            ]
           },
           "orientation": "h",
           "textangle": 0,
           "textposition": "outside",
           "texttemplate": "%{y}<br>%{x:.4s}",
           "type": "bar",
           "x": [
            36,
            43,
            48,
            53,
            65,
            67,
            73,
            74,
            78,
            243
           ],
           "y": [
            "JPN",
            "FRA",
            "CAN",
            "GER",
            "ROU",
            "HUN",
            "ITA",
            "GBR",
            "SWE",
            "USA"
           ]
          }
         ],
         "layout": {
          "bargap": 0.15,
          "font": {
           "size": 14
          },
          "plot_bgcolor": "#FFFFFF",
          "xaxis": {
           "range": [
            0,
            323
           ],
           "showline": true,
           "visible": true
          },
          "yaxis": {
           "showline": false,
           "visible": true
          }
         },
         "name": "1992"
        },
        {
         "data": [
          {
           "cliponaxis": false,
           "hoverinfo": "all",
           "hovertemplate": "<extra></extra>",
           "marker": {
            "color": [
             "rgb(48, 22, 138)",
             "rgb(80, 142, 64)",
             "rgb(190, 103, 133)",
             "rgb(136, 88, 8)",
             "rgb(145, 236, 235)",
             "rgb(218, 63, 179)",
             "rgb(20, 57, 213)",
             "rgb(173, 121, 4)",
             "rgb(139, 122, 48)",
             "rgb(156, 15, 179)"
            ]
           },
           "orientation": "h",
           "textangle": 0,
           "textposition": "outside",
           "texttemplate": "%{y}<br>%{x:.4s}",
           "type": "bar",
           "x": [
            45,
            50,
            52,
            53,
            70,
            76,
            80,
            81,
            92,
            252
           ],
           "y": [
            "JPN",
            "POL",
            "CAN",
            "FRA",
            "HUN",
            "GBR",
            "ROU",
            "ITA",
            "GER",
            "USA"
           ]
          }
         ],
         "layout": {
          "bargap": 0.15,
          "font": {
           "size": 14
          },
          "plot_bgcolor": "#FFFFFF",
          "xaxis": {
           "range": [
            0,
            323
           ],
           "showline": true,
           "visible": true
          },
          "yaxis": {
           "showline": false,
           "visible": true
          }
         },
         "name": "1996"
        },
        {
         "data": [
          {
           "cliponaxis": false,
           "hoverinfo": "all",
           "hovertemplate": "<extra></extra>",
           "marker": {
            "color": [
             "rgb(34, 44, 175)",
             "rgb(26, 1, 196)",
             "rgb(48, 22, 138)",
             "rgb(190, 103, 133)",
             "rgb(136, 88, 8)",
             "rgb(145, 236, 235)",
             "rgb(174, 245, 2)",
             "rgb(173, 121, 4)",
             "rgb(139, 122, 48)",
             "rgb(156, 15, 179)"
            ]
           },
           "orientation": "h",
           "textangle": 0,
           "textposition": "outside",
           "texttemplate": "%{y}<br>%{x:.4s}",
           "type": "bar",
           "x": [
            29,
            35,
            45,
            55,
            63,
            72,
            81,
            98,
            109,
            256
           ],
           "y": [
            "AUS",
            "CUB",
            "JPN",
            "CAN",
            "FRA",
            "HUN",
            "SWE",
            "ITA",
            "GER",
            "USA"
           ]
          }
         ],
         "layout": {
          "bargap": 0.15,
          "font": {
           "size": 14
          },
          "plot_bgcolor": "#FFFFFF",
          "xaxis": {
           "range": [
            0,
            323
           ],
           "showline": true,
           "visible": true
          },
          "yaxis": {
           "showline": false,
           "visible": true
          }
         },
         "name": "2000"
        },
        {
         "data": [
          {
           "cliponaxis": false,
           "hoverinfo": "all",
           "hovertemplate": "<extra></extra>",
           "marker": {
            "color": [
             "rgb(188, 58, 55)",
             "rgb(34, 44, 175)",
             "rgb(48, 22, 138)",
             "rgb(80, 142, 64)",
             "rgb(190, 103, 133)",
             "rgb(136, 88, 8)",
             "rgb(145, 236, 235)",
             "rgb(173, 121, 4)",
             "rgb(139, 122, 48)",
             "rgb(156, 15, 179)"
            ]
           },
           "orientation": "h",
           "textangle": 0,
           "textposition": "outside",
           "texttemplate": "%{y}<br>%{x:.4s}",
           "type": "bar",
           "x": [
            33,
            37,
            49,
            51,
            59,
            64,
            75,
            101,
            117,
            277
           ],
           "y": [
            "GRE",
            "AUS",
            "JPN",
            "POL",
            "CAN",
            "FRA",
            "HUN",
            "ITA",
            "GER",
            "USA"
           ]
          }
         ],
         "layout": {
          "bargap": 0.15,
          "font": {
           "size": 14
          },
          "plot_bgcolor": "#FFFFFF",
          "xaxis": {
           "range": [
            0,
            323
           ],
           "showline": true,
           "visible": true
          },
          "yaxis": {
           "showline": false,
           "visible": true
          }
         },
         "name": "2004"
        },
        {
         "data": [
          {
           "cliponaxis": false,
           "hoverinfo": "all",
           "hovertemplate": "<extra></extra>",
           "marker": {
            "color": [
             "rgb(62, 134, 161)",
             "rgb(12, 65, 252)",
             "rgb(48, 22, 138)",
             "rgb(190, 103, 133)",
             "rgb(34, 44, 175)",
             "rgb(136, 88, 8)",
             "rgb(145, 236, 235)",
             "rgb(174, 245, 2)",
             "rgb(139, 122, 48)",
             "rgb(156, 15, 179)"
            ]
           },
           "orientation": "h",
           "textangle": 0,
           "textposition": "outside",
           "texttemplate": "%{y}<br>%{x:.4s}",
           "type": "bar",
           "x": [
            39,
            43,
            53,
            60,
            69,
            76,
            79,
            82,
            126,
            285
           ],
           "y": [
            "FIN",
            "CHN",
            "JPN",
            "CAN",
            "AUS",
            "FRA",
            "HUN",
            "SWE",
            "GER",
            "USA"
           ]
          }
         ],
         "layout": {
          "bargap": 0.15,
          "font": {
           "size": 14
          },
          "plot_bgcolor": "#FFFFFF",
          "xaxis": {
           "range": [
            0,
            323
           ],
           "showline": true,
           "visible": true
          },
          "yaxis": {
           "showline": false,
           "visible": true
          }
         },
         "name": "2008"
        },
        {
         "data": [
          {
           "cliponaxis": false,
           "hoverinfo": "all",
           "hovertemplate": "<extra></extra>",
           "marker": {
            "color": [
             "rgb(190, 103, 133)",
             "rgb(218, 63, 179)",
             "rgb(20, 57, 213)",
             "rgb(145, 236, 235)",
             "rgb(174, 245, 2)",
             "rgb(136, 88, 8)",
             "rgb(34, 44, 175)",
             "rgb(173, 121, 4)",
             "rgb(139, 122, 48)",
             "rgb(156, 15, 179)"
            ]
           },
           "orientation": "h",
           "textangle": 0,
           "textposition": "outside",
           "texttemplate": "%{y}<br>%{x:.4s}",
           "type": "bar",
           "x": [
            66,
            78,
            80,
            81,
            82,
            85,
            93,
            107,
            134,
            299
           ],
           "y": [
            "CAN",
            "GBR",
            "ROU",
            "HUN",
            "SWE",
            "FRA",
            "AUS",
            "ITA",
            "GER",
            "USA"
           ]
          }
         ],
         "layout": {
          "bargap": 0.15,
          "font": {
           "size": 14
          },
          "plot_bgcolor": "#FFFFFF",
          "xaxis": {
           "range": [
            0,
            323
           ],
           "showline": true,
           "visible": true
          },
          "yaxis": {
           "showline": false,
           "visible": true
          }
         },
         "name": "2012"
        },
        {
         "data": [
          {
           "cliponaxis": false,
           "hoverinfo": "all",
           "hovertemplate": "<extra></extra>",
           "marker": {
            "color": [
             "rgb(12, 65, 252)",
             "rgb(48, 22, 138)",
             "rgb(190, 103, 133)",
             "rgb(145, 236, 235)",
             "rgb(20, 57, 213)",
             "rgb(136, 88, 8)",
             "rgb(34, 44, 175)",
             "rgb(218, 63, 179)",
             "rgb(173, 121, 4)",
             "rgb(156, 15, 179)"
            ]
           },
           "orientation": "h",
           "textangle": 0,
           "textposition": "outside",
           "texttemplate": "%{y}<br>%{x:.4s}",
           "type": "bar",
           "x": [
            54,
            69,
            71,
            81,
            84,
            90,
            93,
            100,
            117,
            303
           ],
           "y": [
            "CHN",
            "JPN",
            "CAN",
            "HUN",
            "ROU",
            "FRA",
            "AUS",
            "GBR",
            "ITA",
            "USA"
           ]
          }
         ],
         "layout": {
          "bargap": 0.15,
          "font": {
           "size": 14
          },
          "plot_bgcolor": "#FFFFFF",
          "xaxis": {
           "range": [
            0,
            323
           ],
           "showline": true,
           "visible": true
          },
          "yaxis": {
           "showline": false,
           "visible": true
          }
         },
         "name": "2016"
        },
        {
         "data": [
          {
           "cliponaxis": false,
           "hoverinfo": "all",
           "hovertemplate": "<extra></extra>",
           "marker": {
            "color": [
             "rgb(145, 236, 235)",
             "rgb(190, 103, 133)",
             "rgb(20, 57, 213)",
             "rgb(174, 245, 2)",
             "rgb(136, 88, 8)",
             "rgb(34, 44, 175)",
             "rgb(218, 63, 179)",
             "rgb(173, 121, 4)",
             "rgb(139, 122, 48)",
             "rgb(156, 15, 179)"
            ]
           },
           "orientation": "h",
           "textangle": 0,
           "textposition": "outside",
           "texttemplate": "%{y}<br>%{x:.4s}",
           "type": "bar",
           "x": [
            83,
            84,
            85,
            88,
            95,
            97,
            103,
            123,
            152,
            323
           ],
           "y": [
            "HUN",
            "CAN",
            "ROU",
            "SWE",
            "FRA",
            "AUS",
            "GBR",
            "ITA",
            "GER",
            "USA"
           ]
          }
         ],
         "layout": {
          "bargap": 0.15,
          "font": {
           "size": 14
          },
          "plot_bgcolor": "#FFFFFF",
          "xaxis": {
           "range": [
            0,
            323
           ],
           "showline": true,
           "visible": true
          },
          "yaxis": {
           "showline": false,
           "visible": true
          }
         },
         "name": "2020"
        }
       ],
       "layout": {
        "bargap": 0.15,
        "font": {
         "size": 14
        },
        "plot_bgcolor": "#FFFFFF",
        "sliders": [
         {
          "active": 0,
          "currentvalue": {
           "font": {
            "size": 20
           },
           "prefix": "Date: ",
           "visible": true,
           "xanchor": "right"
          },
          "len": 0.9,
          "pad": {
           "b": 10,
           "t": 50
          },
          "steps": [
           {
            "args": [
             [
              "1896"
             ],
             {
              "frame": {
               "duration": 800,
               "redraw": false
              },
              "mode": "immediate",
              "transition": {
               "duration": 800
              }
             }
            ],
            "label": "1896",
            "method": "animate"
           },
           {
            "args": [
             [
              "1900"
             ],
             {
              "frame": {
               "duration": 800,
               "redraw": false
              },
              "mode": "immediate",
              "transition": {
               "duration": 800
              }
             }
            ],
            "label": "1900",
            "method": "animate"
           },
           {
            "args": [
             [
              "1904"
             ],
             {
              "frame": {
               "duration": 800,
               "redraw": false
              },
              "mode": "immediate",
              "transition": {
               "duration": 800
              }
             }
            ],
            "label": "1904",
            "method": "animate"
           },
           {
            "args": [
             [
              "1906"
             ],
             {
              "frame": {
               "duration": 800,
               "redraw": false
              },
              "mode": "immediate",
              "transition": {
               "duration": 800
              }
             }
            ],
            "label": "1906",
            "method": "animate"
           },
           {
            "args": [
             [
              "1908"
             ],
             {
              "frame": {
               "duration": 800,
               "redraw": false
              },
              "mode": "immediate",
              "transition": {
               "duration": 800
              }
             }
            ],
            "label": "1908",
            "method": "animate"
           },
           {
            "args": [
             [
              "1912"
             ],
             {
              "frame": {
               "duration": 800,
               "redraw": false
              },
              "mode": "immediate",
              "transition": {
               "duration": 800
              }
             }
            ],
            "label": "1912",
            "method": "animate"
           },
           {
            "args": [
             [
              "1920"
             ],
             {
              "frame": {
               "duration": 800,
               "redraw": false
              },
              "mode": "immediate",
              "transition": {
               "duration": 800
              }
             }
            ],
            "label": "1920",
            "method": "animate"
           },
           {
            "args": [
             [
              "1924"
             ],
             {
              "frame": {
               "duration": 800,
               "redraw": false
              },
              "mode": "immediate",
              "transition": {
               "duration": 800
              }
             }
            ],
            "label": "1924",
            "method": "animate"
           },
           {
            "args": [
             [
              "1928"
             ],
             {
              "frame": {
               "duration": 800,
               "redraw": false
              },
              "mode": "immediate",
              "transition": {
               "duration": 800
              }
             }
            ],
            "label": "1928",
            "method": "animate"
           },
           {
            "args": [
             [
              "1932"
             ],
             {
              "frame": {
               "duration": 800,
               "redraw": false
              },
              "mode": "immediate",
              "transition": {
               "duration": 800
              }
             }
            ],
            "label": "1932",
            "method": "animate"
           },
           {
            "args": [
             [
              "1936"
             ],
             {
              "frame": {
               "duration": 800,
               "redraw": false
              },
              "mode": "immediate",
              "transition": {
               "duration": 800
              }
             }
            ],
            "label": "1936",
            "method": "animate"
           },
           {
            "args": [
             [
              "1948"
             ],
             {
              "frame": {
               "duration": 800,
               "redraw": false
              },
              "mode": "immediate",
              "transition": {
               "duration": 800
              }
             }
            ],
            "label": "1948",
            "method": "animate"
           },
           {
            "args": [
             [
              "1952"
             ],
             {
              "frame": {
               "duration": 800,
               "redraw": false
              },
              "mode": "immediate",
              "transition": {
               "duration": 800
              }
             }
            ],
            "label": "1952",
            "method": "animate"
           },
           {
            "args": [
             [
              "1956"
             ],
             {
              "frame": {
               "duration": 800,
               "redraw": false
              },
              "mode": "immediate",
              "transition": {
               "duration": 800
              }
             }
            ],
            "label": "1956",
            "method": "animate"
           },
           {
            "args": [
             [
              "1960"
             ],
             {
              "frame": {
               "duration": 800,
               "redraw": false
              },
              "mode": "immediate",
              "transition": {
               "duration": 800
              }
             }
            ],
            "label": "1960",
            "method": "animate"
           },
           {
            "args": [
             [
              "1964"
             ],
             {
              "frame": {
               "duration": 800,
               "redraw": false
              },
              "mode": "immediate",
              "transition": {
               "duration": 800
              }
             }
            ],
            "label": "1964",
            "method": "animate"
           },
           {
            "args": [
             [
              "1968"
             ],
             {
              "frame": {
               "duration": 800,
               "redraw": false
              },
              "mode": "immediate",
              "transition": {
               "duration": 800
              }
             }
            ],
            "label": "1968",
            "method": "animate"
           },
           {
            "args": [
             [
              "1972"
             ],
             {
              "frame": {
               "duration": 800,
               "redraw": false
              },
              "mode": "immediate",
              "transition": {
               "duration": 800
              }
             }
            ],
            "label": "1972",
            "method": "animate"
           },
           {
            "args": [
             [
              "1976"
             ],
             {
              "frame": {
               "duration": 800,
               "redraw": false
              },
              "mode": "immediate",
              "transition": {
               "duration": 800
              }
             }
            ],
            "label": "1976",
            "method": "animate"
           },
           {
            "args": [
             [
              "1980"
             ],
             {
              "frame": {
               "duration": 800,
               "redraw": false
              },
              "mode": "immediate",
              "transition": {
               "duration": 800
              }
             }
            ],
            "label": "1980",
            "method": "animate"
           },
           {
            "args": [
             [
              "1984"
             ],
             {
              "frame": {
               "duration": 800,
               "redraw": false
              },
              "mode": "immediate",
              "transition": {
               "duration": 800
              }
             }
            ],
            "label": "1984",
            "method": "animate"
           },
           {
            "args": [
             [
              "1988"
             ],
             {
              "frame": {
               "duration": 800,
               "redraw": false
              },
              "mode": "immediate",
              "transition": {
               "duration": 800
              }
             }
            ],
            "label": "1988",
            "method": "animate"
           },
           {
            "args": [
             [
              "1992"
             ],
             {
              "frame": {
               "duration": 800,
               "redraw": false
              },
              "mode": "immediate",
              "transition": {
               "duration": 800
              }
             }
            ],
            "label": "1992",
            "method": "animate"
           },
           {
            "args": [
             [
              "1996"
             ],
             {
              "frame": {
               "duration": 800,
               "redraw": false
              },
              "mode": "immediate",
              "transition": {
               "duration": 800
              }
             }
            ],
            "label": "1996",
            "method": "animate"
           },
           {
            "args": [
             [
              "2000"
             ],
             {
              "frame": {
               "duration": 800,
               "redraw": false
              },
              "mode": "immediate",
              "transition": {
               "duration": 800
              }
             }
            ],
            "label": "2000",
            "method": "animate"
           },
           {
            "args": [
             [
              "2004"
             ],
             {
              "frame": {
               "duration": 800,
               "redraw": false
              },
              "mode": "immediate",
              "transition": {
               "duration": 800
              }
             }
            ],
            "label": "2004",
            "method": "animate"
           },
           {
            "args": [
             [
              "2008"
             ],
             {
              "frame": {
               "duration": 800,
               "redraw": false
              },
              "mode": "immediate",
              "transition": {
               "duration": 800
              }
             }
            ],
            "label": "2008",
            "method": "animate"
           },
           {
            "args": [
             [
              "2012"
             ],
             {
              "frame": {
               "duration": 800,
               "redraw": false
              },
              "mode": "immediate",
              "transition": {
               "duration": 800
              }
             }
            ],
            "label": "2012",
            "method": "animate"
           },
           {
            "args": [
             [
              "2016"
             ],
             {
              "frame": {
               "duration": 800,
               "redraw": false
              },
              "mode": "immediate",
              "transition": {
               "duration": 800
              }
             }
            ],
            "label": "2016",
            "method": "animate"
           },
           {
            "args": [
             [
              "2020"
             ],
             {
              "frame": {
               "duration": 800,
               "redraw": false
              },
              "mode": "immediate",
              "transition": {
               "duration": 800
              }
             }
            ],
            "label": "2020",
            "method": "animate"
           }
          ],
          "transition": {
           "duration": 300,
           "easing": "cubic-in-out"
          },
          "x": 0.1,
          "xanchor": "left",
          "y": 0,
          "yanchor": "top"
         }
        ],
        "template": {
         "data": {
          "bar": [
           {
            "error_x": {
             "color": "#2a3f5f"
            },
            "error_y": {
             "color": "#2a3f5f"
            },
            "marker": {
             "line": {
              "color": "#E5ECF6",
              "width": 0.5
             },
             "pattern": {
              "fillmode": "overlay",
              "size": 10,
              "solidity": 0.2
             }
            },
            "type": "bar"
           }
          ],
          "barpolar": [
           {
            "marker": {
             "line": {
              "color": "#E5ECF6",
              "width": 0.5
             },
             "pattern": {
              "fillmode": "overlay",
              "size": 10,
              "solidity": 0.2
             }
            },
            "type": "barpolar"
           }
          ],
          "carpet": [
           {
            "aaxis": {
             "endlinecolor": "#2a3f5f",
             "gridcolor": "white",
             "linecolor": "white",
             "minorgridcolor": "white",
             "startlinecolor": "#2a3f5f"
            },
            "baxis": {
             "endlinecolor": "#2a3f5f",
             "gridcolor": "white",
             "linecolor": "white",
             "minorgridcolor": "white",
             "startlinecolor": "#2a3f5f"
            },
            "type": "carpet"
           }
          ],
          "choropleth": [
           {
            "colorbar": {
             "outlinewidth": 0,
             "ticks": ""
            },
            "type": "choropleth"
           }
          ],
          "contour": [
           {
            "colorbar": {
             "outlinewidth": 0,
             "ticks": ""
            },
            "colorscale": [
             [
              0,
              "#0d0887"
             ],
             [
              0.1111111111111111,
              "#46039f"
             ],
             [
              0.2222222222222222,
              "#7201a8"
             ],
             [
              0.3333333333333333,
              "#9c179e"
             ],
             [
              0.4444444444444444,
              "#bd3786"
             ],
             [
              0.5555555555555556,
              "#d8576b"
             ],
             [
              0.6666666666666666,
              "#ed7953"
             ],
             [
              0.7777777777777778,
              "#fb9f3a"
             ],
             [
              0.8888888888888888,
              "#fdca26"
             ],
             [
              1,
              "#f0f921"
             ]
            ],
            "type": "contour"
           }
          ],
          "contourcarpet": [
           {
            "colorbar": {
             "outlinewidth": 0,
             "ticks": ""
            },
            "type": "contourcarpet"
           }
          ],
          "heatmap": [
           {
            "colorbar": {
             "outlinewidth": 0,
             "ticks": ""
            },
            "colorscale": [
             [
              0,
              "#0d0887"
             ],
             [
              0.1111111111111111,
              "#46039f"
             ],
             [
              0.2222222222222222,
              "#7201a8"
             ],
             [
              0.3333333333333333,
              "#9c179e"
             ],
             [
              0.4444444444444444,
              "#bd3786"
             ],
             [
              0.5555555555555556,
              "#d8576b"
             ],
             [
              0.6666666666666666,
              "#ed7953"
             ],
             [
              0.7777777777777778,
              "#fb9f3a"
             ],
             [
              0.8888888888888888,
              "#fdca26"
             ],
             [
              1,
              "#f0f921"
             ]
            ],
            "type": "heatmap"
           }
          ],
          "heatmapgl": [
           {
            "colorbar": {
             "outlinewidth": 0,
             "ticks": ""
            },
            "colorscale": [
             [
              0,
              "#0d0887"
             ],
             [
              0.1111111111111111,
              "#46039f"
             ],
             [
              0.2222222222222222,
              "#7201a8"
             ],
             [
              0.3333333333333333,
              "#9c179e"
             ],
             [
              0.4444444444444444,
              "#bd3786"
             ],
             [
              0.5555555555555556,
              "#d8576b"
             ],
             [
              0.6666666666666666,
              "#ed7953"
             ],
             [
              0.7777777777777778,
              "#fb9f3a"
             ],
             [
              0.8888888888888888,
              "#fdca26"
             ],
             [
              1,
              "#f0f921"
             ]
            ],
            "type": "heatmapgl"
           }
          ],
          "histogram": [
           {
            "marker": {
             "pattern": {
              "fillmode": "overlay",
              "size": 10,
              "solidity": 0.2
             }
            },
            "type": "histogram"
           }
          ],
          "histogram2d": [
           {
            "colorbar": {
             "outlinewidth": 0,
             "ticks": ""
            },
            "colorscale": [
             [
              0,
              "#0d0887"
             ],
             [
              0.1111111111111111,
              "#46039f"
             ],
             [
              0.2222222222222222,
              "#7201a8"
             ],
             [
              0.3333333333333333,
              "#9c179e"
             ],
             [
              0.4444444444444444,
              "#bd3786"
             ],
             [
              0.5555555555555556,
              "#d8576b"
             ],
             [
              0.6666666666666666,
              "#ed7953"
             ],
             [
              0.7777777777777778,
              "#fb9f3a"
             ],
             [
              0.8888888888888888,
              "#fdca26"
             ],
             [
              1,
              "#f0f921"
             ]
            ],
            "type": "histogram2d"
           }
          ],
          "histogram2dcontour": [
           {
            "colorbar": {
             "outlinewidth": 0,
             "ticks": ""
            },
            "colorscale": [
             [
              0,
              "#0d0887"
             ],
             [
              0.1111111111111111,
              "#46039f"
             ],
             [
              0.2222222222222222,
              "#7201a8"
             ],
             [
              0.3333333333333333,
              "#9c179e"
             ],
             [
              0.4444444444444444,
              "#bd3786"
             ],
             [
              0.5555555555555556,
              "#d8576b"
             ],
             [
              0.6666666666666666,
              "#ed7953"
             ],
             [
              0.7777777777777778,
              "#fb9f3a"
             ],
             [
              0.8888888888888888,
              "#fdca26"
             ],
             [
              1,
              "#f0f921"
             ]
            ],
            "type": "histogram2dcontour"
           }
          ],
          "mesh3d": [
           {
            "colorbar": {
             "outlinewidth": 0,
             "ticks": ""
            },
            "type": "mesh3d"
           }
          ],
          "parcoords": [
           {
            "line": {
             "colorbar": {
              "outlinewidth": 0,
              "ticks": ""
             }
            },
            "type": "parcoords"
           }
          ],
          "pie": [
           {
            "automargin": true,
            "type": "pie"
           }
          ],
          "scatter": [
           {
            "fillpattern": {
             "fillmode": "overlay",
             "size": 10,
             "solidity": 0.2
            },
            "type": "scatter"
           }
          ],
          "scatter3d": [
           {
            "line": {
             "colorbar": {
              "outlinewidth": 0,
              "ticks": ""
             }
            },
            "marker": {
             "colorbar": {
              "outlinewidth": 0,
              "ticks": ""
             }
            },
            "type": "scatter3d"
           }
          ],
          "scattercarpet": [
           {
            "marker": {
             "colorbar": {
              "outlinewidth": 0,
              "ticks": ""
             }
            },
            "type": "scattercarpet"
           }
          ],
          "scattergeo": [
           {
            "marker": {
             "colorbar": {
              "outlinewidth": 0,
              "ticks": ""
             }
            },
            "type": "scattergeo"
           }
          ],
          "scattergl": [
           {
            "marker": {
             "colorbar": {
              "outlinewidth": 0,
              "ticks": ""
             }
            },
            "type": "scattergl"
           }
          ],
          "scattermapbox": [
           {
            "marker": {
             "colorbar": {
              "outlinewidth": 0,
              "ticks": ""
             }
            },
            "type": "scattermapbox"
           }
          ],
          "scatterpolar": [
           {
            "marker": {
             "colorbar": {
              "outlinewidth": 0,
              "ticks": ""
             }
            },
            "type": "scatterpolar"
           }
          ],
          "scatterpolargl": [
           {
            "marker": {
             "colorbar": {
              "outlinewidth": 0,
              "ticks": ""
             }
            },
            "type": "scatterpolargl"
           }
          ],
          "scatterternary": [
           {
            "marker": {
             "colorbar": {
              "outlinewidth": 0,
              "ticks": ""
             }
            },
            "type": "scatterternary"
           }
          ],
          "surface": [
           {
            "colorbar": {
             "outlinewidth": 0,
             "ticks": ""
            },
            "colorscale": [
             [
              0,
              "#0d0887"
             ],
             [
              0.1111111111111111,
              "#46039f"
             ],
             [
              0.2222222222222222,
              "#7201a8"
             ],
             [
              0.3333333333333333,
              "#9c179e"
             ],
             [
              0.4444444444444444,
              "#bd3786"
             ],
             [
              0.5555555555555556,
              "#d8576b"
             ],
             [
              0.6666666666666666,
              "#ed7953"
             ],
             [
              0.7777777777777778,
              "#fb9f3a"
             ],
             [
              0.8888888888888888,
              "#fdca26"
             ],
             [
              1,
              "#f0f921"
             ]
            ],
            "type": "surface"
           }
          ],
          "table": [
           {
            "cells": {
             "fill": {
              "color": "#EBF0F8"
             },
             "line": {
              "color": "white"
             }
            },
            "header": {
             "fill": {
              "color": "#C8D4E3"
             },
             "line": {
              "color": "white"
             }
            },
            "type": "table"
           }
          ]
         },
         "layout": {
          "annotationdefaults": {
           "arrowcolor": "#2a3f5f",
           "arrowhead": 0,
           "arrowwidth": 1
          },
          "autotypenumbers": "strict",
          "coloraxis": {
           "colorbar": {
            "outlinewidth": 0,
            "ticks": ""
           }
          },
          "colorscale": {
           "diverging": [
            [
             0,
             "#8e0152"
            ],
            [
             0.1,
             "#c51b7d"
            ],
            [
             0.2,
             "#de77ae"
            ],
            [
             0.3,
             "#f1b6da"
            ],
            [
             0.4,
             "#fde0ef"
            ],
            [
             0.5,
             "#f7f7f7"
            ],
            [
             0.6,
             "#e6f5d0"
            ],
            [
             0.7,
             "#b8e186"
            ],
            [
             0.8,
             "#7fbc41"
            ],
            [
             0.9,
             "#4d9221"
            ],
            [
             1,
             "#276419"
            ]
           ],
           "sequential": [
            [
             0,
             "#0d0887"
            ],
            [
             0.1111111111111111,
             "#46039f"
            ],
            [
             0.2222222222222222,
             "#7201a8"
            ],
            [
             0.3333333333333333,
             "#9c179e"
            ],
            [
             0.4444444444444444,
             "#bd3786"
            ],
            [
             0.5555555555555556,
             "#d8576b"
            ],
            [
             0.6666666666666666,
             "#ed7953"
            ],
            [
             0.7777777777777778,
             "#fb9f3a"
            ],
            [
             0.8888888888888888,
             "#fdca26"
            ],
            [
             1,
             "#f0f921"
            ]
           ],
           "sequentialminus": [
            [
             0,
             "#0d0887"
            ],
            [
             0.1111111111111111,
             "#46039f"
            ],
            [
             0.2222222222222222,
             "#7201a8"
            ],
            [
             0.3333333333333333,
             "#9c179e"
            ],
            [
             0.4444444444444444,
             "#bd3786"
            ],
            [
             0.5555555555555556,
             "#d8576b"
            ],
            [
             0.6666666666666666,
             "#ed7953"
            ],
            [
             0.7777777777777778,
             "#fb9f3a"
            ],
            [
             0.8888888888888888,
             "#fdca26"
            ],
            [
             1,
             "#f0f921"
            ]
           ]
          },
          "colorway": [
           "#636efa",
           "#EF553B",
           "#00cc96",
           "#ab63fa",
           "#FFA15A",
           "#19d3f3",
           "#FF6692",
           "#B6E880",
           "#FF97FF",
           "#FECB52"
          ],
          "font": {
           "color": "#2a3f5f"
          },
          "geo": {
           "bgcolor": "white",
           "lakecolor": "white",
           "landcolor": "#E5ECF6",
           "showlakes": true,
           "showland": true,
           "subunitcolor": "white"
          },
          "hoverlabel": {
           "align": "left"
          },
          "hovermode": "closest",
          "mapbox": {
           "style": "light"
          },
          "paper_bgcolor": "white",
          "plot_bgcolor": "#E5ECF6",
          "polar": {
           "angularaxis": {
            "gridcolor": "white",
            "linecolor": "white",
            "ticks": ""
           },
           "bgcolor": "#E5ECF6",
           "radialaxis": {
            "gridcolor": "white",
            "linecolor": "white",
            "ticks": ""
           }
          },
          "scene": {
           "xaxis": {
            "backgroundcolor": "#E5ECF6",
            "gridcolor": "white",
            "gridwidth": 2,
            "linecolor": "white",
            "showbackground": true,
            "ticks": "",
            "zerolinecolor": "white"
           },
           "yaxis": {
            "backgroundcolor": "#E5ECF6",
            "gridcolor": "white",
            "gridwidth": 2,
            "linecolor": "white",
            "showbackground": true,
            "ticks": "",
            "zerolinecolor": "white"
           },
           "zaxis": {
            "backgroundcolor": "#E5ECF6",
            "gridcolor": "white",
            "gridwidth": 2,
            "linecolor": "white",
            "showbackground": true,
            "ticks": "",
            "zerolinecolor": "white"
           }
          },
          "shapedefaults": {
           "line": {
            "color": "#2a3f5f"
           }
          },
          "ternary": {
           "aaxis": {
            "gridcolor": "white",
            "linecolor": "white",
            "ticks": ""
           },
           "baxis": {
            "gridcolor": "white",
            "linecolor": "white",
            "ticks": ""
           },
           "bgcolor": "#E5ECF6",
           "caxis": {
            "gridcolor": "white",
            "linecolor": "white",
            "ticks": ""
           }
          },
          "title": {
           "x": 0.05
          },
          "xaxis": {
           "automargin": true,
           "gridcolor": "white",
           "linecolor": "white",
           "ticks": "",
           "title": {
            "standoff": 15
           },
           "zerolinecolor": "white",
           "zerolinewidth": 2
          },
          "yaxis": {
           "automargin": true,
           "gridcolor": "white",
           "linecolor": "white",
           "ticks": "",
           "title": {
            "standoff": 15
           },
           "zerolinecolor": "white",
           "zerolinewidth": 2
          }
         }
        },
        "updatemenus": [
         {
          "buttons": [
           {
            "args": [
             null,
             {
              "frame": {
               "duration": 800,
               "redraw": false
              },
              "fromcurrent": true,
              "transition": {
               "duration": 800,
               "easing": "quadratic-in-out"
              }
             }
            ],
            "label": "Play",
            "method": "animate"
           },
           {
            "args": [
             [
              null
             ],
             {
              "frame": {
               "duration": 0,
               "redraw": false
              },
              "mode": "immediate",
              "transition": {
               "duration": 0
              }
             }
            ],
            "label": "Pause",
            "method": "animate"
           }
          ],
          "direction": "left",
          "pad": {
           "r": 10,
           "t": 87
          },
          "showactive": true,
          "type": "buttons",
          "x": 0.1,
          "xanchor": "right",
          "y": 0,
          "yanchor": "top"
         }
        ],
        "xaxis": {
         "range": [
          0,
          323
         ],
         "showline": true,
         "showticklabels": true,
         "title": {
          "text": "Production quantity (tonnes)"
         },
         "visible": true
        },
        "yaxis": {
         "showline": false,
         "showticklabels": false,
         "title": {
          "text": "Top 10 crops"
         },
         "visible": true
        }
       }
      }
     },
     "metadata": {},
     "output_type": "display_data"
    }
   ],
   "source": [
    "\n",
    "#1 Assign color to each unique item\n",
    "from random import sample\n",
    "import plotly.graph_objects as go\n",
    "\n",
    "colors = {item: 'rgb({}, {}, {})'.format(*sample(range(256), 3)) for item in df['country_noc'].unique()}\n",
    "df['color'] = df['country_noc'].map(colors)\n",
    "\n",
    "my_raceplot = barplot(df,  item_column='country_noc', value_column='medals', time_column='edition')\n",
    "\n",
    "my_raceplot.plot(item_label = 'Top 10 crops', value_label = 'Production quantity (tonnes)', frame_duration = 800)\n"
   ]
  },
  {
   "cell_type": "code",
   "execution_count": 68,
   "metadata": {},
   "outputs": [
    {
     "data": {
      "text/html": [
       "<div>\n",
       "<style scoped>\n",
       "    .dataframe tbody tr th:only-of-type {\n",
       "        vertical-align: middle;\n",
       "    }\n",
       "\n",
       "    .dataframe tbody tr th {\n",
       "        vertical-align: top;\n",
       "    }\n",
       "\n",
       "    .dataframe thead th {\n",
       "        text-align: right;\n",
       "    }\n",
       "</style>\n",
       "<table border=\"1\" class=\"dataframe\">\n",
       "  <thead>\n",
       "    <tr style=\"text-align: right;\">\n",
       "      <th></th>\n",
       "      <th>Domain Code</th>\n",
       "      <th>Domain</th>\n",
       "      <th>Area Code</th>\n",
       "      <th>Area</th>\n",
       "      <th>Element Code</th>\n",
       "      <th>Element</th>\n",
       "      <th>Item Code</th>\n",
       "      <th>Item</th>\n",
       "      <th>Year Code</th>\n",
       "      <th>Year</th>\n",
       "      <th>Unit</th>\n",
       "      <th>Value</th>\n",
       "      <th>Flag</th>\n",
       "      <th>Flag Description</th>\n",
       "    </tr>\n",
       "  </thead>\n",
       "  <tbody>\n",
       "    <tr>\n",
       "      <th>0</th>\n",
       "      <td>QC</td>\n",
       "      <td>Crops</td>\n",
       "      <td>5000</td>\n",
       "      <td>World</td>\n",
       "      <td>5510</td>\n",
       "      <td>Production</td>\n",
       "      <td>800</td>\n",
       "      <td>Agave fibres nes</td>\n",
       "      <td>1961</td>\n",
       "      <td>1961</td>\n",
       "      <td>tonnes</td>\n",
       "      <td>34600.0</td>\n",
       "      <td>A</td>\n",
       "      <td>Aggregate, may include official, semi-official...</td>\n",
       "    </tr>\n",
       "    <tr>\n",
       "      <th>1</th>\n",
       "      <td>QC</td>\n",
       "      <td>Crops</td>\n",
       "      <td>5000</td>\n",
       "      <td>World</td>\n",
       "      <td>5510</td>\n",
       "      <td>Production</td>\n",
       "      <td>800</td>\n",
       "      <td>Agave fibres nes</td>\n",
       "      <td>1962</td>\n",
       "      <td>1962</td>\n",
       "      <td>tonnes</td>\n",
       "      <td>32950.0</td>\n",
       "      <td>A</td>\n",
       "      <td>Aggregate, may include official, semi-official...</td>\n",
       "    </tr>\n",
       "    <tr>\n",
       "      <th>2</th>\n",
       "      <td>QC</td>\n",
       "      <td>Crops</td>\n",
       "      <td>5000</td>\n",
       "      <td>World</td>\n",
       "      <td>5510</td>\n",
       "      <td>Production</td>\n",
       "      <td>800</td>\n",
       "      <td>Agave fibres nes</td>\n",
       "      <td>1963</td>\n",
       "      <td>1963</td>\n",
       "      <td>tonnes</td>\n",
       "      <td>35000.0</td>\n",
       "      <td>A</td>\n",
       "      <td>Aggregate, may include official, semi-official...</td>\n",
       "    </tr>\n",
       "    <tr>\n",
       "      <th>3</th>\n",
       "      <td>QC</td>\n",
       "      <td>Crops</td>\n",
       "      <td>5000</td>\n",
       "      <td>World</td>\n",
       "      <td>5510</td>\n",
       "      <td>Production</td>\n",
       "      <td>800</td>\n",
       "      <td>Agave fibres nes</td>\n",
       "      <td>1964</td>\n",
       "      <td>1964</td>\n",
       "      <td>tonnes</td>\n",
       "      <td>35124.0</td>\n",
       "      <td>A</td>\n",
       "      <td>Aggregate, may include official, semi-official...</td>\n",
       "    </tr>\n",
       "    <tr>\n",
       "      <th>4</th>\n",
       "      <td>QC</td>\n",
       "      <td>Crops</td>\n",
       "      <td>5000</td>\n",
       "      <td>World</td>\n",
       "      <td>5510</td>\n",
       "      <td>Production</td>\n",
       "      <td>800</td>\n",
       "      <td>Agave fibres nes</td>\n",
       "      <td>1965</td>\n",
       "      <td>1965</td>\n",
       "      <td>tonnes</td>\n",
       "      <td>35721.0</td>\n",
       "      <td>A</td>\n",
       "      <td>Aggregate, may include official, semi-official...</td>\n",
       "    </tr>\n",
       "    <tr>\n",
       "      <th>...</th>\n",
       "      <td>...</td>\n",
       "      <td>...</td>\n",
       "      <td>...</td>\n",
       "      <td>...</td>\n",
       "      <td>...</td>\n",
       "      <td>...</td>\n",
       "      <td>...</td>\n",
       "      <td>...</td>\n",
       "      <td>...</td>\n",
       "      <td>...</td>\n",
       "      <td>...</td>\n",
       "      <td>...</td>\n",
       "      <td>...</td>\n",
       "      <td>...</td>\n",
       "    </tr>\n",
       "    <tr>\n",
       "      <th>9390</th>\n",
       "      <td>QC</td>\n",
       "      <td>Crops</td>\n",
       "      <td>5000</td>\n",
       "      <td>World</td>\n",
       "      <td>5510</td>\n",
       "      <td>Production</td>\n",
       "      <td>135</td>\n",
       "      <td>Yautia (cocoyam)</td>\n",
       "      <td>2014</td>\n",
       "      <td>2014</td>\n",
       "      <td>tonnes</td>\n",
       "      <td>548968.0</td>\n",
       "      <td>A</td>\n",
       "      <td>Aggregate, may include official, semi-official...</td>\n",
       "    </tr>\n",
       "    <tr>\n",
       "      <th>9391</th>\n",
       "      <td>QC</td>\n",
       "      <td>Crops</td>\n",
       "      <td>5000</td>\n",
       "      <td>World</td>\n",
       "      <td>5510</td>\n",
       "      <td>Production</td>\n",
       "      <td>135</td>\n",
       "      <td>Yautia (cocoyam)</td>\n",
       "      <td>2015</td>\n",
       "      <td>2015</td>\n",
       "      <td>tonnes</td>\n",
       "      <td>515236.0</td>\n",
       "      <td>A</td>\n",
       "      <td>Aggregate, may include official, semi-official...</td>\n",
       "    </tr>\n",
       "    <tr>\n",
       "      <th>9392</th>\n",
       "      <td>QC</td>\n",
       "      <td>Crops</td>\n",
       "      <td>5000</td>\n",
       "      <td>World</td>\n",
       "      <td>5510</td>\n",
       "      <td>Production</td>\n",
       "      <td>135</td>\n",
       "      <td>Yautia (cocoyam)</td>\n",
       "      <td>2016</td>\n",
       "      <td>2016</td>\n",
       "      <td>tonnes</td>\n",
       "      <td>485076.0</td>\n",
       "      <td>A</td>\n",
       "      <td>Aggregate, may include official, semi-official...</td>\n",
       "    </tr>\n",
       "    <tr>\n",
       "      <th>9393</th>\n",
       "      <td>QC</td>\n",
       "      <td>Crops</td>\n",
       "      <td>5000</td>\n",
       "      <td>World</td>\n",
       "      <td>5510</td>\n",
       "      <td>Production</td>\n",
       "      <td>135</td>\n",
       "      <td>Yautia (cocoyam)</td>\n",
       "      <td>2017</td>\n",
       "      <td>2017</td>\n",
       "      <td>tonnes</td>\n",
       "      <td>442831.0</td>\n",
       "      <td>A</td>\n",
       "      <td>Aggregate, may include official, semi-official...</td>\n",
       "    </tr>\n",
       "    <tr>\n",
       "      <th>9394</th>\n",
       "      <td>QC</td>\n",
       "      <td>Crops</td>\n",
       "      <td>5000</td>\n",
       "      <td>World</td>\n",
       "      <td>5510</td>\n",
       "      <td>Production</td>\n",
       "      <td>135</td>\n",
       "      <td>Yautia (cocoyam)</td>\n",
       "      <td>2018</td>\n",
       "      <td>2018</td>\n",
       "      <td>tonnes</td>\n",
       "      <td>457416.0</td>\n",
       "      <td>A</td>\n",
       "      <td>Aggregate, may include official, semi-official...</td>\n",
       "    </tr>\n",
       "  </tbody>\n",
       "</table>\n",
       "<p>9395 rows × 14 columns</p>\n",
       "</div>"
      ],
      "text/plain": [
       "     Domain Code Domain  Area Code   Area  Element Code     Element  \\\n",
       "0             QC  Crops       5000  World          5510  Production   \n",
       "1             QC  Crops       5000  World          5510  Production   \n",
       "2             QC  Crops       5000  World          5510  Production   \n",
       "3             QC  Crops       5000  World          5510  Production   \n",
       "4             QC  Crops       5000  World          5510  Production   \n",
       "...          ...    ...        ...    ...           ...         ...   \n",
       "9390          QC  Crops       5000  World          5510  Production   \n",
       "9391          QC  Crops       5000  World          5510  Production   \n",
       "9392          QC  Crops       5000  World          5510  Production   \n",
       "9393          QC  Crops       5000  World          5510  Production   \n",
       "9394          QC  Crops       5000  World          5510  Production   \n",
       "\n",
       "      Item Code              Item  Year Code  Year    Unit     Value Flag  \\\n",
       "0           800  Agave fibres nes       1961  1961  tonnes   34600.0    A   \n",
       "1           800  Agave fibres nes       1962  1962  tonnes   32950.0    A   \n",
       "2           800  Agave fibres nes       1963  1963  tonnes   35000.0    A   \n",
       "3           800  Agave fibres nes       1964  1964  tonnes   35124.0    A   \n",
       "4           800  Agave fibres nes       1965  1965  tonnes   35721.0    A   \n",
       "...         ...               ...        ...   ...     ...       ...  ...   \n",
       "9390        135  Yautia (cocoyam)       2014  2014  tonnes  548968.0    A   \n",
       "9391        135  Yautia (cocoyam)       2015  2015  tonnes  515236.0    A   \n",
       "9392        135  Yautia (cocoyam)       2016  2016  tonnes  485076.0    A   \n",
       "9393        135  Yautia (cocoyam)       2017  2017  tonnes  442831.0    A   \n",
       "9394        135  Yautia (cocoyam)       2018  2018  tonnes  457416.0    A   \n",
       "\n",
       "                                       Flag Description  \n",
       "0     Aggregate, may include official, semi-official...  \n",
       "1     Aggregate, may include official, semi-official...  \n",
       "2     Aggregate, may include official, semi-official...  \n",
       "3     Aggregate, may include official, semi-official...  \n",
       "4     Aggregate, may include official, semi-official...  \n",
       "...                                                 ...  \n",
       "9390  Aggregate, may include official, semi-official...  \n",
       "9391  Aggregate, may include official, semi-official...  \n",
       "9392  Aggregate, may include official, semi-official...  \n",
       "9393  Aggregate, may include official, semi-official...  \n",
       "9394  Aggregate, may include official, semi-official...  \n",
       "\n",
       "[9395 rows x 14 columns]"
      ]
     },
     "metadata": {},
     "output_type": "display_data"
    },
    {
     "data": {
      "application/vnd.plotly.v1+json": {
       "config": {
        "plotlyServerURL": "https://plot.ly"
       },
       "data": [
        {
         "cliponaxis": false,
         "hoverinfo": "all",
         "marker": {
          "color": [
           "rgb(48, 6, 167)",
           "rgb(29, 99, 117)",
           "rgb(127, 208, 177)",
           "rgb(165, 117, 212)",
           "rgb(41, 116, 112)",
           "rgb(12, 1, 9)",
           "rgb(27, 70, 193)",
           "rgb(70, 244, 218)",
           "rgb(220, 140, 45)",
           "rgb(48, 20, 198)"
          ]
         },
         "orientation": "h",
         "textangle": 0,
         "textposition": "outside",
         "texttemplate": "%{y}<br>%{x:.4s}",
         "type": "bar",
         "x": [
          71259839,
          72411104,
          98192635,
          143836304,
          160501987,
          205027583,
          215646633,
          222357231,
          270552196,
          447977522
         ],
         "y": [
          "Cassava",
          "Barley",
          "Sweet potatoes",
          "Rice, paddy (rice milled equivalent)",
          "Sugar beet",
          "Maize",
          "Rice, paddy",
          "Wheat",
          "Potatoes",
          "Sugar cane"
         ]
        }
       ],
       "frames": [
        {
         "data": [
          {
           "cliponaxis": false,
           "hoverinfo": "all",
           "hovertemplate": "<extra></extra>",
           "marker": {
            "color": [
             "rgb(48, 6, 167)",
             "rgb(29, 99, 117)",
             "rgb(127, 208, 177)",
             "rgb(165, 117, 212)",
             "rgb(41, 116, 112)",
             "rgb(12, 1, 9)",
             "rgb(27, 70, 193)",
             "rgb(70, 244, 218)",
             "rgb(220, 140, 45)",
             "rgb(48, 20, 198)"
            ]
           },
           "orientation": "h",
           "textangle": 0,
           "textposition": "outside",
           "texttemplate": "%{y}<br>%{x:.4s}",
           "type": "bar",
           "x": [
            71259839,
            72411104,
            98192635,
            143836304,
            160501987,
            205027583,
            215646633,
            222357231,
            270552196,
            447977522
           ],
           "y": [
            "Cassava",
            "Barley",
            "Sweet potatoes",
            "Rice, paddy (rice milled equivalent)",
            "Sugar beet",
            "Maize",
            "Rice, paddy",
            "Wheat",
            "Potatoes",
            "Sugar cane"
           ]
          }
         ],
         "layout": {
          "bargap": 0.15,
          "font": {
           "size": 14
          },
          "plot_bgcolor": "#FFFFFF",
          "xaxis": {
           "range": [
            0,
            1907024730
           ],
           "showline": true,
           "visible": true
          },
          "yaxis": {
           "showline": false,
           "visible": true
          }
         },
         "name": "1961"
        },
        {
         "data": [
          {
           "cliponaxis": false,
           "hoverinfo": "all",
           "hovertemplate": "<extra></extra>",
           "marker": {
            "color": [
             "rgb(48, 6, 167)",
             "rgb(29, 99, 117)",
             "rgb(127, 208, 177)",
             "rgb(41, 116, 112)",
             "rgb(165, 117, 212)",
             "rgb(12, 1, 9)",
             "rgb(27, 70, 193)",
             "rgb(70, 244, 218)",
             "rgb(220, 140, 45)",
             "rgb(48, 20, 198)"
            ]
           },
           "orientation": "h",
           "textangle": 0,
           "textposition": "outside",
           "texttemplate": "%{y}<br>%{x:.4s}",
           "type": "bar",
           "x": [
            74636680,
            88396959,
            105291106,
            149172711,
            151046350,
            204876937,
            226456297,
            250319146,
            252987460,
            436872640
           ],
           "y": [
            "Cassava",
            "Barley",
            "Sweet potatoes",
            "Sugar beet",
            "Rice, paddy (rice milled equivalent)",
            "Maize",
            "Rice, paddy",
            "Wheat",
            "Potatoes",
            "Sugar cane"
           ]
          }
         ],
         "layout": {
          "bargap": 0.15,
          "font": {
           "size": 14
          },
          "plot_bgcolor": "#FFFFFF",
          "xaxis": {
           "range": [
            0,
            1907024730
           ],
           "showline": true,
           "visible": true
          },
          "yaxis": {
           "showline": false,
           "visible": true
          }
         },
         "name": "1962"
        },
        {
         "data": [
          {
           "cliponaxis": false,
           "hoverinfo": "all",
           "hovertemplate": "<extra></extra>",
           "marker": {
            "color": [
             "rgb(48, 6, 167)",
             "rgb(29, 99, 117)",
             "rgb(127, 208, 177)",
             "rgb(165, 117, 212)",
             "rgb(41, 116, 112)",
             "rgb(12, 1, 9)",
             "rgb(70, 244, 218)",
             "rgb(27, 70, 193)",
             "rgb(220, 140, 45)",
             "rgb(48, 20, 198)"
            ]
           },
           "orientation": "h",
           "textangle": 0,
           "textposition": "outside",
           "texttemplate": "%{y}<br>%{x:.4s}",
           "type": "bar",
           "x": [
            77975688,
            90385850,
            98009159,
            164828514,
            164975629,
            220228333,
            233339473,
            247119211,
            269982498,
            439927902
           ],
           "y": [
            "Cassava",
            "Barley",
            "Sweet potatoes",
            "Rice, paddy (rice milled equivalent)",
            "Sugar beet",
            "Maize",
            "Wheat",
            "Rice, paddy",
            "Potatoes",
            "Sugar cane"
           ]
          }
         ],
         "layout": {
          "bargap": 0.15,
          "font": {
           "size": 14
          },
          "plot_bgcolor": "#FFFFFF",
          "xaxis": {
           "range": [
            0,
            1907024730
           ],
           "showline": true,
           "visible": true
          },
          "yaxis": {
           "showline": false,
           "visible": true
          }
         },
         "name": "1963"
        },
        {
         "data": [
          {
           "cliponaxis": false,
           "hoverinfo": "all",
           "hovertemplate": "<extra></extra>",
           "marker": {
            "color": [
             "rgb(48, 6, 167)",
             "rgb(127, 208, 177)",
             "rgb(29, 99, 117)",
             "rgb(165, 117, 212)",
             "rgb(12, 1, 9)",
             "rgb(41, 116, 112)",
             "rgb(27, 70, 193)",
             "rgb(70, 244, 218)",
             "rgb(220, 140, 45)",
             "rgb(48, 20, 198)"
            ]
           },
           "orientation": "h",
           "textangle": 0,
           "textposition": "outside",
           "texttemplate": "%{y}<br>%{x:.4s}",
           "type": "bar",
           "x": [
            82429399,
            93377412,
            95524923,
            175373614,
            215172627,
            216206931,
            262928956,
            268791657,
            284678614,
            480849768
           ],
           "y": [
            "Cassava",
            "Sweet potatoes",
            "Barley",
            "Rice, paddy (rice milled equivalent)",
            "Maize",
            "Sugar beet",
            "Rice, paddy",
            "Wheat",
            "Potatoes",
            "Sugar cane"
           ]
          }
         ],
         "layout": {
          "bargap": 0.15,
          "font": {
           "size": 14
          },
          "plot_bgcolor": "#FFFFFF",
          "xaxis": {
           "range": [
            0,
            1907024730
           ],
           "showline": true,
           "visible": true
          },
          "yaxis": {
           "showline": false,
           "visible": true
          }
         },
         "name": "1964"
        },
        {
         "data": [
          {
           "cliponaxis": false,
           "hoverinfo": "all",
           "hovertemplate": "<extra></extra>",
           "marker": {
            "color": [
             "rgb(48, 6, 167)",
             "rgb(29, 99, 117)",
             "rgb(127, 208, 177)",
             "rgb(165, 117, 212)",
             "rgb(41, 116, 112)",
             "rgb(12, 1, 9)",
             "rgb(27, 70, 193)",
             "rgb(70, 244, 218)",
             "rgb(220, 140, 45)",
             "rgb(48, 20, 198)"
            ]
           },
           "orientation": "h",
           "textangle": 0,
           "textposition": "outside",
           "texttemplate": "%{y}<br>%{x:.4s}",
           "type": "bar",
           "x": [
            85582843,
            92617012,
            108377879,
            169457796,
            197376224,
            226544256,
            254059664,
            263645963,
            270913502,
            531297486
           ],
           "y": [
            "Cassava",
            "Barley",
            "Sweet potatoes",
            "Rice, paddy (rice milled equivalent)",
            "Sugar beet",
            "Maize",
            "Rice, paddy",
            "Wheat",
            "Potatoes",
            "Sugar cane"
           ]
          }
         ],
         "layout": {
          "bargap": 0.15,
          "font": {
           "size": 14
          },
          "plot_bgcolor": "#FFFFFF",
          "xaxis": {
           "range": [
            0,
            1907024730
           ],
           "showline": true,
           "visible": true
          },
          "yaxis": {
           "showline": false,
           "visible": true
          }
         },
         "name": "1965"
        },
        {
         "data": [
          {
           "cliponaxis": false,
           "hoverinfo": "all",
           "hovertemplate": "<extra></extra>",
           "marker": {
            "color": [
             "rgb(48, 6, 167)",
             "rgb(29, 99, 117)",
             "rgb(127, 208, 177)",
             "rgb(165, 117, 212)",
             "rgb(41, 116, 112)",
             "rgb(12, 1, 9)",
             "rgb(27, 70, 193)",
             "rgb(220, 140, 45)",
             "rgb(70, 244, 218)",
             "rgb(48, 20, 198)"
            ]
           },
           "orientation": "h",
           "textangle": 0,
           "textposition": "outside",
           "texttemplate": "%{y}<br>%{x:.4s}",
           "type": "bar",
           "x": [
            84718809,
            100425696,
            119686566,
            174207899,
            212270253,
            245599160,
            261181258,
            281964109,
            303785460,
            531492823
           ],
           "y": [
            "Cassava",
            "Barley",
            "Sweet potatoes",
            "Rice, paddy (rice milled equivalent)",
            "Sugar beet",
            "Maize",
            "Rice, paddy",
            "Potatoes",
            "Wheat",
            "Sugar cane"
           ]
          }
         ],
         "layout": {
          "bargap": 0.15,
          "font": {
           "size": 14
          },
          "plot_bgcolor": "#FFFFFF",
          "xaxis": {
           "range": [
            0,
            1907024730
           ],
           "showline": true,
           "visible": true
          },
          "yaxis": {
           "showline": false,
           "visible": true
          }
         },
         "name": "1966"
        },
        {
         "data": [
          {
           "cliponaxis": false,
           "hoverinfo": "all",
           "hovertemplate": "<extra></extra>",
           "marker": {
            "color": [
             "rgb(48, 6, 167)",
             "rgb(29, 99, 117)",
             "rgb(127, 208, 177)",
             "rgb(165, 117, 212)",
             "rgb(41, 116, 112)",
             "rgb(12, 1, 9)",
             "rgb(27, 70, 193)",
             "rgb(70, 244, 218)",
             "rgb(220, 140, 45)",
             "rgb(48, 20, 198)"
            ]
           },
           "orientation": "h",
           "textangle": 0,
           "textposition": "outside",
           "texttemplate": "%{y}<br>%{x:.4s}",
           "type": "bar",
           "x": [
            88630176,
            103177495,
            118614438,
            185016704,
            233455177,
            272548473,
            277386363,
            294295876,
            296220305,
            518890895
           ],
           "y": [
            "Cassava",
            "Barley",
            "Sweet potatoes",
            "Rice, paddy (rice milled equivalent)",
            "Sugar beet",
            "Maize",
            "Rice, paddy",
            "Wheat",
            "Potatoes",
            "Sugar cane"
           ]
          }
         ],
         "layout": {
          "bargap": 0.15,
          "font": {
           "size": 14
          },
          "plot_bgcolor": "#FFFFFF",
          "xaxis": {
           "range": [
            0,
            1907024730
           ],
           "showline": true,
           "visible": true
          },
          "yaxis": {
           "showline": false,
           "visible": true
          }
         },
         "name": "1967"
        },
        {
         "data": [
          {
           "cliponaxis": false,
           "hoverinfo": "all",
           "hovertemplate": "<extra></extra>",
           "marker": {
            "color": [
             "rgb(48, 6, 167)",
             "rgb(29, 99, 117)",
             "rgb(127, 208, 177)",
             "rgb(165, 117, 212)",
             "rgb(41, 116, 112)",
             "rgb(12, 1, 9)",
             "rgb(27, 70, 193)",
             "rgb(220, 140, 45)",
             "rgb(70, 244, 218)",
             "rgb(48, 20, 198)"
            ]
           },
           "orientation": "h",
           "textangle": 0,
           "textposition": "outside",
           "texttemplate": "%{y}<br>%{x:.4s}",
           "type": "bar",
           "x": [
            93090059,
            113504505,
            118097469,
            192512413,
            248856658,
            255670551,
            288624308,
            303709120,
            326843941,
            506091880
           ],
           "y": [
            "Cassava",
            "Barley",
            "Sweet potatoes",
            "Rice, paddy (rice milled equivalent)",
            "Sugar beet",
            "Maize",
            "Rice, paddy",
            "Potatoes",
            "Wheat",
            "Sugar cane"
           ]
          }
         ],
         "layout": {
          "bargap": 0.15,
          "font": {
           "size": 14
          },
          "plot_bgcolor": "#FFFFFF",
          "xaxis": {
           "range": [
            0,
            1907024730
           ],
           "showline": true,
           "visible": true
          },
          "yaxis": {
           "showline": false,
           "visible": true
          }
         },
         "name": "1968"
        },
        {
         "data": [
          {
           "cliponaxis": false,
           "hoverinfo": "all",
           "hovertemplate": "<extra></extra>",
           "marker": {
            "color": [
             "rgb(48, 6, 167)",
             "rgb(29, 99, 117)",
             "rgb(127, 208, 177)",
             "rgb(165, 117, 212)",
             "rgb(41, 116, 112)",
             "rgb(12, 1, 9)",
             "rgb(220, 140, 45)",
             "rgb(27, 70, 193)",
             "rgb(70, 244, 218)",
             "rgb(48, 20, 198)"
            ]
           },
           "orientation": "h",
           "textangle": 0,
           "textposition": "outside",
           "texttemplate": "%{y}<br>%{x:.4s}",
           "type": "bar",
           "x": [
            95325330,
            118006371,
            126160704,
            197154789,
            216920772,
            269506068,
            278475710,
            295584391,
            308640283,
            538255737
           ],
           "y": [
            "Cassava",
            "Barley",
            "Sweet potatoes",
            "Rice, paddy (rice milled equivalent)",
            "Sugar beet",
            "Maize",
            "Potatoes",
            "Rice, paddy",
            "Wheat",
            "Sugar cane"
           ]
          }
         ],
         "layout": {
          "bargap": 0.15,
          "font": {
           "size": 14
          },
          "plot_bgcolor": "#FFFFFF",
          "xaxis": {
           "range": [
            0,
            1907024730
           ],
           "showline": true,
           "visible": true
          },
          "yaxis": {
           "showline": false,
           "visible": true
          }
         },
         "name": "1969"
        },
        {
         "data": [
          {
           "cliponaxis": false,
           "hoverinfo": "all",
           "hovertemplate": "<extra></extra>",
           "marker": {
            "color": [
             "rgb(48, 6, 167)",
             "rgb(29, 99, 117)",
             "rgb(127, 208, 177)",
             "rgb(165, 117, 212)",
             "rgb(41, 116, 112)",
             "rgb(12, 1, 9)",
             "rgb(220, 140, 45)",
             "rgb(70, 244, 218)",
             "rgb(27, 70, 193)",
             "rgb(48, 20, 198)"
            ]
           },
           "orientation": "h",
           "textangle": 0,
           "textposition": "outside",
           "texttemplate": "%{y}<br>%{x:.4s}",
           "type": "bar",
           "x": [
            98589699,
            119378695,
            136507488,
            211002584,
            224251952,
            265831145,
            298048017,
            310740954,
            316345703,
            608616105
           ],
           "y": [
            "Cassava",
            "Barley",
            "Sweet potatoes",
            "Rice, paddy (rice milled equivalent)",
            "Sugar beet",
            "Maize",
            "Potatoes",
            "Wheat",
            "Rice, paddy",
            "Sugar cane"
           ]
          }
         ],
         "layout": {
          "bargap": 0.15,
          "font": {
           "size": 14
          },
          "plot_bgcolor": "#FFFFFF",
          "xaxis": {
           "range": [
            0,
            1907024730
           ],
           "showline": true,
           "visible": true
          },
          "yaxis": {
           "showline": false,
           "visible": true
          }
         },
         "name": "1970"
        },
        {
         "data": [
          {
           "cliponaxis": false,
           "hoverinfo": "all",
           "hovertemplate": "<extra></extra>",
           "marker": {
            "color": [
             "rgb(48, 6, 167)",
             "rgb(127, 208, 177)",
             "rgb(29, 99, 117)",
             "rgb(165, 117, 212)",
             "rgb(41, 116, 112)",
             "rgb(220, 140, 45)",
             "rgb(12, 1, 9)",
             "rgb(27, 70, 193)",
             "rgb(70, 244, 218)",
             "rgb(48, 20, 198)"
            ]
           },
           "orientation": "h",
           "textangle": 0,
           "textposition": "outside",
           "texttemplate": "%{y}<br>%{x:.4s}",
           "type": "bar",
           "x": [
            98756434,
            127252781,
            131237044,
            211914188,
            227540795,
            279490572,
            313622622,
            317712426,
            347525581,
            582105426
           ],
           "y": [
            "Cassava",
            "Sweet potatoes",
            "Barley",
            "Rice, paddy (rice milled equivalent)",
            "Sugar beet",
            "Potatoes",
            "Maize",
            "Rice, paddy",
            "Wheat",
            "Sugar cane"
           ]
          }
         ],
         "layout": {
          "bargap": 0.15,
          "font": {
           "size": 14
          },
          "plot_bgcolor": "#FFFFFF",
          "xaxis": {
           "range": [
            0,
            1907024730
           ],
           "showline": true,
           "visible": true
          },
          "yaxis": {
           "showline": false,
           "visible": true
          }
         },
         "name": "1971"
        },
        {
         "data": [
          {
           "cliponaxis": false,
           "hoverinfo": "all",
           "hovertemplate": "<extra></extra>",
           "marker": {
            "color": [
             "rgb(48, 6, 167)",
             "rgb(127, 208, 177)",
             "rgb(29, 99, 117)",
             "rgb(165, 117, 212)",
             "rgb(41, 116, 112)",
             "rgb(220, 140, 45)",
             "rgb(27, 70, 193)",
             "rgb(12, 1, 9)",
             "rgb(70, 244, 218)",
             "rgb(48, 20, 198)"
            ]
           },
           "orientation": "h",
           "textangle": 0,
           "textposition": "outside",
           "texttemplate": "%{y}<br>%{x:.4s}",
           "type": "bar",
           "x": [
            101261515,
            121467494,
            132963909,
            204962388,
            240336963,
            272144812,
            307289937,
            308826290,
            343001429,
            569105570
           ],
           "y": [
            "Cassava",
            "Sweet potatoes",
            "Barley",
            "Rice, paddy (rice milled equivalent)",
            "Sugar beet",
            "Potatoes",
            "Rice, paddy",
            "Maize",
            "Wheat",
            "Sugar cane"
           ]
          }
         ],
         "layout": {
          "bargap": 0.15,
          "font": {
           "size": 14
          },
          "plot_bgcolor": "#FFFFFF",
          "xaxis": {
           "range": [
            0,
            1907024730
           ],
           "showline": true,
           "visible": true
          },
          "yaxis": {
           "showline": false,
           "visible": true
          }
         },
         "name": "1972"
        },
        {
         "data": [
          {
           "cliponaxis": false,
           "hoverinfo": "all",
           "hovertemplate": "<extra></extra>",
           "marker": {
            "color": [
             "rgb(48, 6, 167)",
             "rgb(29, 99, 117)",
             "rgb(127, 208, 177)",
             "rgb(165, 117, 212)",
             "rgb(41, 116, 112)",
             "rgb(220, 140, 45)",
             "rgb(12, 1, 9)",
             "rgb(27, 70, 193)",
             "rgb(70, 244, 218)",
             "rgb(48, 20, 198)"
            ]
           },
           "orientation": "h",
           "textangle": 0,
           "textposition": "outside",
           "texttemplate": "%{y}<br>%{x:.4s}",
           "type": "bar",
           "x": [
            101734795,
            146966081,
            152865329,
            223397535,
            250104320,
            307160130,
            318290469,
            334928838,
            369334126,
            600227145
           ],
           "y": [
            "Cassava",
            "Barley",
            "Sweet potatoes",
            "Rice, paddy (rice milled equivalent)",
            "Sugar beet",
            "Potatoes",
            "Maize",
            "Rice, paddy",
            "Wheat",
            "Sugar cane"
           ]
          }
         ],
         "layout": {
          "bargap": 0.15,
          "font": {
           "size": 14
          },
          "plot_bgcolor": "#FFFFFF",
          "xaxis": {
           "range": [
            0,
            1907024730
           ],
           "showline": true,
           "visible": true
          },
          "yaxis": {
           "showline": false,
           "visible": true
          }
         },
         "name": "1973"
        },
        {
         "data": [
          {
           "cliponaxis": false,
           "hoverinfo": "all",
           "hovertemplate": "<extra></extra>",
           "marker": {
            "color": [
             "rgb(48, 6, 167)",
             "rgb(127, 208, 177)",
             "rgb(29, 99, 117)",
             "rgb(165, 117, 212)",
             "rgb(41, 116, 112)",
             "rgb(220, 140, 45)",
             "rgb(12, 1, 9)",
             "rgb(27, 70, 193)",
             "rgb(70, 244, 218)",
             "rgb(48, 20, 198)"
            ]
           },
           "orientation": "h",
           "textangle": 0,
           "textposition": "outside",
           "texttemplate": "%{y}<br>%{x:.4s}",
           "type": "bar",
           "x": [
            104370567,
            137264243,
            148818870,
            221424400,
            234922029,
            284781339,
            306427347,
            331970614,
            358825442,
            648516497
           ],
           "y": [
            "Cassava",
            "Sweet potatoes",
            "Barley",
            "Rice, paddy (rice milled equivalent)",
            "Sugar beet",
            "Potatoes",
            "Maize",
            "Rice, paddy",
            "Wheat",
            "Sugar cane"
           ]
          }
         ],
         "layout": {
          "bargap": 0.15,
          "font": {
           "size": 14
          },
          "plot_bgcolor": "#FFFFFF",
          "xaxis": {
           "range": [
            0,
            1907024730
           ],
           "showline": true,
           "visible": true
          },
          "yaxis": {
           "showline": false,
           "visible": true
          }
         },
         "name": "1974"
        },
        {
         "data": [
          {
           "cliponaxis": false,
           "hoverinfo": "all",
           "hovertemplate": "<extra></extra>",
           "marker": {
            "color": [
             "rgb(48, 6, 167)",
             "rgb(29, 99, 117)",
             "rgb(127, 208, 177)",
             "rgb(165, 117, 212)",
             "rgb(41, 116, 112)",
             "rgb(220, 140, 45)",
             "rgb(12, 1, 9)",
             "rgb(70, 244, 218)",
             "rgb(27, 70, 193)",
             "rgb(48, 20, 198)"
            ]
           },
           "orientation": "h",
           "textangle": 0,
           "textposition": "outside",
           "texttemplate": "%{y}<br>%{x:.4s}",
           "type": "bar",
           "x": [
            110398445,
            135491720,
            141314403,
            238094381,
            251310276,
            270384075,
            341751971,
            355806146,
            356963090,
            655815792
           ],
           "y": [
            "Cassava",
            "Barley",
            "Sweet potatoes",
            "Rice, paddy (rice milled equivalent)",
            "Sugar beet",
            "Potatoes",
            "Maize",
            "Wheat",
            "Rice, paddy",
            "Sugar cane"
           ]
          }
         ],
         "layout": {
          "bargap": 0.15,
          "font": {
           "size": 14
          },
          "plot_bgcolor": "#FFFFFF",
          "xaxis": {
           "range": [
            0,
            1907024730
           ],
           "showline": true,
           "visible": true
          },
          "yaxis": {
           "showline": false,
           "visible": true
          }
         },
         "name": "1975"
        },
        {
         "data": [
          {
           "cliponaxis": false,
           "hoverinfo": "all",
           "hovertemplate": "<extra></extra>",
           "marker": {
            "color": [
             "rgb(48, 6, 167)",
             "rgb(127, 208, 177)",
             "rgb(29, 99, 117)",
             "rgb(165, 117, 212)",
             "rgb(220, 140, 45)",
             "rgb(41, 116, 112)",
             "rgb(27, 70, 193)",
             "rgb(12, 1, 9)",
             "rgb(70, 244, 218)",
             "rgb(48, 20, 198)"
            ]
           },
           "orientation": "h",
           "textangle": 0,
           "textposition": "outside",
           "texttemplate": "%{y}<br>%{x:.4s}",
           "type": "bar",
           "x": [
            113892497,
            133322031,
            166595806,
            231906870,
            272745276,
            296408369,
            347686462,
            352395866,
            419868031,
            687207538
           ],
           "y": [
            "Cassava",
            "Sweet potatoes",
            "Barley",
            "Rice, paddy (rice milled equivalent)",
            "Potatoes",
            "Sugar beet",
            "Rice, paddy",
            "Maize",
            "Wheat",
            "Sugar cane"
           ]
          }
         ],
         "layout": {
          "bargap": 0.15,
          "font": {
           "size": 14
          },
          "plot_bgcolor": "#FFFFFF",
          "xaxis": {
           "range": [
            0,
            1907024730
           ],
           "showline": true,
           "visible": true
          },
          "yaxis": {
           "showline": false,
           "visible": true
          }
         },
         "name": "1976"
        },
        {
         "data": [
          {
           "cliponaxis": false,
           "hoverinfo": "all",
           "hovertemplate": "<extra></extra>",
           "marker": {
            "color": [
             "rgb(48, 6, 167)",
             "rgb(127, 208, 177)",
             "rgb(29, 99, 117)",
             "rgb(165, 117, 212)",
             "rgb(220, 140, 45)",
             "rgb(41, 116, 112)",
             "rgb(27, 70, 193)",
             "rgb(12, 1, 9)",
             "rgb(70, 244, 218)",
             "rgb(48, 20, 198)"
            ]
           },
           "orientation": "h",
           "textangle": 0,
           "textposition": "outside",
           "texttemplate": "%{y}<br>%{x:.4s}",
           "type": "bar",
           "x": [
            118605256,
            143107584,
            156386493,
            246443929,
            279667694,
            288582476,
            369481153,
            371593355,
            382276677,
            734858286
           ],
           "y": [
            "Cassava",
            "Sweet potatoes",
            "Barley",
            "Rice, paddy (rice milled equivalent)",
            "Potatoes",
            "Sugar beet",
            "Rice, paddy",
            "Maize",
            "Wheat",
            "Sugar cane"
           ]
          }
         ],
         "layout": {
          "bargap": 0.15,
          "font": {
           "size": 14
          },
          "plot_bgcolor": "#FFFFFF",
          "xaxis": {
           "range": [
            0,
            1907024730
           ],
           "showline": true,
           "visible": true
          },
          "yaxis": {
           "showline": false,
           "visible": true
          }
         },
         "name": "1977"
        },
        {
         "data": [
          {
           "cliponaxis": false,
           "hoverinfo": "all",
           "hovertemplate": "<extra></extra>",
           "marker": {
            "color": [
             "rgb(48, 6, 167)",
             "rgb(127, 208, 177)",
             "rgb(29, 99, 117)",
             "rgb(165, 117, 212)",
             "rgb(41, 116, 112)",
             "rgb(220, 140, 45)",
             "rgb(27, 70, 193)",
             "rgb(12, 1, 9)",
             "rgb(70, 244, 218)",
             "rgb(48, 20, 198)"
            ]
           },
           "orientation": "h",
           "textangle": 0,
           "textposition": "outside",
           "texttemplate": "%{y}<br>%{x:.4s}",
           "type": "bar",
           "x": [
            123308473,
            151857764,
            174929309,
            256934233,
            282834069,
            291161652,
            385208745,
            393600091,
            443844880,
            774416858
           ],
           "y": [
            "Cassava",
            "Sweet potatoes",
            "Barley",
            "Rice, paddy (rice milled equivalent)",
            "Sugar beet",
            "Potatoes",
            "Rice, paddy",
            "Maize",
            "Wheat",
            "Sugar cane"
           ]
          }
         ],
         "layout": {
          "bargap": 0.15,
          "font": {
           "size": 14
          },
          "plot_bgcolor": "#FFFFFF",
          "xaxis": {
           "range": [
            0,
            1907024730
           ],
           "showline": true,
           "visible": true
          },
          "yaxis": {
           "showline": false,
           "visible": true
          }
         },
         "name": "1978"
        },
        {
         "data": [
          {
           "cliponaxis": false,
           "hoverinfo": "all",
           "hovertemplate": "<extra></extra>",
           "marker": {
            "color": [
             "rgb(48, 6, 167)",
             "rgb(127, 208, 177)",
             "rgb(29, 99, 117)",
             "rgb(165, 117, 212)",
             "rgb(41, 116, 112)",
             "rgb(220, 140, 45)",
             "rgb(27, 70, 193)",
             "rgb(12, 1, 9)",
             "rgb(70, 244, 218)",
             "rgb(48, 20, 198)"
            ]
           },
           "orientation": "h",
           "textangle": 0,
           "textposition": "outside",
           "texttemplate": "%{y}<br>%{x:.4s}",
           "type": "bar",
           "x": [
            119745423,
            137935647,
            154989948,
            250292923,
            262752809,
            297921605,
            375251758,
            418622993,
            422999301,
            770245178
           ],
           "y": [
            "Cassava",
            "Sweet potatoes",
            "Barley",
            "Rice, paddy (rice milled equivalent)",
            "Sugar beet",
            "Potatoes",
            "Rice, paddy",
            "Maize",
            "Wheat",
            "Sugar cane"
           ]
          }
         ],
         "layout": {
          "bargap": 0.15,
          "font": {
           "size": 14
          },
          "plot_bgcolor": "#FFFFFF",
          "xaxis": {
           "range": [
            0,
            1907024730
           ],
           "showline": true,
           "visible": true
          },
          "yaxis": {
           "showline": false,
           "visible": true
          }
         },
         "name": "1979"
        },
        {
         "data": [
          {
           "cliponaxis": false,
           "hoverinfo": "all",
           "hovertemplate": "<extra></extra>",
           "marker": {
            "color": [
             "rgb(48, 6, 167)",
             "rgb(127, 208, 177)",
             "rgb(29, 99, 117)",
             "rgb(220, 140, 45)",
             "rgb(165, 117, 212)",
             "rgb(41, 116, 112)",
             "rgb(12, 1, 9)",
             "rgb(27, 70, 193)",
             "rgb(70, 244, 218)",
             "rgb(48, 20, 198)"
            ]
           },
           "orientation": "h",
           "textangle": 0,
           "textposition": "outside",
           "texttemplate": "%{y}<br>%{x:.4s}",
           "type": "bar",
           "x": [
            124135066,
            137869239,
            156702822,
            240495788,
            264713164,
            267856451,
            396623388,
            396871310,
            440187901,
            734489200
           ],
           "y": [
            "Cassava",
            "Sweet potatoes",
            "Barley",
            "Potatoes",
            "Rice, paddy (rice milled equivalent)",
            "Sugar beet",
            "Maize",
            "Rice, paddy",
            "Wheat",
            "Sugar cane"
           ]
          }
         ],
         "layout": {
          "bargap": 0.15,
          "font": {
           "size": 14
          },
          "plot_bgcolor": "#FFFFFF",
          "xaxis": {
           "range": [
            0,
            1907024730
           ],
           "showline": true,
           "visible": true
          },
          "yaxis": {
           "showline": false,
           "visible": true
          }
         },
         "name": "1980"
        },
        {
         "data": [
          {
           "cliponaxis": false,
           "hoverinfo": "all",
           "hovertemplate": "<extra></extra>",
           "marker": {
            "color": [
             "rgb(127, 208, 177)",
             "rgb(48, 6, 167)",
             "rgb(29, 99, 117)",
             "rgb(220, 140, 45)",
             "rgb(165, 117, 212)",
             "rgb(41, 116, 112)",
             "rgb(27, 70, 193)",
             "rgb(12, 1, 9)",
             "rgb(70, 244, 218)",
             "rgb(48, 20, 198)"
            ]
           },
           "orientation": "h",
           "textangle": 0,
           "textposition": "outside",
           "texttemplate": "%{y}<br>%{x:.4s}",
           "type": "bar",
           "x": [
            125543727,
            127513877,
            149602582,
            267781520,
            273520179,
            287840286,
            410075231,
            446772517,
            449633986,
            799604214
           ],
           "y": [
            "Sweet potatoes",
            "Cassava",
            "Barley",
            "Potatoes",
            "Rice, paddy (rice milled equivalent)",
            "Sugar beet",
            "Rice, paddy",
            "Maize",
            "Wheat",
            "Sugar cane"
           ]
          }
         ],
         "layout": {
          "bargap": 0.15,
          "font": {
           "size": 14
          },
          "plot_bgcolor": "#FFFFFF",
          "xaxis": {
           "range": [
            0,
            1907024730
           ],
           "showline": true,
           "visible": true
          },
          "yaxis": {
           "showline": false,
           "visible": true
          }
         },
         "name": "1981"
        },
        {
         "data": [
          {
           "cliponaxis": false,
           "hoverinfo": "all",
           "hovertemplate": "<extra></extra>",
           "marker": {
            "color": [
             "rgb(48, 6, 167)",
             "rgb(127, 208, 177)",
             "rgb(29, 99, 117)",
             "rgb(220, 140, 45)",
             "rgb(165, 117, 212)",
             "rgb(41, 116, 112)",
             "rgb(27, 70, 193)",
             "rgb(12, 1, 9)",
             "rgb(70, 244, 218)",
             "rgb(48, 20, 198)"
            ]
           },
           "orientation": "h",
           "textangle": 0,
           "textposition": "outside",
           "texttemplate": "%{y}<br>%{x:.4s}",
           "type": "bar",
           "x": [
            128849568,
            129433910,
            161352537,
            265142602,
            281440016,
            291773194,
            421949049,
            448932280,
            476768609,
            907067880
           ],
           "y": [
            "Cassava",
            "Sweet potatoes",
            "Barley",
            "Potatoes",
            "Rice, paddy (rice milled equivalent)",
            "Sugar beet",
            "Rice, paddy",
            "Maize",
            "Wheat",
            "Sugar cane"
           ]
          }
         ],
         "layout": {
          "bargap": 0.15,
          "font": {
           "size": 14
          },
          "plot_bgcolor": "#FFFFFF",
          "xaxis": {
           "range": [
            0,
            1907024730
           ],
           "showline": true,
           "visible": true
          },
          "yaxis": {
           "showline": false,
           "visible": true
          }
         },
         "name": "1982"
        },
        {
         "data": [
          {
           "cliponaxis": false,
           "hoverinfo": "all",
           "hovertemplate": "<extra></extra>",
           "marker": {
            "color": [
             "rgb(48, 6, 167)",
             "rgb(127, 208, 177)",
             "rgb(29, 99, 117)",
             "rgb(220, 140, 45)",
             "rgb(41, 116, 112)",
             "rgb(165, 117, 212)",
             "rgb(12, 1, 9)",
             "rgb(27, 70, 193)",
             "rgb(70, 244, 218)",
             "rgb(48, 20, 198)"
            ]
           },
           "orientation": "h",
           "textangle": 0,
           "textposition": "outside",
           "texttemplate": "%{y}<br>%{x:.4s}",
           "type": "bar",
           "x": [
            126886287,
            137945719,
            159470171,
            264471009,
            274395485,
            298826869,
            347082034,
            448016295,
            489555281,
            903684353
           ],
           "y": [
            "Cassava",
            "Sweet potatoes",
            "Barley",
            "Potatoes",
            "Sugar beet",
            "Rice, paddy (rice milled equivalent)",
            "Maize",
            "Rice, paddy",
            "Wheat",
            "Sugar cane"
           ]
          }
         ],
         "layout": {
          "bargap": 0.15,
          "font": {
           "size": 14
          },
          "plot_bgcolor": "#FFFFFF",
          "xaxis": {
           "range": [
            0,
            1907024730
           ],
           "showline": true,
           "visible": true
          },
          "yaxis": {
           "showline": false,
           "visible": true
          }
         },
         "name": "1983"
        },
        {
         "data": [
          {
           "cliponaxis": false,
           "hoverinfo": "all",
           "hovertemplate": "<extra></extra>",
           "marker": {
            "color": [
             "rgb(127, 208, 177)",
             "rgb(48, 6, 167)",
             "rgb(29, 99, 117)",
             "rgb(220, 140, 45)",
             "rgb(41, 116, 112)",
             "rgb(165, 117, 212)",
             "rgb(12, 1, 9)",
             "rgb(27, 70, 193)",
             "rgb(70, 244, 218)",
             "rgb(48, 20, 198)"
            ]
           },
           "orientation": "h",
           "textangle": 0,
           "textposition": "outside",
           "texttemplate": "%{y}<br>%{x:.4s}",
           "type": "bar",
           "x": [
            133036563,
            133239818,
            169433845,
            290945972,
            296351939,
            310383713,
            450449992,
            465342898,
            512330225,
            929768246
           ],
           "y": [
            "Sweet potatoes",
            "Cassava",
            "Barley",
            "Potatoes",
            "Sugar beet",
            "Rice, paddy (rice milled equivalent)",
            "Maize",
            "Rice, paddy",
            "Wheat",
            "Sugar cane"
           ]
          }
         ],
         "layout": {
          "bargap": 0.15,
          "font": {
           "size": 14
          },
          "plot_bgcolor": "#FFFFFF",
          "xaxis": {
           "range": [
            0,
            1907024730
           ],
           "showline": true,
           "visible": true
          },
          "yaxis": {
           "showline": false,
           "visible": true
          }
         },
         "name": "1984"
        },
        {
         "data": [
          {
           "cliponaxis": false,
           "hoverinfo": "all",
           "hovertemplate": "<extra></extra>",
           "marker": {
            "color": [
             "rgb(127, 208, 177)",
             "rgb(48, 6, 167)",
             "rgb(29, 99, 117)",
             "rgb(220, 140, 45)",
             "rgb(41, 116, 112)",
             "rgb(165, 117, 212)",
             "rgb(27, 70, 193)",
             "rgb(12, 1, 9)",
             "rgb(70, 244, 218)",
             "rgb(48, 20, 198)"
            ]
           },
           "orientation": "h",
           "textangle": 0,
           "textposition": "outside",
           "texttemplate": "%{y}<br>%{x:.4s}",
           "type": "bar",
           "x": [
            122997023,
            135852865,
            172618338,
            281603760,
            284155160,
            312265770,
            468164572,
            485527301,
            499527392,
            933213589
           ],
           "y": [
            "Sweet potatoes",
            "Cassava",
            "Barley",
            "Potatoes",
            "Sugar beet",
            "Rice, paddy (rice milled equivalent)",
            "Rice, paddy",
            "Maize",
            "Wheat",
            "Sugar cane"
           ]
          }
         ],
         "layout": {
          "bargap": 0.15,
          "font": {
           "size": 14
          },
          "plot_bgcolor": "#FFFFFF",
          "xaxis": {
           "range": [
            0,
            1907024730
           ],
           "showline": true,
           "visible": true
          },
          "yaxis": {
           "showline": false,
           "visible": true
          }
         },
         "name": "1985"
        },
        {
         "data": [
          {
           "cliponaxis": false,
           "hoverinfo": "all",
           "hovertemplate": "<extra></extra>",
           "marker": {
            "color": [
             "rgb(231, 93, 129)",
             "rgb(48, 6, 167)",
             "rgb(29, 99, 117)",
             "rgb(41, 116, 112)",
             "rgb(220, 140, 45)",
             "rgb(165, 117, 212)",
             "rgb(27, 70, 193)",
             "rgb(12, 1, 9)",
             "rgb(70, 244, 218)",
             "rgb(48, 20, 198)"
            ]
           },
           "orientation": "h",
           "textangle": 0,
           "textposition": "outside",
           "texttemplate": "%{y}<br>%{x:.4s}",
           "type": "bar",
           "x": [
            129814219,
            134228164,
            177169275,
            286334048,
            286610518,
            312606386,
            468675242,
            478176622,
            528685222,
            934719186
           ],
           "y": [
            "Vegetables, fresh nes",
            "Cassava",
            "Barley",
            "Sugar beet",
            "Potatoes",
            "Rice, paddy (rice milled equivalent)",
            "Rice, paddy",
            "Maize",
            "Wheat",
            "Sugar cane"
           ]
          }
         ],
         "layout": {
          "bargap": 0.15,
          "font": {
           "size": 14
          },
          "plot_bgcolor": "#FFFFFF",
          "xaxis": {
           "range": [
            0,
            1907024730
           ],
           "showline": true,
           "visible": true
          },
          "yaxis": {
           "showline": false,
           "visible": true
          }
         },
         "name": "1986"
        },
        {
         "data": [
          {
           "cliponaxis": false,
           "hoverinfo": "all",
           "hovertemplate": "<extra></extra>",
           "marker": {
            "color": [
             "rgb(127, 208, 177)",
             "rgb(48, 6, 167)",
             "rgb(29, 99, 117)",
             "rgb(220, 140, 45)",
             "rgb(41, 116, 112)",
             "rgb(165, 117, 212)",
             "rgb(12, 1, 9)",
             "rgb(27, 70, 193)",
             "rgb(70, 244, 218)",
             "rgb(48, 20, 198)"
            ]
           },
           "orientation": "h",
           "textangle": 0,
           "textposition": "outside",
           "texttemplate": "%{y}<br>%{x:.4s}",
           "type": "bar",
           "x": [
            133652442,
            138134704,
            175288684,
            279415351,
            299751636,
            307780419,
            453115794,
            461439908,
            505075847,
            990319251
           ],
           "y": [
            "Sweet potatoes",
            "Cassava",
            "Barley",
            "Potatoes",
            "Sugar beet",
            "Rice, paddy (rice milled equivalent)",
            "Maize",
            "Rice, paddy",
            "Wheat",
            "Sugar cane"
           ]
          }
         ],
         "layout": {
          "bargap": 0.15,
          "font": {
           "size": 14
          },
          "plot_bgcolor": "#FFFFFF",
          "xaxis": {
           "range": [
            0,
            1907024730
           ],
           "showline": true,
           "visible": true
          },
          "yaxis": {
           "showline": false,
           "visible": true
          }
         },
         "name": "1987"
        },
        {
         "data": [
          {
           "cliponaxis": false,
           "hoverinfo": "all",
           "hovertemplate": "<extra></extra>",
           "marker": {
            "color": [
             "rgb(231, 93, 129)",
             "rgb(48, 6, 167)",
             "rgb(29, 99, 117)",
             "rgb(220, 140, 45)",
             "rgb(41, 116, 112)",
             "rgb(165, 117, 212)",
             "rgb(12, 1, 9)",
             "rgb(27, 70, 193)",
             "rgb(70, 244, 218)",
             "rgb(48, 20, 198)"
            ]
           },
           "orientation": "h",
           "textangle": 0,
           "textposition": "outside",
           "texttemplate": "%{y}<br>%{x:.4s}",
           "type": "bar",
           "x": [
            137997867,
            144878275,
            163396406,
            268603004,
            293570876,
            325134421,
            403050234,
            487457902,
            500656538,
            992982513
           ],
           "y": [
            "Vegetables, fresh nes",
            "Cassava",
            "Barley",
            "Potatoes",
            "Sugar beet",
            "Rice, paddy (rice milled equivalent)",
            "Maize",
            "Rice, paddy",
            "Wheat",
            "Sugar cane"
           ]
          }
         ],
         "layout": {
          "bargap": 0.15,
          "font": {
           "size": 14
          },
          "plot_bgcolor": "#FFFFFF",
          "xaxis": {
           "range": [
            0,
            1907024730
           ],
           "showline": true,
           "visible": true
          },
          "yaxis": {
           "showline": false,
           "visible": true
          }
         },
         "name": "1988"
        },
        {
         "data": [
          {
           "cliponaxis": false,
           "hoverinfo": "all",
           "hovertemplate": "<extra></extra>",
           "marker": {
            "color": [
             "rgb(231, 93, 129)",
             "rgb(48, 6, 167)",
             "rgb(29, 99, 117)",
             "rgb(220, 140, 45)",
             "rgb(41, 116, 112)",
             "rgb(165, 117, 212)",
             "rgb(12, 1, 9)",
             "rgb(27, 70, 193)",
             "rgb(70, 244, 218)",
             "rgb(48, 20, 198)"
            ]
           },
           "orientation": "h",
           "textangle": 0,
           "textposition": "outside",
           "texttemplate": "%{y}<br>%{x:.4s}",
           "type": "bar",
           "x": [
            138710355,
            152885746,
            164166455,
            276583863,
            314402899,
            343119234,
            476874503,
            514421640,
            538206114,
            1017998783
           ],
           "y": [
            "Vegetables, fresh nes",
            "Cassava",
            "Barley",
            "Potatoes",
            "Sugar beet",
            "Rice, paddy (rice milled equivalent)",
            "Maize",
            "Rice, paddy",
            "Wheat",
            "Sugar cane"
           ]
          }
         ],
         "layout": {
          "bargap": 0.15,
          "font": {
           "size": 14
          },
          "plot_bgcolor": "#FFFFFF",
          "xaxis": {
           "range": [
            0,
            1907024730
           ],
           "showline": true,
           "visible": true
          },
          "yaxis": {
           "showline": false,
           "visible": true
          }
         },
         "name": "1989"
        },
        {
         "data": [
          {
           "cliponaxis": false,
           "hoverinfo": "all",
           "hovertemplate": "<extra></extra>",
           "marker": {
            "color": [
             "rgb(231, 93, 129)",
             "rgb(48, 6, 167)",
             "rgb(29, 99, 117)",
             "rgb(220, 140, 45)",
             "rgb(41, 116, 112)",
             "rgb(165, 117, 212)",
             "rgb(12, 1, 9)",
             "rgb(27, 70, 193)",
             "rgb(70, 244, 218)",
             "rgb(48, 20, 198)"
            ]
           },
           "orientation": "h",
           "textangle": 0,
           "textposition": "outside",
           "texttemplate": "%{y}<br>%{x:.4s}",
           "type": "bar",
           "x": [
            140314879,
            152378682,
            178074020,
            266825273,
            309186724,
            345885292,
            483620724,
            518568653,
            591330111,
            1052997497
           ],
           "y": [
            "Vegetables, fresh nes",
            "Cassava",
            "Barley",
            "Potatoes",
            "Sugar beet",
            "Rice, paddy (rice milled equivalent)",
            "Maize",
            "Rice, paddy",
            "Wheat",
            "Sugar cane"
           ]
          }
         ],
         "layout": {
          "bargap": 0.15,
          "font": {
           "size": 14
          },
          "plot_bgcolor": "#FFFFFF",
          "xaxis": {
           "range": [
            0,
            1907024730
           ],
           "showline": true,
           "visible": true
          },
          "yaxis": {
           "showline": false,
           "visible": true
          }
         },
         "name": "1990"
        },
        {
         "data": [
          {
           "cliponaxis": false,
           "hoverinfo": "all",
           "hovertemplate": "<extra></extra>",
           "marker": {
            "color": [
             "rgb(231, 93, 129)",
             "rgb(48, 6, 167)",
             "rgb(29, 99, 117)",
             "rgb(220, 140, 45)",
             "rgb(41, 116, 112)",
             "rgb(165, 117, 212)",
             "rgb(12, 1, 9)",
             "rgb(27, 70, 193)",
             "rgb(70, 244, 218)",
             "rgb(48, 20, 198)"
            ]
           },
           "orientation": "h",
           "textangle": 0,
           "textposition": "outside",
           "texttemplate": "%{y}<br>%{x:.4s}",
           "type": "bar",
           "x": [
            135062201,
            160406516,
            169582274,
            256993281,
            285129013,
            345847886,
            494407622,
            518512573,
            547820731,
            1086955621
           ],
           "y": [
            "Vegetables, fresh nes",
            "Cassava",
            "Barley",
            "Potatoes",
            "Sugar beet",
            "Rice, paddy (rice milled equivalent)",
            "Maize",
            "Rice, paddy",
            "Wheat",
            "Sugar cane"
           ]
          }
         ],
         "layout": {
          "bargap": 0.15,
          "font": {
           "size": 14
          },
          "plot_bgcolor": "#FFFFFF",
          "xaxis": {
           "range": [
            0,
            1907024730
           ],
           "showline": true,
           "visible": true
          },
          "yaxis": {
           "showline": false,
           "visible": true
          }
         },
         "name": "1991"
        },
        {
         "data": [
          {
           "cliponaxis": false,
           "hoverinfo": "all",
           "hovertemplate": "<extra></extra>",
           "marker": {
            "color": [
             "rgb(231, 93, 129)",
             "rgb(48, 6, 167)",
             "rgb(29, 99, 117)",
             "rgb(220, 140, 45)",
             "rgb(41, 116, 112)",
             "rgb(165, 117, 212)",
             "rgb(27, 70, 193)",
             "rgb(12, 1, 9)",
             "rgb(70, 244, 218)",
             "rgb(48, 20, 198)"
            ]
           },
           "orientation": "h",
           "textangle": 0,
           "textposition": "outside",
           "texttemplate": "%{y}<br>%{x:.4s}",
           "type": "bar",
           "x": [
            144904166,
            162004349,
            165533308,
            278980652,
            281711850,
            352094665,
            527878059,
            533789336,
            565111947,
            1107576853
           ],
           "y": [
            "Vegetables, fresh nes",
            "Cassava",
            "Barley",
            "Potatoes",
            "Sugar beet",
            "Rice, paddy (rice milled equivalent)",
            "Rice, paddy",
            "Maize",
            "Wheat",
            "Sugar cane"
           ]
          }
         ],
         "layout": {
          "bargap": 0.15,
          "font": {
           "size": 14
          },
          "plot_bgcolor": "#FFFFFF",
          "xaxis": {
           "range": [
            0,
            1907024730
           ],
           "showline": true,
           "visible": true
          },
          "yaxis": {
           "showline": false,
           "visible": true
          }
         },
         "name": "1992"
        },
        {
         "data": [
          {
           "cliponaxis": false,
           "hoverinfo": "all",
           "hovertemplate": "<extra></extra>",
           "marker": {
            "color": [
             "rgb(231, 93, 129)",
             "rgb(48, 6, 167)",
             "rgb(29, 99, 117)",
             "rgb(41, 116, 112)",
             "rgb(220, 140, 45)",
             "rgb(165, 117, 212)",
             "rgb(12, 1, 9)",
             "rgb(27, 70, 193)",
             "rgb(70, 244, 218)",
             "rgb(48, 20, 198)"
            ]
           },
           "orientation": "h",
           "textangle": 0,
           "textposition": "outside",
           "texttemplate": "%{y}<br>%{x:.4s}",
           "type": "bar",
           "x": [
            155428142,
            163185199,
            169542965,
            282190576,
            304619922,
            353242902,
            477221153,
            529599553,
            564739765,
            1020881319
           ],
           "y": [
            "Vegetables, fresh nes",
            "Cassava",
            "Barley",
            "Sugar beet",
            "Potatoes",
            "Rice, paddy (rice milled equivalent)",
            "Maize",
            "Rice, paddy",
            "Wheat",
            "Sugar cane"
           ]
          }
         ],
         "layout": {
          "bargap": 0.15,
          "font": {
           "size": 14
          },
          "plot_bgcolor": "#FFFFFF",
          "xaxis": {
           "range": [
            0,
            1907024730
           ],
           "showline": true,
           "visible": true
          },
          "yaxis": {
           "showline": false,
           "visible": true
          }
         },
         "name": "1993"
        },
        {
         "data": [
          {
           "cliponaxis": false,
           "hoverinfo": "all",
           "hovertemplate": "<extra></extra>",
           "marker": {
            "color": [
             "rgb(29, 99, 117)",
             "rgb(231, 93, 129)",
             "rgb(48, 6, 167)",
             "rgb(41, 116, 112)",
             "rgb(220, 140, 45)",
             "rgb(165, 117, 212)",
             "rgb(70, 244, 218)",
             "rgb(27, 70, 193)",
             "rgb(12, 1, 9)",
             "rgb(48, 20, 198)"
            ]
           },
           "orientation": "h",
           "textangle": 0,
           "textposition": "outside",
           "texttemplate": "%{y}<br>%{x:.4s}",
           "type": "bar",
           "x": [
            161019263,
            161088312,
            164501121,
            254453796,
            270203771,
            359240229,
            525435323,
            538591048,
            568663564,
            1084097363
           ],
           "y": [
            "Barley",
            "Vegetables, fresh nes",
            "Cassava",
            "Sugar beet",
            "Potatoes",
            "Rice, paddy (rice milled equivalent)",
            "Wheat",
            "Rice, paddy",
            "Maize",
            "Sugar cane"
           ]
          }
         ],
         "layout": {
          "bargap": 0.15,
          "font": {
           "size": 14
          },
          "plot_bgcolor": "#FFFFFF",
          "xaxis": {
           "range": [
            0,
            1907024730
           ],
           "showline": true,
           "visible": true
          },
          "yaxis": {
           "showline": false,
           "visible": true
          }
         },
         "name": "1994"
        },
        {
         "data": [
          {
           "cliponaxis": false,
           "hoverinfo": "all",
           "hovertemplate": "<extra></extra>",
           "marker": {
            "color": [
             "rgb(29, 99, 117)",
             "rgb(48, 6, 167)",
             "rgb(231, 93, 129)",
             "rgb(41, 116, 112)",
             "rgb(220, 140, 45)",
             "rgb(165, 117, 212)",
             "rgb(12, 1, 9)",
             "rgb(70, 244, 218)",
             "rgb(27, 70, 193)",
             "rgb(48, 20, 198)"
            ]
           },
           "orientation": "h",
           "textangle": 0,
           "textposition": "outside",
           "texttemplate": "%{y}<br>%{x:.4s}",
           "type": "bar",
           "x": [
            140724630,
            161787472,
            165885731,
            264504934,
            285333037,
            364957060,
            517299059,
            544357532,
            547162009,
            1163366858
           ],
           "y": [
            "Barley",
            "Cassava",
            "Vegetables, fresh nes",
            "Sugar beet",
            "Potatoes",
            "Rice, paddy (rice milled equivalent)",
            "Maize",
            "Wheat",
            "Rice, paddy",
            "Sugar cane"
           ]
          }
         ],
         "layout": {
          "bargap": 0.15,
          "font": {
           "size": 14
          },
          "plot_bgcolor": "#FFFFFF",
          "xaxis": {
           "range": [
            0,
            1907024730
           ],
           "showline": true,
           "visible": true
          },
          "yaxis": {
           "showline": false,
           "visible": true
          }
         },
         "name": "1995"
        },
        {
         "data": [
          {
           "cliponaxis": false,
           "hoverinfo": "all",
           "hovertemplate": "<extra></extra>",
           "marker": {
            "color": [
             "rgb(29, 99, 117)",
             "rgb(48, 6, 167)",
             "rgb(231, 93, 129)",
             "rgb(41, 116, 112)",
             "rgb(220, 140, 45)",
             "rgb(165, 117, 212)",
             "rgb(27, 70, 193)",
             "rgb(70, 244, 218)",
             "rgb(12, 1, 9)",
             "rgb(48, 20, 198)"
            ]
           },
           "orientation": "h",
           "textangle": 0,
           "textposition": "outside",
           "texttemplate": "%{y}<br>%{x:.4s}",
           "type": "bar",
           "x": [
            155017318,
            158373490,
            171922447,
            264461343,
            310493658,
            379294907,
            568658031,
            578616933,
            586146163,
            1218890125
           ],
           "y": [
            "Barley",
            "Cassava",
            "Vegetables, fresh nes",
            "Sugar beet",
            "Potatoes",
            "Rice, paddy (rice milled equivalent)",
            "Rice, paddy",
            "Wheat",
            "Maize",
            "Sugar cane"
           ]
          }
         ],
         "layout": {
          "bargap": 0.15,
          "font": {
           "size": 14
          },
          "plot_bgcolor": "#FFFFFF",
          "xaxis": {
           "range": [
            0,
            1907024730
           ],
           "showline": true,
           "visible": true
          },
          "yaxis": {
           "showline": false,
           "visible": true
          }
         },
         "name": "1996"
        },
        {
         "data": [
          {
           "cliponaxis": false,
           "hoverinfo": "all",
           "hovertemplate": "<extra></extra>",
           "marker": {
            "color": [
             "rgb(29, 99, 117)",
             "rgb(48, 6, 167)",
             "rgb(231, 93, 129)",
             "rgb(41, 116, 112)",
             "rgb(220, 140, 45)",
             "rgb(165, 117, 212)",
             "rgb(27, 70, 193)",
             "rgb(12, 1, 9)",
             "rgb(70, 244, 218)",
             "rgb(48, 20, 198)"
            ]
           },
           "orientation": "h",
           "textangle": 0,
           "textposition": "outside",
           "texttemplate": "%{y}<br>%{x:.4s}",
           "type": "bar",
           "x": [
            154359212,
            161747290,
            175581351,
            267973956,
            301079129,
            384950308,
            577136893,
            584411894,
            614651780,
            1246425310
           ],
           "y": [
            "Barley",
            "Cassava",
            "Vegetables, fresh nes",
            "Sugar beet",
            "Potatoes",
            "Rice, paddy (rice milled equivalent)",
            "Rice, paddy",
            "Maize",
            "Wheat",
            "Sugar cane"
           ]
          }
         ],
         "layout": {
          "bargap": 0.15,
          "font": {
           "size": 14
          },
          "plot_bgcolor": "#FFFFFF",
          "xaxis": {
           "range": [
            0,
            1907024730
           ],
           "showline": true,
           "visible": true
          },
          "yaxis": {
           "showline": false,
           "visible": true
          }
         },
         "name": "1997"
        },
        {
         "data": [
          {
           "cliponaxis": false,
           "hoverinfo": "all",
           "hovertemplate": "<extra></extra>",
           "marker": {
            "color": [
             "rgb(33, 38, 16)",
             "rgb(48, 6, 167)",
             "rgb(231, 93, 129)",
             "rgb(41, 116, 112)",
             "rgb(220, 140, 45)",
             "rgb(165, 117, 212)",
             "rgb(27, 70, 193)",
             "rgb(70, 244, 218)",
             "rgb(12, 1, 9)",
             "rgb(48, 20, 198)"
            ]
           },
           "orientation": "h",
           "textangle": 0,
           "textposition": "outside",
           "texttemplate": "%{y}<br>%{x:.4s}",
           "type": "bar",
           "x": [
            160128822,
            162613417,
            178523814,
            263032522,
            297834904,
            386068923,
            578813977,
            596175815,
            615081853,
            1263674263
           ],
           "y": [
            "Soybeans",
            "Cassava",
            "Vegetables, fresh nes",
            "Sugar beet",
            "Potatoes",
            "Rice, paddy (rice milled equivalent)",
            "Rice, paddy",
            "Wheat",
            "Maize",
            "Sugar cane"
           ]
          }
         ],
         "layout": {
          "bargap": 0.15,
          "font": {
           "size": 14
          },
          "plot_bgcolor": "#FFFFFF",
          "xaxis": {
           "range": [
            0,
            1907024730
           ],
           "showline": true,
           "visible": true
          },
          "yaxis": {
           "showline": false,
           "visible": true
          }
         },
         "name": "1998"
        },
        {
         "data": [
          {
           "cliponaxis": false,
           "hoverinfo": "all",
           "hovertemplate": "<extra></extra>",
           "marker": {
            "color": [
             "rgb(33, 38, 16)",
             "rgb(48, 6, 167)",
             "rgb(231, 93, 129)",
             "rgb(41, 116, 112)",
             "rgb(220, 140, 45)",
             "rgb(165, 117, 212)",
             "rgb(70, 244, 218)",
             "rgb(12, 1, 9)",
             "rgb(27, 70, 193)",
             "rgb(48, 20, 198)"
            ]
           },
           "orientation": "h",
           "textangle": 0,
           "textposition": "outside",
           "texttemplate": "%{y}<br>%{x:.4s}",
           "type": "bar",
           "x": [
            157815479,
            168847321,
            188064527,
            260565420,
            296076184,
            407655445,
            584763438,
            607434709,
            611177579,
            1282128475
           ],
           "y": [
            "Soybeans",
            "Cassava",
            "Vegetables, fresh nes",
            "Sugar beet",
            "Potatoes",
            "Rice, paddy (rice milled equivalent)",
            "Wheat",
            "Maize",
            "Rice, paddy",
            "Sugar cane"
           ]
          }
         ],
         "layout": {
          "bargap": 0.15,
          "font": {
           "size": 14
          },
          "plot_bgcolor": "#FFFFFF",
          "xaxis": {
           "range": [
            0,
            1907024730
           ],
           "showline": true,
           "visible": true
          },
          "yaxis": {
           "showline": false,
           "visible": true
          }
         },
         "name": "1999"
        },
        {
         "data": [
          {
           "cliponaxis": false,
           "hoverinfo": "all",
           "hovertemplate": "<extra></extra>",
           "marker": {
            "color": [
             "rgb(33, 38, 16)",
             "rgb(48, 6, 167)",
             "rgb(231, 93, 129)",
             "rgb(41, 116, 112)",
             "rgb(220, 140, 45)",
             "rgb(165, 117, 212)",
             "rgb(70, 244, 218)",
             "rgb(12, 1, 9)",
             "rgb(27, 70, 193)",
             "rgb(48, 20, 198)"
            ]
           },
           "orientation": "h",
           "textangle": 0,
           "textposition": "outside",
           "texttemplate": "%{y}<br>%{x:.4s}",
           "type": "bar",
           "x": [
            161308383,
            175846840,
            211610549,
            250148505,
            322775223,
            399311670,
            584999160,
            592038698,
            598668171,
            1252668856
           ],
           "y": [
            "Soybeans",
            "Cassava",
            "Vegetables, fresh nes",
            "Sugar beet",
            "Potatoes",
            "Rice, paddy (rice milled equivalent)",
            "Wheat",
            "Maize",
            "Rice, paddy",
            "Sugar cane"
           ]
          }
         ],
         "layout": {
          "bargap": 0.15,
          "font": {
           "size": 14
          },
          "plot_bgcolor": "#FFFFFF",
          "xaxis": {
           "range": [
            0,
            1907024730
           ],
           "showline": true,
           "visible": true
          },
          "yaxis": {
           "showline": false,
           "visible": true
          }
         },
         "name": "2000"
        },
        {
         "data": [
          {
           "cliponaxis": false,
           "hoverinfo": "all",
           "hovertemplate": "<extra></extra>",
           "marker": {
            "color": [
             "rgb(33, 38, 16)",
             "rgb(48, 6, 167)",
             "rgb(231, 93, 129)",
             "rgb(41, 116, 112)",
             "rgb(220, 140, 45)",
             "rgb(165, 117, 212)",
             "rgb(70, 244, 218)",
             "rgb(27, 70, 193)",
             "rgb(12, 1, 9)",
             "rgb(48, 20, 198)"
            ]
           },
           "orientation": "h",
           "textangle": 0,
           "textposition": "outside",
           "texttemplate": "%{y}<br>%{x:.4s}",
           "type": "bar",
           "x": [
            177020743,
            181687057,
            227180655,
            230314950,
            305492291,
            400364493,
            588243664,
            600246617,
            615152413,
            1257665353
           ],
           "y": [
            "Soybeans",
            "Cassava",
            "Vegetables, fresh nes",
            "Sugar beet",
            "Potatoes",
            "Rice, paddy (rice milled equivalent)",
            "Wheat",
            "Rice, paddy",
            "Maize",
            "Sugar cane"
           ]
          }
         ],
         "layout": {
          "bargap": 0.15,
          "font": {
           "size": 14
          },
          "plot_bgcolor": "#FFFFFF",
          "xaxis": {
           "range": [
            0,
            1907024730
           ],
           "showline": true,
           "visible": true
          },
          "yaxis": {
           "showline": false,
           "visible": true
          }
         },
         "name": "2001"
        },
        {
         "data": [
          {
           "cliponaxis": false,
           "hoverinfo": "all",
           "hovertemplate": "<extra></extra>",
           "marker": {
            "color": [
             "rgb(33, 38, 16)",
             "rgb(48, 6, 167)",
             "rgb(231, 93, 129)",
             "rgb(41, 116, 112)",
             "rgb(220, 140, 45)",
             "rgb(165, 117, 212)",
             "rgb(27, 70, 193)",
             "rgb(70, 244, 218)",
             "rgb(12, 1, 9)",
             "rgb(48, 20, 198)"
            ]
           },
           "orientation": "h",
           "textangle": 0,
           "textposition": "outside",
           "texttemplate": "%{y}<br>%{x:.4s}",
           "type": "bar",
           "x": [
            180950733,
            182642727,
            226692031,
            259606962,
            309800226,
            380891169,
            571051228,
            592045286,
            603551954,
            1326773955
           ],
           "y": [
            "Soybeans",
            "Cassava",
            "Vegetables, fresh nes",
            "Sugar beet",
            "Potatoes",
            "Rice, paddy (rice milled equivalent)",
            "Rice, paddy",
            "Wheat",
            "Maize",
            "Sugar cane"
           ]
          }
         ],
         "layout": {
          "bargap": 0.15,
          "font": {
           "size": 14
          },
          "plot_bgcolor": "#FFFFFF",
          "xaxis": {
           "range": [
            0,
            1907024730
           ],
           "showline": true,
           "visible": true
          },
          "yaxis": {
           "showline": false,
           "visible": true
          }
         },
         "name": "2002"
        },
        {
         "data": [
          {
           "cliponaxis": false,
           "hoverinfo": "all",
           "hovertemplate": "<extra></extra>",
           "marker": {
            "color": [
             "rgb(33, 38, 16)",
             "rgb(48, 6, 167)",
             "rgb(41, 116, 112)",
             "rgb(231, 93, 129)",
             "rgb(220, 140, 45)",
             "rgb(165, 117, 212)",
             "rgb(70, 244, 218)",
             "rgb(27, 70, 193)",
             "rgb(12, 1, 9)",
             "rgb(48, 20, 198)"
            ]
           },
           "orientation": "h",
           "textangle": 0,
           "textposition": "outside",
           "texttemplate": "%{y}<br>%{x:.4s}",
           "type": "bar",
           "x": [
            190573528,
            192215569,
            232734248,
            237183104,
            307591201,
            391483259,
            549974473,
            586931423,
            645055272,
            1371880978
           ],
           "y": [
            "Soybeans",
            "Cassava",
            "Sugar beet",
            "Vegetables, fresh nes",
            "Potatoes",
            "Rice, paddy (rice milled equivalent)",
            "Wheat",
            "Rice, paddy",
            "Maize",
            "Sugar cane"
           ]
          }
         ],
         "layout": {
          "bargap": 0.15,
          "font": {
           "size": 14
          },
          "plot_bgcolor": "#FFFFFF",
          "xaxis": {
           "range": [
            0,
            1907024730
           ],
           "showline": true,
           "visible": true
          },
          "yaxis": {
           "showline": false,
           "visible": true
          }
         },
         "name": "2003"
        },
        {
         "data": [
          {
           "cliponaxis": false,
           "hoverinfo": "all",
           "hovertemplate": "<extra></extra>",
           "marker": {
            "color": [
             "rgb(48, 6, 167)",
             "rgb(33, 38, 16)",
             "rgb(231, 93, 129)",
             "rgb(41, 116, 112)",
             "rgb(220, 140, 45)",
             "rgb(165, 117, 212)",
             "rgb(27, 70, 193)",
             "rgb(70, 244, 218)",
             "rgb(12, 1, 9)",
             "rgb(48, 20, 198)"
            ]
           },
           "orientation": "h",
           "textangle": 0,
           "textposition": "outside",
           "texttemplate": "%{y}<br>%{x:.4s}",
           "type": "bar",
           "x": [
            203831956,
            205548134,
            224325418,
            251589379,
            328165612,
            405101582,
            607348698,
            634666010,
            729517951,
            1333138427
           ],
           "y": [
            "Cassava",
            "Soybeans",
            "Vegetables, fresh nes",
            "Sugar beet",
            "Potatoes",
            "Rice, paddy (rice milled equivalent)",
            "Rice, paddy",
            "Wheat",
            "Maize",
            "Sugar cane"
           ]
          }
         ],
         "layout": {
          "bargap": 0.15,
          "font": {
           "size": 14
          },
          "plot_bgcolor": "#FFFFFF",
          "xaxis": {
           "range": [
            0,
            1907024730
           ],
           "showline": true,
           "visible": true
          },
          "yaxis": {
           "showline": false,
           "visible": true
          }
         },
         "name": "2004"
        },
        {
         "data": [
          {
           "cliponaxis": false,
           "hoverinfo": "all",
           "hovertemplate": "<extra></extra>",
           "marker": {
            "color": [
             "rgb(48, 6, 167)",
             "rgb(33, 38, 16)",
             "rgb(231, 93, 129)",
             "rgb(41, 116, 112)",
             "rgb(220, 140, 45)",
             "rgb(165, 117, 212)",
             "rgb(70, 244, 218)",
             "rgb(27, 70, 193)",
             "rgb(12, 1, 9)",
             "rgb(48, 20, 198)"
            ]
           },
           "orientation": "h",
           "textangle": 0,
           "textposition": "outside",
           "texttemplate": "%{y}<br>%{x:.4s}",
           "type": "bar",
           "x": [
            206533771,
            214542761,
            231771630,
            253737449,
            317675179,
            423028136,
            627020836,
            634225091,
            714191174,
            1306307695
           ],
           "y": [
            "Cassava",
            "Soybeans",
            "Vegetables, fresh nes",
            "Sugar beet",
            "Potatoes",
            "Rice, paddy (rice milled equivalent)",
            "Wheat",
            "Rice, paddy",
            "Maize",
            "Sugar cane"
           ]
          }
         ],
         "layout": {
          "bargap": 0.15,
          "font": {
           "size": 14
          },
          "plot_bgcolor": "#FFFFFF",
          "xaxis": {
           "range": [
            0,
            1907024730
           ],
           "showline": true,
           "visible": true
          },
          "yaxis": {
           "showline": false,
           "visible": true
          }
         },
         "name": "2005"
        },
        {
         "data": [
          {
           "cliponaxis": false,
           "hoverinfo": "all",
           "hovertemplate": "<extra></extra>",
           "marker": {
            "color": [
             "rgb(33, 38, 16)",
             "rgb(48, 6, 167)",
             "rgb(231, 93, 129)",
             "rgb(41, 116, 112)",
             "rgb(220, 140, 45)",
             "rgb(165, 117, 212)",
             "rgb(70, 244, 218)",
             "rgb(27, 70, 193)",
             "rgb(12, 1, 9)",
             "rgb(48, 20, 198)"
            ]
           },
           "orientation": "h",
           "textangle": 0,
           "textposition": "outside",
           "texttemplate": "%{y}<br>%{x:.4s}",
           "type": "bar",
           "x": [
            221558922,
            223636615,
            241884277,
            254025175,
            307572166,
            427350243,
            614381123,
            640705012,
            707937211,
            1417376025
           ],
           "y": [
            "Soybeans",
            "Cassava",
            "Vegetables, fresh nes",
            "Sugar beet",
            "Potatoes",
            "Rice, paddy (rice milled equivalent)",
            "Wheat",
            "Rice, paddy",
            "Maize",
            "Sugar cane"
           ]
          }
         ],
         "layout": {
          "bargap": 0.15,
          "font": {
           "size": 14
          },
          "plot_bgcolor": "#FFFFFF",
          "xaxis": {
           "range": [
            0,
            1907024730
           ],
           "showline": true,
           "visible": true
          },
          "yaxis": {
           "showline": false,
           "visible": true
          }
         },
         "name": "2006"
        },
        {
         "data": [
          {
           "cliponaxis": false,
           "hoverinfo": "all",
           "hovertemplate": "<extra></extra>",
           "marker": {
            "color": [
             "rgb(33, 38, 16)",
             "rgb(48, 6, 167)",
             "rgb(231, 93, 129)",
             "rgb(41, 116, 112)",
             "rgb(220, 140, 45)",
             "rgb(165, 117, 212)",
             "rgb(70, 244, 218)",
             "rgb(27, 70, 193)",
             "rgb(12, 1, 9)",
             "rgb(48, 20, 198)"
            ]
           },
           "orientation": "h",
           "textangle": 0,
           "textposition": "outside",
           "texttemplate": "%{y}<br>%{x:.4s}",
           "type": "bar",
           "x": [
            219793075,
            226974274,
            244610984,
            246945604,
            313191368,
            437923034,
            606595140,
            656556273,
            792732888,
            1605136205
           ],
           "y": [
            "Soybeans",
            "Cassava",
            "Vegetables, fresh nes",
            "Sugar beet",
            "Potatoes",
            "Rice, paddy (rice milled equivalent)",
            "Wheat",
            "Rice, paddy",
            "Maize",
            "Sugar cane"
           ]
          }
         ],
         "layout": {
          "bargap": 0.15,
          "font": {
           "size": 14
          },
          "plot_bgcolor": "#FFFFFF",
          "xaxis": {
           "range": [
            0,
            1907024730
           ],
           "showline": true,
           "visible": true
          },
          "yaxis": {
           "showline": false,
           "visible": true
          }
         },
         "name": "2007"
        },
        {
         "data": [
          {
           "cliponaxis": false,
           "hoverinfo": "all",
           "hovertemplate": "<extra></extra>",
           "marker": {
            "color": [
             "rgb(41, 116, 112)",
             "rgb(48, 6, 167)",
             "rgb(33, 38, 16)",
             "rgb(231, 93, 129)",
             "rgb(220, 140, 45)",
             "rgb(165, 117, 212)",
             "rgb(70, 244, 218)",
             "rgb(27, 70, 193)",
             "rgb(12, 1, 9)",
             "rgb(48, 20, 198)"
            ]
           },
           "orientation": "h",
           "textangle": 0,
           "textposition": "outside",
           "texttemplate": "%{y}<br>%{x:.4s}",
           "type": "bar",
           "x": [
            221199239,
            230081674,
            231223485,
            249305237,
            327188473,
            458262606,
            680294443,
            687050383,
            829240208,
            1721251508
           ],
           "y": [
            "Sugar beet",
            "Cassava",
            "Soybeans",
            "Vegetables, fresh nes",
            "Potatoes",
            "Rice, paddy (rice milled equivalent)",
            "Wheat",
            "Rice, paddy",
            "Maize",
            "Sugar cane"
           ]
          }
         ],
         "layout": {
          "bargap": 0.15,
          "font": {
           "size": 14
          },
          "plot_bgcolor": "#FFFFFF",
          "xaxis": {
           "range": [
            0,
            1907024730
           ],
           "showline": true,
           "visible": true
          },
          "yaxis": {
           "showline": false,
           "visible": true
          }
         },
         "name": "2008"
        },
        {
         "data": [
          {
           "cliponaxis": false,
           "hoverinfo": "all",
           "hovertemplate": "<extra></extra>",
           "marker": {
            "color": [
             "rgb(33, 38, 16)",
             "rgb(41, 116, 112)",
             "rgb(48, 6, 167)",
             "rgb(231, 93, 129)",
             "rgb(220, 140, 45)",
             "rgb(165, 117, 212)",
             "rgb(70, 244, 218)",
             "rgb(27, 70, 193)",
             "rgb(12, 1, 9)",
             "rgb(48, 20, 198)"
            ]
           },
           "orientation": "h",
           "textangle": 0,
           "textposition": "outside",
           "texttemplate": "%{y}<br>%{x:.4s}",
           "type": "bar",
           "x": [
            223380802,
            227985771,
            233794346,
            248581509,
            330740148,
            457333039,
            683639171,
            685656731,
            820072448,
            1677610596
           ],
           "y": [
            "Soybeans",
            "Sugar beet",
            "Cassava",
            "Vegetables, fresh nes",
            "Potatoes",
            "Rice, paddy (rice milled equivalent)",
            "Wheat",
            "Rice, paddy",
            "Maize",
            "Sugar cane"
           ]
          }
         ],
         "layout": {
          "bargap": 0.15,
          "font": {
           "size": 14
          },
          "plot_bgcolor": "#FFFFFF",
          "xaxis": {
           "range": [
            0,
            1907024730
           ],
           "showline": true,
           "visible": true
          },
          "yaxis": {
           "showline": false,
           "visible": true
          }
         },
         "name": "2009"
        },
        {
         "data": [
          {
           "cliponaxis": false,
           "hoverinfo": "all",
           "hovertemplate": "<extra></extra>",
           "marker": {
            "color": [
             "rgb(41, 116, 112)",
             "rgb(48, 6, 167)",
             "rgb(231, 93, 129)",
             "rgb(33, 38, 16)",
             "rgb(220, 140, 45)",
             "rgb(165, 117, 212)",
             "rgb(70, 244, 218)",
             "rgb(27, 70, 193)",
             "rgb(12, 1, 9)",
             "rgb(48, 20, 198)"
            ]
           },
           "orientation": "h",
           "textangle": 0,
           "textposition": "outside",
           "texttemplate": "%{y}<br>%{x:.4s}",
           "type": "bar",
           "x": [
            228408922,
            239296357,
            259746276,
            265088429,
            328616920,
            467659411,
            640802665,
            701138548,
            851679519,
            1682839957
           ],
           "y": [
            "Sugar beet",
            "Cassava",
            "Vegetables, fresh nes",
            "Soybeans",
            "Potatoes",
            "Rice, paddy (rice milled equivalent)",
            "Wheat",
            "Rice, paddy",
            "Maize",
            "Sugar cane"
           ]
          }
         ],
         "layout": {
          "bargap": 0.15,
          "font": {
           "size": 14
          },
          "plot_bgcolor": "#FFFFFF",
          "xaxis": {
           "range": [
            0,
            1907024730
           ],
           "showline": true,
           "visible": true
          },
          "yaxis": {
           "showline": false,
           "visible": true
          }
         },
         "name": "2010"
        },
        {
         "data": [
          {
           "cliponaxis": false,
           "hoverinfo": "all",
           "hovertemplate": "<extra></extra>",
           "marker": {
            "color": [
             "rgb(48, 6, 167)",
             "rgb(231, 93, 129)",
             "rgb(33, 38, 16)",
             "rgb(41, 116, 112)",
             "rgb(220, 140, 45)",
             "rgb(165, 117, 212)",
             "rgb(70, 244, 218)",
             "rgb(27, 70, 193)",
             "rgb(12, 1, 9)",
             "rgb(48, 20, 198)"
            ]
           },
           "orientation": "h",
           "textangle": 0,
           "textposition": "outside",
           "texttemplate": "%{y}<br>%{x:.4s}",
           "type": "bar",
           "x": [
            251822205,
            260842101,
            261601653,
            278833260,
            367889898,
            484492968,
            696898368,
            726376264,
            886680581,
            1794120501
           ],
           "y": [
            "Cassava",
            "Vegetables, fresh nes",
            "Soybeans",
            "Sugar beet",
            "Potatoes",
            "Rice, paddy (rice milled equivalent)",
            "Wheat",
            "Rice, paddy",
            "Maize",
            "Sugar cane"
           ]
          }
         ],
         "layout": {
          "bargap": 0.15,
          "font": {
           "size": 14
          },
          "plot_bgcolor": "#FFFFFF",
          "xaxis": {
           "range": [
            0,
            1907024730
           ],
           "showline": true,
           "visible": true
          },
          "yaxis": {
           "showline": false,
           "visible": true
          }
         },
         "name": "2011"
        },
        {
         "data": [
          {
           "cliponaxis": false,
           "hoverinfo": "all",
           "hovertemplate": "<extra></extra>",
           "marker": {
            "color": [
             "rgb(39, 195, 102)",
             "rgb(41, 116, 112)",
             "rgb(231, 93, 129)",
             "rgb(48, 6, 167)",
             "rgb(220, 140, 45)",
             "rgb(165, 117, 212)",
             "rgb(70, 244, 218)",
             "rgb(27, 70, 193)",
             "rgb(12, 1, 9)",
             "rgb(48, 20, 198)"
            ]
           },
           "orientation": "h",
           "textangle": 0,
           "textposition": "outside",
           "texttemplate": "%{y}<br>%{x:.4s}",
           "type": "bar",
           "x": [
            256568919,
            269637113,
            272044780,
            277683210,
            361003266,
            491310036,
            673728907,
            736596755,
            875039160,
            1831008220
           ],
           "y": [
            "Oil palm fruit",
            "Sugar beet",
            "Vegetables, fresh nes",
            "Cassava",
            "Potatoes",
            "Rice, paddy (rice milled equivalent)",
            "Wheat",
            "Rice, paddy",
            "Maize",
            "Sugar cane"
           ]
          }
         ],
         "layout": {
          "bargap": 0.15,
          "font": {
           "size": 14
          },
          "plot_bgcolor": "#FFFFFF",
          "xaxis": {
           "range": [
            0,
            1907024730
           ],
           "showline": true,
           "visible": true
          },
          "yaxis": {
           "showline": false,
           "visible": true
          }
         },
         "name": "2012"
        },
        {
         "data": [
          {
           "cliponaxis": false,
           "hoverinfo": "all",
           "hovertemplate": "<extra></extra>",
           "marker": {
            "color": [
             "rgb(39, 195, 102)",
             "rgb(33, 38, 16)",
             "rgb(231, 93, 129)",
             "rgb(48, 6, 167)",
             "rgb(220, 140, 45)",
             "rgb(165, 117, 212)",
             "rgb(70, 244, 218)",
             "rgb(27, 70, 193)",
             "rgb(12, 1, 9)",
             "rgb(48, 20, 198)"
            ]
           },
           "orientation": "h",
           "textangle": 0,
           "textposition": "outside",
           "texttemplate": "%{y}<br>%{x:.4s}",
           "type": "bar",
           "x": [
            265060825,
            277672608,
            277982471,
            278454322,
            365087514,
            495250794,
            710397103,
            742504938,
            1016207182,
            1901868866
           ],
           "y": [
            "Oil palm fruit",
            "Soybeans",
            "Vegetables, fresh nes",
            "Cassava",
            "Potatoes",
            "Rice, paddy (rice milled equivalent)",
            "Wheat",
            "Rice, paddy",
            "Maize",
            "Sugar cane"
           ]
          }
         ],
         "layout": {
          "bargap": 0.15,
          "font": {
           "size": 14
          },
          "plot_bgcolor": "#FFFFFF",
          "xaxis": {
           "range": [
            0,
            1907024730
           ],
           "showline": true,
           "visible": true
          },
          "yaxis": {
           "showline": false,
           "visible": true
          }
         },
         "name": "2013"
        },
        {
         "data": [
          {
           "cliponaxis": false,
           "hoverinfo": "all",
           "hovertemplate": "<extra></extra>",
           "marker": {
            "color": [
             "rgb(231, 93, 129)",
             "rgb(39, 195, 102)",
             "rgb(48, 6, 167)",
             "rgb(33, 38, 16)",
             "rgb(220, 140, 45)",
             "rgb(165, 117, 212)",
             "rgb(70, 244, 218)",
             "rgb(27, 70, 193)",
             "rgb(12, 1, 9)",
             "rgb(48, 20, 198)"
            ]
           },
           "orientation": "h",
           "textangle": 0,
           "textposition": "outside",
           "texttemplate": "%{y}<br>%{x:.4s}",
           "type": "bar",
           "x": [
            285693443,
            285916764,
            290942989,
            306348530,
            369966532,
            495216917,
            728730126,
            742454148,
            1039226655,
            1885955643
           ],
           "y": [
            "Vegetables, fresh nes",
            "Oil palm fruit",
            "Cassava",
            "Soybeans",
            "Potatoes",
            "Rice, paddy (rice milled equivalent)",
            "Wheat",
            "Rice, paddy",
            "Maize",
            "Sugar cane"
           ]
          }
         ],
         "layout": {
          "bargap": 0.15,
          "font": {
           "size": 14
          },
          "plot_bgcolor": "#FFFFFF",
          "xaxis": {
           "range": [
            0,
            1907024730
           ],
           "showline": true,
           "visible": true
          },
          "yaxis": {
           "showline": false,
           "visible": true
          }
         },
         "name": "2014"
        },
        {
         "data": [
          {
           "cliponaxis": false,
           "hoverinfo": "all",
           "hovertemplate": "<extra></extra>",
           "marker": {
            "color": [
             "rgb(231, 93, 129)",
             "rgb(48, 6, 167)",
             "rgb(39, 195, 102)",
             "rgb(33, 38, 16)",
             "rgb(220, 140, 45)",
             "rgb(165, 117, 212)",
             "rgb(70, 244, 218)",
             "rgb(27, 70, 193)",
             "rgb(12, 1, 9)",
             "rgb(48, 20, 198)"
            ]
           },
           "orientation": "h",
           "textangle": 0,
           "textposition": "outside",
           "texttemplate": "%{y}<br>%{x:.4s}",
           "type": "bar",
           "x": [
            288931169,
            293010305,
            300284643,
            323306702,
            365748227,
            497518927,
            741643258,
            745905437,
            1052127378,
            1875060932
           ],
           "y": [
            "Vegetables, fresh nes",
            "Cassava",
            "Oil palm fruit",
            "Soybeans",
            "Potatoes",
            "Rice, paddy (rice milled equivalent)",
            "Wheat",
            "Rice, paddy",
            "Maize",
            "Sugar cane"
           ]
          }
         ],
         "layout": {
          "bargap": 0.15,
          "font": {
           "size": 14
          },
          "plot_bgcolor": "#FFFFFF",
          "xaxis": {
           "range": [
            0,
            1907024730
           ],
           "showline": true,
           "visible": true
          },
          "yaxis": {
           "showline": false,
           "visible": true
          }
         },
         "name": "2015"
        },
        {
         "data": [
          {
           "cliponaxis": false,
           "hoverinfo": "all",
           "hovertemplate": "<extra></extra>",
           "marker": {
            "color": [
             "rgb(41, 116, 112)",
             "rgb(48, 6, 167)",
             "rgb(231, 93, 129)",
             "rgb(33, 38, 16)",
             "rgb(220, 140, 45)",
             "rgb(165, 117, 212)",
             "rgb(70, 244, 218)",
             "rgb(27, 70, 193)",
             "rgb(12, 1, 9)",
             "rgb(48, 20, 198)"
            ]
           },
           "orientation": "h",
           "textangle": 0,
           "textposition": "outside",
           "texttemplate": "%{y}<br>%{x:.4s}",
           "type": "bar",
           "x": [
            278702349,
            288497460,
            292920885,
            335613801,
            356952488,
            501507373,
            748392150,
            751885117,
            1126990585,
            1874611396
           ],
           "y": [
            "Sugar beet",
            "Cassava",
            "Vegetables, fresh nes",
            "Soybeans",
            "Potatoes",
            "Rice, paddy (rice milled equivalent)",
            "Wheat",
            "Rice, paddy",
            "Maize",
            "Sugar cane"
           ]
          }
         ],
         "layout": {
          "bargap": 0.15,
          "font": {
           "size": 14
          },
          "plot_bgcolor": "#FFFFFF",
          "xaxis": {
           "range": [
            0,
            1907024730
           ],
           "showline": true,
           "visible": true
          },
          "yaxis": {
           "showline": false,
           "visible": true
          }
         },
         "name": "2016"
        },
        {
         "data": [
          {
           "cliponaxis": false,
           "hoverinfo": "all",
           "hovertemplate": "<extra></extra>",
           "marker": {
            "color": [
             "rgb(48, 6, 167)",
             "rgb(231, 93, 129)",
             "rgb(41, 116, 112)",
             "rgb(33, 38, 16)",
             "rgb(220, 140, 45)",
             "rgb(165, 117, 212)",
             "rgb(27, 70, 193)",
             "rgb(70, 244, 218)",
             "rgb(12, 1, 9)",
             "rgb(48, 20, 198)"
            ]
           },
           "orientation": "h",
           "textangle": 0,
           "textposition": "outside",
           "texttemplate": "%{y}<br>%{x:.4s}",
           "type": "bar",
           "x": [
            279304523,
            294934038,
            310374816,
            353026796,
            373774234,
            513476024,
            769829121,
            773476524,
            1164400832,
            1851333716
           ],
           "y": [
            "Cassava",
            "Vegetables, fresh nes",
            "Sugar beet",
            "Soybeans",
            "Potatoes",
            "Rice, paddy (rice milled equivalent)",
            "Rice, paddy",
            "Wheat",
            "Maize",
            "Sugar cane"
           ]
          }
         ],
         "layout": {
          "bargap": 0.15,
          "font": {
           "size": 14
          },
          "plot_bgcolor": "#FFFFFF",
          "xaxis": {
           "range": [
            0,
            1907024730
           ],
           "showline": true,
           "visible": true
          },
          "yaxis": {
           "showline": false,
           "visible": true
          }
         },
         "name": "2017"
        },
        {
         "data": [
          {
           "cliponaxis": false,
           "hoverinfo": "all",
           "hovertemplate": "<extra></extra>",
           "marker": {
            "color": [
             "rgb(41, 116, 112)",
             "rgb(48, 6, 167)",
             "rgb(231, 93, 129)",
             "rgb(33, 38, 16)",
             "rgb(220, 140, 45)",
             "rgb(165, 117, 212)",
             "rgb(70, 244, 218)",
             "rgb(27, 70, 193)",
             "rgb(12, 1, 9)",
             "rgb(48, 20, 198)"
            ]
           },
           "orientation": "h",
           "textangle": 0,
           "textposition": "outside",
           "texttemplate": "%{y}<br>%{x:.4s}",
           "type": "bar",
           "x": [
            274886306,
            277808759,
            297596674,
            348712311,
            368168914,
            521594098,
            734045174,
            782000147,
            1147621938,
            1907024730
           ],
           "y": [
            "Sugar beet",
            "Cassava",
            "Vegetables, fresh nes",
            "Soybeans",
            "Potatoes",
            "Rice, paddy (rice milled equivalent)",
            "Wheat",
            "Rice, paddy",
            "Maize",
            "Sugar cane"
           ]
          }
         ],
         "layout": {
          "bargap": 0.15,
          "font": {
           "size": 14
          },
          "plot_bgcolor": "#FFFFFF",
          "xaxis": {
           "range": [
            0,
            1907024730
           ],
           "showline": true,
           "visible": true
          },
          "yaxis": {
           "showline": false,
           "visible": true
          }
         },
         "name": "2018"
        }
       ],
       "layout": {
        "bargap": 0.15,
        "font": {
         "size": 14
        },
        "plot_bgcolor": "#FFFFFF",
        "sliders": [
         {
          "active": 0,
          "currentvalue": {
           "font": {
            "size": 20
           },
           "prefix": "Date: ",
           "visible": true,
           "xanchor": "right"
          },
          "len": 0.9,
          "pad": {
           "b": 10,
           "t": 50
          },
          "steps": [
           {
            "args": [
             [
              "1961"
             ],
             {
              "frame": {
               "duration": 800,
               "redraw": false
              },
              "mode": "immediate",
              "transition": {
               "duration": 800
              }
             }
            ],
            "label": "1961",
            "method": "animate"
           },
           {
            "args": [
             [
              "1962"
             ],
             {
              "frame": {
               "duration": 800,
               "redraw": false
              },
              "mode": "immediate",
              "transition": {
               "duration": 800
              }
             }
            ],
            "label": "1962",
            "method": "animate"
           },
           {
            "args": [
             [
              "1963"
             ],
             {
              "frame": {
               "duration": 800,
               "redraw": false
              },
              "mode": "immediate",
              "transition": {
               "duration": 800
              }
             }
            ],
            "label": "1963",
            "method": "animate"
           },
           {
            "args": [
             [
              "1964"
             ],
             {
              "frame": {
               "duration": 800,
               "redraw": false
              },
              "mode": "immediate",
              "transition": {
               "duration": 800
              }
             }
            ],
            "label": "1964",
            "method": "animate"
           },
           {
            "args": [
             [
              "1965"
             ],
             {
              "frame": {
               "duration": 800,
               "redraw": false
              },
              "mode": "immediate",
              "transition": {
               "duration": 800
              }
             }
            ],
            "label": "1965",
            "method": "animate"
           },
           {
            "args": [
             [
              "1966"
             ],
             {
              "frame": {
               "duration": 800,
               "redraw": false
              },
              "mode": "immediate",
              "transition": {
               "duration": 800
              }
             }
            ],
            "label": "1966",
            "method": "animate"
           },
           {
            "args": [
             [
              "1967"
             ],
             {
              "frame": {
               "duration": 800,
               "redraw": false
              },
              "mode": "immediate",
              "transition": {
               "duration": 800
              }
             }
            ],
            "label": "1967",
            "method": "animate"
           },
           {
            "args": [
             [
              "1968"
             ],
             {
              "frame": {
               "duration": 800,
               "redraw": false
              },
              "mode": "immediate",
              "transition": {
               "duration": 800
              }
             }
            ],
            "label": "1968",
            "method": "animate"
           },
           {
            "args": [
             [
              "1969"
             ],
             {
              "frame": {
               "duration": 800,
               "redraw": false
              },
              "mode": "immediate",
              "transition": {
               "duration": 800
              }
             }
            ],
            "label": "1969",
            "method": "animate"
           },
           {
            "args": [
             [
              "1970"
             ],
             {
              "frame": {
               "duration": 800,
               "redraw": false
              },
              "mode": "immediate",
              "transition": {
               "duration": 800
              }
             }
            ],
            "label": "1970",
            "method": "animate"
           },
           {
            "args": [
             [
              "1971"
             ],
             {
              "frame": {
               "duration": 800,
               "redraw": false
              },
              "mode": "immediate",
              "transition": {
               "duration": 800
              }
             }
            ],
            "label": "1971",
            "method": "animate"
           },
           {
            "args": [
             [
              "1972"
             ],
             {
              "frame": {
               "duration": 800,
               "redraw": false
              },
              "mode": "immediate",
              "transition": {
               "duration": 800
              }
             }
            ],
            "label": "1972",
            "method": "animate"
           },
           {
            "args": [
             [
              "1973"
             ],
             {
              "frame": {
               "duration": 800,
               "redraw": false
              },
              "mode": "immediate",
              "transition": {
               "duration": 800
              }
             }
            ],
            "label": "1973",
            "method": "animate"
           },
           {
            "args": [
             [
              "1974"
             ],
             {
              "frame": {
               "duration": 800,
               "redraw": false
              },
              "mode": "immediate",
              "transition": {
               "duration": 800
              }
             }
            ],
            "label": "1974",
            "method": "animate"
           },
           {
            "args": [
             [
              "1975"
             ],
             {
              "frame": {
               "duration": 800,
               "redraw": false
              },
              "mode": "immediate",
              "transition": {
               "duration": 800
              }
             }
            ],
            "label": "1975",
            "method": "animate"
           },
           {
            "args": [
             [
              "1976"
             ],
             {
              "frame": {
               "duration": 800,
               "redraw": false
              },
              "mode": "immediate",
              "transition": {
               "duration": 800
              }
             }
            ],
            "label": "1976",
            "method": "animate"
           },
           {
            "args": [
             [
              "1977"
             ],
             {
              "frame": {
               "duration": 800,
               "redraw": false
              },
              "mode": "immediate",
              "transition": {
               "duration": 800
              }
             }
            ],
            "label": "1977",
            "method": "animate"
           },
           {
            "args": [
             [
              "1978"
             ],
             {
              "frame": {
               "duration": 800,
               "redraw": false
              },
              "mode": "immediate",
              "transition": {
               "duration": 800
              }
             }
            ],
            "label": "1978",
            "method": "animate"
           },
           {
            "args": [
             [
              "1979"
             ],
             {
              "frame": {
               "duration": 800,
               "redraw": false
              },
              "mode": "immediate",
              "transition": {
               "duration": 800
              }
             }
            ],
            "label": "1979",
            "method": "animate"
           },
           {
            "args": [
             [
              "1980"
             ],
             {
              "frame": {
               "duration": 800,
               "redraw": false
              },
              "mode": "immediate",
              "transition": {
               "duration": 800
              }
             }
            ],
            "label": "1980",
            "method": "animate"
           },
           {
            "args": [
             [
              "1981"
             ],
             {
              "frame": {
               "duration": 800,
               "redraw": false
              },
              "mode": "immediate",
              "transition": {
               "duration": 800
              }
             }
            ],
            "label": "1981",
            "method": "animate"
           },
           {
            "args": [
             [
              "1982"
             ],
             {
              "frame": {
               "duration": 800,
               "redraw": false
              },
              "mode": "immediate",
              "transition": {
               "duration": 800
              }
             }
            ],
            "label": "1982",
            "method": "animate"
           },
           {
            "args": [
             [
              "1983"
             ],
             {
              "frame": {
               "duration": 800,
               "redraw": false
              },
              "mode": "immediate",
              "transition": {
               "duration": 800
              }
             }
            ],
            "label": "1983",
            "method": "animate"
           },
           {
            "args": [
             [
              "1984"
             ],
             {
              "frame": {
               "duration": 800,
               "redraw": false
              },
              "mode": "immediate",
              "transition": {
               "duration": 800
              }
             }
            ],
            "label": "1984",
            "method": "animate"
           },
           {
            "args": [
             [
              "1985"
             ],
             {
              "frame": {
               "duration": 800,
               "redraw": false
              },
              "mode": "immediate",
              "transition": {
               "duration": 800
              }
             }
            ],
            "label": "1985",
            "method": "animate"
           },
           {
            "args": [
             [
              "1986"
             ],
             {
              "frame": {
               "duration": 800,
               "redraw": false
              },
              "mode": "immediate",
              "transition": {
               "duration": 800
              }
             }
            ],
            "label": "1986",
            "method": "animate"
           },
           {
            "args": [
             [
              "1987"
             ],
             {
              "frame": {
               "duration": 800,
               "redraw": false
              },
              "mode": "immediate",
              "transition": {
               "duration": 800
              }
             }
            ],
            "label": "1987",
            "method": "animate"
           },
           {
            "args": [
             [
              "1988"
             ],
             {
              "frame": {
               "duration": 800,
               "redraw": false
              },
              "mode": "immediate",
              "transition": {
               "duration": 800
              }
             }
            ],
            "label": "1988",
            "method": "animate"
           },
           {
            "args": [
             [
              "1989"
             ],
             {
              "frame": {
               "duration": 800,
               "redraw": false
              },
              "mode": "immediate",
              "transition": {
               "duration": 800
              }
             }
            ],
            "label": "1989",
            "method": "animate"
           },
           {
            "args": [
             [
              "1990"
             ],
             {
              "frame": {
               "duration": 800,
               "redraw": false
              },
              "mode": "immediate",
              "transition": {
               "duration": 800
              }
             }
            ],
            "label": "1990",
            "method": "animate"
           },
           {
            "args": [
             [
              "1991"
             ],
             {
              "frame": {
               "duration": 800,
               "redraw": false
              },
              "mode": "immediate",
              "transition": {
               "duration": 800
              }
             }
            ],
            "label": "1991",
            "method": "animate"
           },
           {
            "args": [
             [
              "1992"
             ],
             {
              "frame": {
               "duration": 800,
               "redraw": false
              },
              "mode": "immediate",
              "transition": {
               "duration": 800
              }
             }
            ],
            "label": "1992",
            "method": "animate"
           },
           {
            "args": [
             [
              "1993"
             ],
             {
              "frame": {
               "duration": 800,
               "redraw": false
              },
              "mode": "immediate",
              "transition": {
               "duration": 800
              }
             }
            ],
            "label": "1993",
            "method": "animate"
           },
           {
            "args": [
             [
              "1994"
             ],
             {
              "frame": {
               "duration": 800,
               "redraw": false
              },
              "mode": "immediate",
              "transition": {
               "duration": 800
              }
             }
            ],
            "label": "1994",
            "method": "animate"
           },
           {
            "args": [
             [
              "1995"
             ],
             {
              "frame": {
               "duration": 800,
               "redraw": false
              },
              "mode": "immediate",
              "transition": {
               "duration": 800
              }
             }
            ],
            "label": "1995",
            "method": "animate"
           },
           {
            "args": [
             [
              "1996"
             ],
             {
              "frame": {
               "duration": 800,
               "redraw": false
              },
              "mode": "immediate",
              "transition": {
               "duration": 800
              }
             }
            ],
            "label": "1996",
            "method": "animate"
           },
           {
            "args": [
             [
              "1997"
             ],
             {
              "frame": {
               "duration": 800,
               "redraw": false
              },
              "mode": "immediate",
              "transition": {
               "duration": 800
              }
             }
            ],
            "label": "1997",
            "method": "animate"
           },
           {
            "args": [
             [
              "1998"
             ],
             {
              "frame": {
               "duration": 800,
               "redraw": false
              },
              "mode": "immediate",
              "transition": {
               "duration": 800
              }
             }
            ],
            "label": "1998",
            "method": "animate"
           },
           {
            "args": [
             [
              "1999"
             ],
             {
              "frame": {
               "duration": 800,
               "redraw": false
              },
              "mode": "immediate",
              "transition": {
               "duration": 800
              }
             }
            ],
            "label": "1999",
            "method": "animate"
           },
           {
            "args": [
             [
              "2000"
             ],
             {
              "frame": {
               "duration": 800,
               "redraw": false
              },
              "mode": "immediate",
              "transition": {
               "duration": 800
              }
             }
            ],
            "label": "2000",
            "method": "animate"
           },
           {
            "args": [
             [
              "2001"
             ],
             {
              "frame": {
               "duration": 800,
               "redraw": false
              },
              "mode": "immediate",
              "transition": {
               "duration": 800
              }
             }
            ],
            "label": "2001",
            "method": "animate"
           },
           {
            "args": [
             [
              "2002"
             ],
             {
              "frame": {
               "duration": 800,
               "redraw": false
              },
              "mode": "immediate",
              "transition": {
               "duration": 800
              }
             }
            ],
            "label": "2002",
            "method": "animate"
           },
           {
            "args": [
             [
              "2003"
             ],
             {
              "frame": {
               "duration": 800,
               "redraw": false
              },
              "mode": "immediate",
              "transition": {
               "duration": 800
              }
             }
            ],
            "label": "2003",
            "method": "animate"
           },
           {
            "args": [
             [
              "2004"
             ],
             {
              "frame": {
               "duration": 800,
               "redraw": false
              },
              "mode": "immediate",
              "transition": {
               "duration": 800
              }
             }
            ],
            "label": "2004",
            "method": "animate"
           },
           {
            "args": [
             [
              "2005"
             ],
             {
              "frame": {
               "duration": 800,
               "redraw": false
              },
              "mode": "immediate",
              "transition": {
               "duration": 800
              }
             }
            ],
            "label": "2005",
            "method": "animate"
           },
           {
            "args": [
             [
              "2006"
             ],
             {
              "frame": {
               "duration": 800,
               "redraw": false
              },
              "mode": "immediate",
              "transition": {
               "duration": 800
              }
             }
            ],
            "label": "2006",
            "method": "animate"
           },
           {
            "args": [
             [
              "2007"
             ],
             {
              "frame": {
               "duration": 800,
               "redraw": false
              },
              "mode": "immediate",
              "transition": {
               "duration": 800
              }
             }
            ],
            "label": "2007",
            "method": "animate"
           },
           {
            "args": [
             [
              "2008"
             ],
             {
              "frame": {
               "duration": 800,
               "redraw": false
              },
              "mode": "immediate",
              "transition": {
               "duration": 800
              }
             }
            ],
            "label": "2008",
            "method": "animate"
           },
           {
            "args": [
             [
              "2009"
             ],
             {
              "frame": {
               "duration": 800,
               "redraw": false
              },
              "mode": "immediate",
              "transition": {
               "duration": 800
              }
             }
            ],
            "label": "2009",
            "method": "animate"
           },
           {
            "args": [
             [
              "2010"
             ],
             {
              "frame": {
               "duration": 800,
               "redraw": false
              },
              "mode": "immediate",
              "transition": {
               "duration": 800
              }
             }
            ],
            "label": "2010",
            "method": "animate"
           },
           {
            "args": [
             [
              "2011"
             ],
             {
              "frame": {
               "duration": 800,
               "redraw": false
              },
              "mode": "immediate",
              "transition": {
               "duration": 800
              }
             }
            ],
            "label": "2011",
            "method": "animate"
           },
           {
            "args": [
             [
              "2012"
             ],
             {
              "frame": {
               "duration": 800,
               "redraw": false
              },
              "mode": "immediate",
              "transition": {
               "duration": 800
              }
             }
            ],
            "label": "2012",
            "method": "animate"
           },
           {
            "args": [
             [
              "2013"
             ],
             {
              "frame": {
               "duration": 800,
               "redraw": false
              },
              "mode": "immediate",
              "transition": {
               "duration": 800
              }
             }
            ],
            "label": "2013",
            "method": "animate"
           },
           {
            "args": [
             [
              "2014"
             ],
             {
              "frame": {
               "duration": 800,
               "redraw": false
              },
              "mode": "immediate",
              "transition": {
               "duration": 800
              }
             }
            ],
            "label": "2014",
            "method": "animate"
           },
           {
            "args": [
             [
              "2015"
             ],
             {
              "frame": {
               "duration": 800,
               "redraw": false
              },
              "mode": "immediate",
              "transition": {
               "duration": 800
              }
             }
            ],
            "label": "2015",
            "method": "animate"
           },
           {
            "args": [
             [
              "2016"
             ],
             {
              "frame": {
               "duration": 800,
               "redraw": false
              },
              "mode": "immediate",
              "transition": {
               "duration": 800
              }
             }
            ],
            "label": "2016",
            "method": "animate"
           },
           {
            "args": [
             [
              "2017"
             ],
             {
              "frame": {
               "duration": 800,
               "redraw": false
              },
              "mode": "immediate",
              "transition": {
               "duration": 800
              }
             }
            ],
            "label": "2017",
            "method": "animate"
           },
           {
            "args": [
             [
              "2018"
             ],
             {
              "frame": {
               "duration": 800,
               "redraw": false
              },
              "mode": "immediate",
              "transition": {
               "duration": 800
              }
             }
            ],
            "label": "2018",
            "method": "animate"
           }
          ],
          "transition": {
           "duration": 300,
           "easing": "cubic-in-out"
          },
          "x": 0.1,
          "xanchor": "left",
          "y": 0,
          "yanchor": "top"
         }
        ],
        "template": {
         "data": {
          "bar": [
           {
            "error_x": {
             "color": "#2a3f5f"
            },
            "error_y": {
             "color": "#2a3f5f"
            },
            "marker": {
             "line": {
              "color": "#E5ECF6",
              "width": 0.5
             },
             "pattern": {
              "fillmode": "overlay",
              "size": 10,
              "solidity": 0.2
             }
            },
            "type": "bar"
           }
          ],
          "barpolar": [
           {
            "marker": {
             "line": {
              "color": "#E5ECF6",
              "width": 0.5
             },
             "pattern": {
              "fillmode": "overlay",
              "size": 10,
              "solidity": 0.2
             }
            },
            "type": "barpolar"
           }
          ],
          "carpet": [
           {
            "aaxis": {
             "endlinecolor": "#2a3f5f",
             "gridcolor": "white",
             "linecolor": "white",
             "minorgridcolor": "white",
             "startlinecolor": "#2a3f5f"
            },
            "baxis": {
             "endlinecolor": "#2a3f5f",
             "gridcolor": "white",
             "linecolor": "white",
             "minorgridcolor": "white",
             "startlinecolor": "#2a3f5f"
            },
            "type": "carpet"
           }
          ],
          "choropleth": [
           {
            "colorbar": {
             "outlinewidth": 0,
             "ticks": ""
            },
            "type": "choropleth"
           }
          ],
          "contour": [
           {
            "colorbar": {
             "outlinewidth": 0,
             "ticks": ""
            },
            "colorscale": [
             [
              0,
              "#0d0887"
             ],
             [
              0.1111111111111111,
              "#46039f"
             ],
             [
              0.2222222222222222,
              "#7201a8"
             ],
             [
              0.3333333333333333,
              "#9c179e"
             ],
             [
              0.4444444444444444,
              "#bd3786"
             ],
             [
              0.5555555555555556,
              "#d8576b"
             ],
             [
              0.6666666666666666,
              "#ed7953"
             ],
             [
              0.7777777777777778,
              "#fb9f3a"
             ],
             [
              0.8888888888888888,
              "#fdca26"
             ],
             [
              1,
              "#f0f921"
             ]
            ],
            "type": "contour"
           }
          ],
          "contourcarpet": [
           {
            "colorbar": {
             "outlinewidth": 0,
             "ticks": ""
            },
            "type": "contourcarpet"
           }
          ],
          "heatmap": [
           {
            "colorbar": {
             "outlinewidth": 0,
             "ticks": ""
            },
            "colorscale": [
             [
              0,
              "#0d0887"
             ],
             [
              0.1111111111111111,
              "#46039f"
             ],
             [
              0.2222222222222222,
              "#7201a8"
             ],
             [
              0.3333333333333333,
              "#9c179e"
             ],
             [
              0.4444444444444444,
              "#bd3786"
             ],
             [
              0.5555555555555556,
              "#d8576b"
             ],
             [
              0.6666666666666666,
              "#ed7953"
             ],
             [
              0.7777777777777778,
              "#fb9f3a"
             ],
             [
              0.8888888888888888,
              "#fdca26"
             ],
             [
              1,
              "#f0f921"
             ]
            ],
            "type": "heatmap"
           }
          ],
          "heatmapgl": [
           {
            "colorbar": {
             "outlinewidth": 0,
             "ticks": ""
            },
            "colorscale": [
             [
              0,
              "#0d0887"
             ],
             [
              0.1111111111111111,
              "#46039f"
             ],
             [
              0.2222222222222222,
              "#7201a8"
             ],
             [
              0.3333333333333333,
              "#9c179e"
             ],
             [
              0.4444444444444444,
              "#bd3786"
             ],
             [
              0.5555555555555556,
              "#d8576b"
             ],
             [
              0.6666666666666666,
              "#ed7953"
             ],
             [
              0.7777777777777778,
              "#fb9f3a"
             ],
             [
              0.8888888888888888,
              "#fdca26"
             ],
             [
              1,
              "#f0f921"
             ]
            ],
            "type": "heatmapgl"
           }
          ],
          "histogram": [
           {
            "marker": {
             "pattern": {
              "fillmode": "overlay",
              "size": 10,
              "solidity": 0.2
             }
            },
            "type": "histogram"
           }
          ],
          "histogram2d": [
           {
            "colorbar": {
             "outlinewidth": 0,
             "ticks": ""
            },
            "colorscale": [
             [
              0,
              "#0d0887"
             ],
             [
              0.1111111111111111,
              "#46039f"
             ],
             [
              0.2222222222222222,
              "#7201a8"
             ],
             [
              0.3333333333333333,
              "#9c179e"
             ],
             [
              0.4444444444444444,
              "#bd3786"
             ],
             [
              0.5555555555555556,
              "#d8576b"
             ],
             [
              0.6666666666666666,
              "#ed7953"
             ],
             [
              0.7777777777777778,
              "#fb9f3a"
             ],
             [
              0.8888888888888888,
              "#fdca26"
             ],
             [
              1,
              "#f0f921"
             ]
            ],
            "type": "histogram2d"
           }
          ],
          "histogram2dcontour": [
           {
            "colorbar": {
             "outlinewidth": 0,
             "ticks": ""
            },
            "colorscale": [
             [
              0,
              "#0d0887"
             ],
             [
              0.1111111111111111,
              "#46039f"
             ],
             [
              0.2222222222222222,
              "#7201a8"
             ],
             [
              0.3333333333333333,
              "#9c179e"
             ],
             [
              0.4444444444444444,
              "#bd3786"
             ],
             [
              0.5555555555555556,
              "#d8576b"
             ],
             [
              0.6666666666666666,
              "#ed7953"
             ],
             [
              0.7777777777777778,
              "#fb9f3a"
             ],
             [
              0.8888888888888888,
              "#fdca26"
             ],
             [
              1,
              "#f0f921"
             ]
            ],
            "type": "histogram2dcontour"
           }
          ],
          "mesh3d": [
           {
            "colorbar": {
             "outlinewidth": 0,
             "ticks": ""
            },
            "type": "mesh3d"
           }
          ],
          "parcoords": [
           {
            "line": {
             "colorbar": {
              "outlinewidth": 0,
              "ticks": ""
             }
            },
            "type": "parcoords"
           }
          ],
          "pie": [
           {
            "automargin": true,
            "type": "pie"
           }
          ],
          "scatter": [
           {
            "fillpattern": {
             "fillmode": "overlay",
             "size": 10,
             "solidity": 0.2
            },
            "type": "scatter"
           }
          ],
          "scatter3d": [
           {
            "line": {
             "colorbar": {
              "outlinewidth": 0,
              "ticks": ""
             }
            },
            "marker": {
             "colorbar": {
              "outlinewidth": 0,
              "ticks": ""
             }
            },
            "type": "scatter3d"
           }
          ],
          "scattercarpet": [
           {
            "marker": {
             "colorbar": {
              "outlinewidth": 0,
              "ticks": ""
             }
            },
            "type": "scattercarpet"
           }
          ],
          "scattergeo": [
           {
            "marker": {
             "colorbar": {
              "outlinewidth": 0,
              "ticks": ""
             }
            },
            "type": "scattergeo"
           }
          ],
          "scattergl": [
           {
            "marker": {
             "colorbar": {
              "outlinewidth": 0,
              "ticks": ""
             }
            },
            "type": "scattergl"
           }
          ],
          "scattermapbox": [
           {
            "marker": {
             "colorbar": {
              "outlinewidth": 0,
              "ticks": ""
             }
            },
            "type": "scattermapbox"
           }
          ],
          "scatterpolar": [
           {
            "marker": {
             "colorbar": {
              "outlinewidth": 0,
              "ticks": ""
             }
            },
            "type": "scatterpolar"
           }
          ],
          "scatterpolargl": [
           {
            "marker": {
             "colorbar": {
              "outlinewidth": 0,
              "ticks": ""
             }
            },
            "type": "scatterpolargl"
           }
          ],
          "scatterternary": [
           {
            "marker": {
             "colorbar": {
              "outlinewidth": 0,
              "ticks": ""
             }
            },
            "type": "scatterternary"
           }
          ],
          "surface": [
           {
            "colorbar": {
             "outlinewidth": 0,
             "ticks": ""
            },
            "colorscale": [
             [
              0,
              "#0d0887"
             ],
             [
              0.1111111111111111,
              "#46039f"
             ],
             [
              0.2222222222222222,
              "#7201a8"
             ],
             [
              0.3333333333333333,
              "#9c179e"
             ],
             [
              0.4444444444444444,
              "#bd3786"
             ],
             [
              0.5555555555555556,
              "#d8576b"
             ],
             [
              0.6666666666666666,
              "#ed7953"
             ],
             [
              0.7777777777777778,
              "#fb9f3a"
             ],
             [
              0.8888888888888888,
              "#fdca26"
             ],
             [
              1,
              "#f0f921"
             ]
            ],
            "type": "surface"
           }
          ],
          "table": [
           {
            "cells": {
             "fill": {
              "color": "#EBF0F8"
             },
             "line": {
              "color": "white"
             }
            },
            "header": {
             "fill": {
              "color": "#C8D4E3"
             },
             "line": {
              "color": "white"
             }
            },
            "type": "table"
           }
          ]
         },
         "layout": {
          "annotationdefaults": {
           "arrowcolor": "#2a3f5f",
           "arrowhead": 0,
           "arrowwidth": 1
          },
          "autotypenumbers": "strict",
          "coloraxis": {
           "colorbar": {
            "outlinewidth": 0,
            "ticks": ""
           }
          },
          "colorscale": {
           "diverging": [
            [
             0,
             "#8e0152"
            ],
            [
             0.1,
             "#c51b7d"
            ],
            [
             0.2,
             "#de77ae"
            ],
            [
             0.3,
             "#f1b6da"
            ],
            [
             0.4,
             "#fde0ef"
            ],
            [
             0.5,
             "#f7f7f7"
            ],
            [
             0.6,
             "#e6f5d0"
            ],
            [
             0.7,
             "#b8e186"
            ],
            [
             0.8,
             "#7fbc41"
            ],
            [
             0.9,
             "#4d9221"
            ],
            [
             1,
             "#276419"
            ]
           ],
           "sequential": [
            [
             0,
             "#0d0887"
            ],
            [
             0.1111111111111111,
             "#46039f"
            ],
            [
             0.2222222222222222,
             "#7201a8"
            ],
            [
             0.3333333333333333,
             "#9c179e"
            ],
            [
             0.4444444444444444,
             "#bd3786"
            ],
            [
             0.5555555555555556,
             "#d8576b"
            ],
            [
             0.6666666666666666,
             "#ed7953"
            ],
            [
             0.7777777777777778,
             "#fb9f3a"
            ],
            [
             0.8888888888888888,
             "#fdca26"
            ],
            [
             1,
             "#f0f921"
            ]
           ],
           "sequentialminus": [
            [
             0,
             "#0d0887"
            ],
            [
             0.1111111111111111,
             "#46039f"
            ],
            [
             0.2222222222222222,
             "#7201a8"
            ],
            [
             0.3333333333333333,
             "#9c179e"
            ],
            [
             0.4444444444444444,
             "#bd3786"
            ],
            [
             0.5555555555555556,
             "#d8576b"
            ],
            [
             0.6666666666666666,
             "#ed7953"
            ],
            [
             0.7777777777777778,
             "#fb9f3a"
            ],
            [
             0.8888888888888888,
             "#fdca26"
            ],
            [
             1,
             "#f0f921"
            ]
           ]
          },
          "colorway": [
           "#636efa",
           "#EF553B",
           "#00cc96",
           "#ab63fa",
           "#FFA15A",
           "#19d3f3",
           "#FF6692",
           "#B6E880",
           "#FF97FF",
           "#FECB52"
          ],
          "font": {
           "color": "#2a3f5f"
          },
          "geo": {
           "bgcolor": "white",
           "lakecolor": "white",
           "landcolor": "#E5ECF6",
           "showlakes": true,
           "showland": true,
           "subunitcolor": "white"
          },
          "hoverlabel": {
           "align": "left"
          },
          "hovermode": "closest",
          "mapbox": {
           "style": "light"
          },
          "paper_bgcolor": "white",
          "plot_bgcolor": "#E5ECF6",
          "polar": {
           "angularaxis": {
            "gridcolor": "white",
            "linecolor": "white",
            "ticks": ""
           },
           "bgcolor": "#E5ECF6",
           "radialaxis": {
            "gridcolor": "white",
            "linecolor": "white",
            "ticks": ""
           }
          },
          "scene": {
           "xaxis": {
            "backgroundcolor": "#E5ECF6",
            "gridcolor": "white",
            "gridwidth": 2,
            "linecolor": "white",
            "showbackground": true,
            "ticks": "",
            "zerolinecolor": "white"
           },
           "yaxis": {
            "backgroundcolor": "#E5ECF6",
            "gridcolor": "white",
            "gridwidth": 2,
            "linecolor": "white",
            "showbackground": true,
            "ticks": "",
            "zerolinecolor": "white"
           },
           "zaxis": {
            "backgroundcolor": "#E5ECF6",
            "gridcolor": "white",
            "gridwidth": 2,
            "linecolor": "white",
            "showbackground": true,
            "ticks": "",
            "zerolinecolor": "white"
           }
          },
          "shapedefaults": {
           "line": {
            "color": "#2a3f5f"
           }
          },
          "ternary": {
           "aaxis": {
            "gridcolor": "white",
            "linecolor": "white",
            "ticks": ""
           },
           "baxis": {
            "gridcolor": "white",
            "linecolor": "white",
            "ticks": ""
           },
           "bgcolor": "#E5ECF6",
           "caxis": {
            "gridcolor": "white",
            "linecolor": "white",
            "ticks": ""
           }
          },
          "title": {
           "x": 0.05
          },
          "xaxis": {
           "automargin": true,
           "gridcolor": "white",
           "linecolor": "white",
           "ticks": "",
           "title": {
            "standoff": 15
           },
           "zerolinecolor": "white",
           "zerolinewidth": 2
          },
          "yaxis": {
           "automargin": true,
           "gridcolor": "white",
           "linecolor": "white",
           "ticks": "",
           "title": {
            "standoff": 15
           },
           "zerolinecolor": "white",
           "zerolinewidth": 2
          }
         }
        },
        "updatemenus": [
         {
          "buttons": [
           {
            "args": [
             null,
             {
              "frame": {
               "duration": 800,
               "redraw": false
              },
              "fromcurrent": true,
              "transition": {
               "duration": 800,
               "easing": "quadratic-in-out"
              }
             }
            ],
            "label": "Play",
            "method": "animate"
           },
           {
            "args": [
             [
              null
             ],
             {
              "frame": {
               "duration": 0,
               "redraw": false
              },
              "mode": "immediate",
              "transition": {
               "duration": 0
              }
             }
            ],
            "label": "Pause",
            "method": "animate"
           }
          ],
          "direction": "left",
          "pad": {
           "r": 10,
           "t": 87
          },
          "showactive": true,
          "type": "buttons",
          "x": 0.1,
          "xanchor": "right",
          "y": 0,
          "yanchor": "top"
         }
        ],
        "xaxis": {
         "range": [
          0,
          1907024730
         ],
         "showline": true,
         "showticklabels": true,
         "title": {
          "text": "Production quantity (tonnes)"
         },
         "visible": true
        },
        "yaxis": {
         "showline": false,
         "showticklabels": false,
         "title": {
          "text": "Top 10 crops"
         },
         "visible": true
        }
       }
      }
     },
     "metadata": {},
     "output_type": "display_data"
    }
   ],
   "source": [
    "data = pd.read_csv('https://raw.githubusercontent.com/lc5415/raceplotly/main/example/dataset/FAOSTAT_data.csv')\n",
    "\n",
    "display(data)\n",
    "\n",
    "my_raceplot = barplot(data,  item_column='Item', value_column='Value', time_column='Year')\n",
    "\n",
    "my_raceplot.plot(item_label = 'Top 10 crops', value_label = 'Production quantity (tonnes)', frame_duration = 800)"
   ]
  },
  {
   "cell_type": "code",
   "execution_count": null,
   "metadata": {},
   "outputs": [],
   "source": []
  }
 ],
 "metadata": {
  "kernelspec": {
   "display_name": "base",
   "language": "python",
   "name": "python3"
  },
  "language_info": {
   "codemirror_mode": {
    "name": "ipython",
    "version": 3
   },
   "file_extension": ".py",
   "mimetype": "text/x-python",
   "name": "python",
   "nbconvert_exporter": "python",
   "pygments_lexer": "ipython3",
   "version": "3.9.12"
  },
  "orig_nbformat": 4
 },
 "nbformat": 4,
 "nbformat_minor": 2
}
