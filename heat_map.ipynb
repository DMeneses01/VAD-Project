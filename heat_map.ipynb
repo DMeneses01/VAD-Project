{
 "cells": [
  {
   "attachments": {},
   "cell_type": "markdown",
   "metadata": {},
   "source": [
    "### Heat Map"
   ]
  },
  {
   "cell_type": "code",
   "execution_count": 1,
   "metadata": {},
   "outputs": [],
   "source": [
    "import geopandas as gpd\n",
    "import pandas as pd"
   ]
  },
  {
   "cell_type": "code",
   "execution_count": 3,
   "metadata": {},
   "outputs": [],
   "source": [
    "countries = gpd.read_file('countries.geojson')"
   ]
  },
  {
   "cell_type": "code",
   "execution_count": 26,
   "metadata": {},
   "outputs": [
    {
     "data": {
      "text/plain": [
       "[array(['United States', 2655], dtype=object),\n",
       " array(['Greece', 122], dtype=object),\n",
       " array(['Germany', 1404], dtype=object),\n",
       " array(['France', 772], dtype=object),\n",
       " array(['Great Britain', 928], dtype=object),\n",
       " array(['Hungary', 515], dtype=object),\n",
       " array(['Austria', 102], dtype=object),\n",
       " array(['Australia', 541], dtype=object),\n",
       " array(['Denmark', 213], dtype=object),\n",
       " array(['Switzerland', 212], dtype=object),\n",
       " array(['Belgium', 166], dtype=object),\n",
       " array(['Italy', 629], dtype=object),\n",
       " array(['Netherlands', 329], dtype=object),\n",
       " array(['Cuba', 235], dtype=object),\n",
       " array(['Spain', 169], dtype=object),\n",
       " array(['Norway', 162], dtype=object),\n",
       " array(['India', 35], dtype=object),\n",
       " array(['Sweden', 504], dtype=object),\n",
       " array(['Canada', 325], dtype=object),\n",
       " array(['Russian Federation', 503], dtype=object),\n",
       " array(['Finland', 310], dtype=object),\n",
       " array(['South Africa', 91], dtype=object),\n",
       " array(['Estonia', 36], dtype=object),\n",
       " array(['Brazil', 150], dtype=object),\n",
       " array(['Japan', 499], dtype=object),\n",
       " array(['Luxembourg', 5], dtype=object),\n",
       " array(['New Zealand', 137], dtype=object),\n",
       " array(['Argentina', 77], dtype=object),\n",
       " array(['Uruguay', 10], dtype=object),\n",
       " array(['Ireland', 38], dtype=object),\n",
       " array(['Poland', 306], dtype=object),\n",
       " array(['Haiti', 2], dtype=object),\n",
       " array(['Monaco', 1], dtype=object),\n",
       " array(['Portugal', 28], dtype=object),\n",
       " array(['Romania', 308], dtype=object),\n",
       " array(['Egypt', 36], dtype=object),\n",
       " array(['Chile', 13], dtype=object),\n",
       " array(['Philippines', 14], dtype=object),\n",
       " array(['Mexico', 72], dtype=object),\n",
       " array(['Latvia', 21], dtype=object),\n",
       " array(['Turkey', 103], dtype=object),\n",
       " array(['Jamaica', 87], dtype=object),\n",
       " array(['Peru', 4], dtype=object),\n",
       " array(['Sri Lanka', 2], dtype=object),\n",
       " array(['Trinidad and Tobago', 19], dtype=object),\n",
       " array(['Panama', 3], dtype=object),\n",
       " array(['Republic of Korea', 287], dtype=object),\n",
       " array(['Islamic Republic of Iran', 76], dtype=object),\n",
       " array(['Puerto Rico', 10], dtype=object),\n",
       " array(['Lebanon', 4], dtype=object),\n",
       " array(['Bulgaria', 224], dtype=object),\n",
       " array(['Venezuela', 19], dtype=object),\n",
       " array(['Iceland', 4], dtype=object),\n",
       " array(['Pakistan', 10], dtype=object),\n",
       " array(['The Bahamas', 16], dtype=object),\n",
       " array(['Ethiopia', 58], dtype=object),\n",
       " array(['Chinese Taipei', 36], dtype=object),\n",
       " array(['Ghana', 5], dtype=object),\n",
       " array(['Morocco', 24], dtype=object),\n",
       " array(['Singapore', 5], dtype=object),\n",
       " array(['Iraq', 1], dtype=object),\n",
       " array(['Tunisia', 15], dtype=object),\n",
       " array(['Kenya', 113], dtype=object),\n",
       " array(['Nigeria', 27], dtype=object),\n",
       " array(['Mongolia', 30], dtype=object),\n",
       " array(['Uganda', 11], dtype=object),\n",
       " array(['Cameroon', 6], dtype=object),\n",
       " array([\"Democratic People's Republic of Korea\", 55], dtype=object),\n",
       " array(['Colombia', 34], dtype=object),\n",
       " array(['Niger', 2], dtype=object),\n",
       " array(['Bermuda', 2], dtype=object),\n",
       " array(['Thailand', 35], dtype=object),\n",
       " array(['Zimbabwe', 8], dtype=object),\n",
       " array(['United Republic of Tanzania', 2], dtype=object),\n",
       " array(['Guyana', 1], dtype=object),\n",
       " array([\"People's Republic of China\", 643], dtype=object),\n",
       " array([\"Côte d'Ivoire\", 4], dtype=object),\n",
       " array(['Syrian Arab Republic', 4], dtype=object),\n",
       " array(['Algeria', 17], dtype=object),\n",
       " array(['Dominican Republic', 12], dtype=object),\n",
       " array(['Zambia', 2], dtype=object),\n",
       " array(['Suriname', 2], dtype=object),\n",
       " array(['Costa Rica', 4], dtype=object),\n",
       " array(['Indonesia', 37], dtype=object),\n",
       " array(['Netherlands Antilles', 1], dtype=object),\n",
       " array(['Senegal', 1], dtype=object),\n",
       " array(['United States Virgin Islands', 1], dtype=object),\n",
       " array(['Djibouti', 1], dtype=object),\n",
       " array(['Unified Team', 112], dtype=object),\n",
       " array(['Lithuania', 26], dtype=object),\n",
       " array(['Namibia', 5], dtype=object),\n",
       " array(['Croatia', 41], dtype=object),\n",
       " array(['Israel', 13], dtype=object),\n",
       " array(['Slovenia', 28], dtype=object),\n",
       " array(['Malaysia', 13], dtype=object),\n",
       " array(['Qatar', 8], dtype=object),\n",
       " array(['Ukraine', 139], dtype=object),\n",
       " array(['Czech Republic', 67], dtype=object),\n",
       " array(['Kazakhstan', 71], dtype=object),\n",
       " array(['Belarus', 85], dtype=object),\n",
       " array(['Serbia and Montenegro', 9], dtype=object),\n",
       " array(['Slovakia', 32], dtype=object),\n",
       " array(['Armenia', 18], dtype=object),\n",
       " array(['Burundi', 2], dtype=object),\n",
       " array(['Ecuador', 5], dtype=object),\n",
       " array(['Republic of Moldova', 6], dtype=object),\n",
       " array(['Uzbekistan', 36], dtype=object),\n",
       " array(['Azerbaijan', 49], dtype=object),\n",
       " array(['Tonga', 1], dtype=object),\n",
       " array(['Georgia', 40], dtype=object),\n",
       " array(['Mozambique', 2], dtype=object),\n",
       " array(['Kingdom of Saudi Arabia', 4], dtype=object),\n",
       " array(['Vietnam', 5], dtype=object),\n",
       " array(['Barbados', 1], dtype=object),\n",
       " array(['Kuwait', 3], dtype=object),\n",
       " array(['Kyrgyzstan', 7], dtype=object),\n",
       " array(['North Macedonia', 2], dtype=object),\n",
       " array(['United Arab Emirates', 2], dtype=object),\n",
       " array(['Paraguay', 1], dtype=object),\n",
       " array(['Eritrea', 1], dtype=object),\n",
       " array(['Serbia', 24], dtype=object),\n",
       " array(['Tajikistan', 4], dtype=object),\n",
       " array(['Samoa', 1], dtype=object),\n",
       " array(['Sudan', 1], dtype=object),\n",
       " array(['Afghanistan', 2], dtype=object),\n",
       " array(['Mauritius', 1], dtype=object),\n",
       " array(['Togo', 1], dtype=object),\n",
       " array(['Bahrain', 4], dtype=object),\n",
       " array(['Grenada', 3], dtype=object),\n",
       " array(['Botswana', 2], dtype=object),\n",
       " array(['Cyprus', 1], dtype=object),\n",
       " array(['Gabon', 1], dtype=object),\n",
       " array(['Guatemala', 1], dtype=object),\n",
       " array(['Montenegro', 1], dtype=object),\n",
       " array(['Fiji', 3], dtype=object),\n",
       " array(['Jordan', 3], dtype=object),\n",
       " array(['Kosovo', 3], dtype=object),\n",
       " array(['San Marino', 3], dtype=object),\n",
       " array(['Turkmenistan', 1], dtype=object),\n",
       " array(['Burkina Faso', 1], dtype=object)]"
      ]
     },
     "metadata": {},
     "output_type": "display_data"
    }
   ],
   "source": [
    "games_Medal = pd.read_csv('Dataset/Olympic_Games_Medal_Tally.csv', sep=',', encoding_errors='replace')\n",
    "games_Medal = games_Medal.replace([\"na\"], None)\n",
    "\n",
    "games_Medal = games_Medal[games_Medal[\"edition\"].str.contains(\"Winter\") == False]\n",
    "\n",
    "df = pd.DataFrame(games_Medal[\"country\"].unique(), columns=[\"country\"])\n",
    "\n",
    "total = games_Medal.groupby('country')['total'].sum()\n",
    "\n",
    "df = pd.merge(df, total, on='country', how='left')\n",
    "\n",
    "# CLEANING DATA\n",
    "\n",
    "df = df[df[\"country\"].str.contains(\"Mixed team\")==False] # Impossivel dividir\n",
    "df = df[df[\"country\"].str.contains(\"Unified Team\")==False] # Impossivel dividir\n",
    "df = df[df[\"country\"].str.contains(\"Individual Olympic Athletes\")==False] # Impossivel dividir\n",
    "df = df[df[\"country\"].str.contains(\"Bohemia\")==False]    # Eslováquia + Republica Checa\n",
    "df = df[df[\"country\"].str.contains(\"Australasia\")==False]    # Australia + Nova Zelandia + Nova Guine + partes da Indonesia\n",
    "df = df[df[\"country\"].str.contains(\"Czechoslovakia\")==False]    # Eslováquia + Republica Checa\n",
    "df = df[df[\"country\"].str.contains(\"Yugoslavia\")==False] # Bosnia + Croacia + Macedonia + Montenegro + Eslovenia + Servia\n",
    "df = df[df[\"country\"].str.contains(\"Soviet Union\")==False] # Russia + Letonia + Lituania + Estonia + Georgia + Armenia + Azerbaijao + Bielorrussia + Cazaquistao + Moldavia + Quirguistao + Tajiquistao + Turquemenistao + Ucrania + Usbequistao\n",
    "df = df[df[\"country\"].str.contains(\"United Arab Republic\")==False]  # Egypt + Syria + Faixa de Gaza\n",
    "df = df[df[\"country\"].str.contains(\"West Indies Federation\")==False] # Antigua + Barbados + Cayman Islands + Dominica + Grenada + Jamaica + Montserrat + St Christopher-Nevis-Anguilla + Saint Lucia\t+ St Vincent and the Grenadines\t+ Trinidad and Tobago + Turks and Caicos Islands\t\n",
    "\n",
    "df[\"country\"] = df[\"country\"].replace('Türkiye', 'Turkey')\n",
    "\n",
    "df.loc[df['country'] == \"Germany\", ['total']] += df.loc[df['country'] == \"West Germany\", ['total']].values[0][0]\n",
    "df.loc[df['country'] == \"Germany\", ['total']] += df.loc[df['country'] == \"East Germany\", ['total']].values[0][0]\n",
    "df = df[df[\"country\"].str.contains(\"West Germany\")==False]\n",
    "df = df[df[\"country\"].str.contains(\"East Germany\")==False]\n",
    "\n",
    "df.loc[df['country'] == \"People's Republic of China\", ['total']] += df.loc[df['country'] == \"Hong Kong, China\", ['total']].values[0][0]\n",
    "df = df[df[\"country\"].str.contains(\"Hong Kong, China\")==False]\n",
    "\n",
    "df.loc[df['country'] == \"Russian Federation\", ['total']] += df.loc[df['country'] == \"ROC\", ['total']].values[0][0]\n",
    "df = df[df[\"country\"].str.contains(\"ROC\")==False]\n",
    "\n",
    "#df = df[df[\"total\"] > 5]\n",
    "\n",
    "\n",
    "display(list(df.values))"
   ]
  },
  {
   "cell_type": "code",
   "execution_count": 23,
   "metadata": {},
   "outputs": [
    {
     "data": {
      "application/vnd.plotly.v1+json": {
       "config": {
        "plotlyServerURL": "https://plot.ly"
       },
       "data": [
        {
         "alignmentgroup": "True",
         "bingroup": "x",
         "hovertemplate": "total=%{x}<br>count=%{y}<extra></extra>",
         "legendgroup": "",
         "marker": {
          "color": "#636efa",
          "pattern": {
           "shape": ""
          }
         },
         "name": "",
         "offsetgroup": "",
         "orientation": "v",
         "showlegend": false,
         "type": "histogram",
         "x": [
          2655,
          122,
          1404,
          772,
          928,
          515,
          102,
          541,
          213,
          212,
          166,
          629,
          329,
          235,
          169,
          162,
          35,
          504,
          325,
          503,
          310,
          91,
          36,
          150,
          499,
          137,
          77,
          10,
          38,
          306,
          28,
          308,
          36,
          13,
          14,
          72,
          21,
          103,
          87,
          19,
          287,
          76,
          10,
          224,
          19,
          10,
          16,
          58,
          36,
          24,
          15,
          113,
          27,
          30,
          11,
          6,
          55,
          34,
          35,
          8,
          643,
          17,
          12,
          37,
          112,
          26,
          41,
          13,
          28,
          13,
          8,
          139,
          67,
          71,
          85,
          9,
          32,
          18,
          6,
          36,
          49,
          40,
          7,
          24
         ],
         "xaxis": "x",
         "yaxis": "y"
        }
       ],
       "layout": {
        "barmode": "relative",
        "legend": {
         "tracegroupgap": 0
        },
        "margin": {
         "t": 60
        },
        "template": {
         "data": {
          "bar": [
           {
            "error_x": {
             "color": "#2a3f5f"
            },
            "error_y": {
             "color": "#2a3f5f"
            },
            "marker": {
             "line": {
              "color": "#E5ECF6",
              "width": 0.5
             },
             "pattern": {
              "fillmode": "overlay",
              "size": 10,
              "solidity": 0.2
             }
            },
            "type": "bar"
           }
          ],
          "barpolar": [
           {
            "marker": {
             "line": {
              "color": "#E5ECF6",
              "width": 0.5
             },
             "pattern": {
              "fillmode": "overlay",
              "size": 10,
              "solidity": 0.2
             }
            },
            "type": "barpolar"
           }
          ],
          "carpet": [
           {
            "aaxis": {
             "endlinecolor": "#2a3f5f",
             "gridcolor": "white",
             "linecolor": "white",
             "minorgridcolor": "white",
             "startlinecolor": "#2a3f5f"
            },
            "baxis": {
             "endlinecolor": "#2a3f5f",
             "gridcolor": "white",
             "linecolor": "white",
             "minorgridcolor": "white",
             "startlinecolor": "#2a3f5f"
            },
            "type": "carpet"
           }
          ],
          "choropleth": [
           {
            "colorbar": {
             "outlinewidth": 0,
             "ticks": ""
            },
            "type": "choropleth"
           }
          ],
          "contour": [
           {
            "colorbar": {
             "outlinewidth": 0,
             "ticks": ""
            },
            "colorscale": [
             [
              0,
              "#0d0887"
             ],
             [
              0.1111111111111111,
              "#46039f"
             ],
             [
              0.2222222222222222,
              "#7201a8"
             ],
             [
              0.3333333333333333,
              "#9c179e"
             ],
             [
              0.4444444444444444,
              "#bd3786"
             ],
             [
              0.5555555555555556,
              "#d8576b"
             ],
             [
              0.6666666666666666,
              "#ed7953"
             ],
             [
              0.7777777777777778,
              "#fb9f3a"
             ],
             [
              0.8888888888888888,
              "#fdca26"
             ],
             [
              1,
              "#f0f921"
             ]
            ],
            "type": "contour"
           }
          ],
          "contourcarpet": [
           {
            "colorbar": {
             "outlinewidth": 0,
             "ticks": ""
            },
            "type": "contourcarpet"
           }
          ],
          "heatmap": [
           {
            "colorbar": {
             "outlinewidth": 0,
             "ticks": ""
            },
            "colorscale": [
             [
              0,
              "#0d0887"
             ],
             [
              0.1111111111111111,
              "#46039f"
             ],
             [
              0.2222222222222222,
              "#7201a8"
             ],
             [
              0.3333333333333333,
              "#9c179e"
             ],
             [
              0.4444444444444444,
              "#bd3786"
             ],
             [
              0.5555555555555556,
              "#d8576b"
             ],
             [
              0.6666666666666666,
              "#ed7953"
             ],
             [
              0.7777777777777778,
              "#fb9f3a"
             ],
             [
              0.8888888888888888,
              "#fdca26"
             ],
             [
              1,
              "#f0f921"
             ]
            ],
            "type": "heatmap"
           }
          ],
          "heatmapgl": [
           {
            "colorbar": {
             "outlinewidth": 0,
             "ticks": ""
            },
            "colorscale": [
             [
              0,
              "#0d0887"
             ],
             [
              0.1111111111111111,
              "#46039f"
             ],
             [
              0.2222222222222222,
              "#7201a8"
             ],
             [
              0.3333333333333333,
              "#9c179e"
             ],
             [
              0.4444444444444444,
              "#bd3786"
             ],
             [
              0.5555555555555556,
              "#d8576b"
             ],
             [
              0.6666666666666666,
              "#ed7953"
             ],
             [
              0.7777777777777778,
              "#fb9f3a"
             ],
             [
              0.8888888888888888,
              "#fdca26"
             ],
             [
              1,
              "#f0f921"
             ]
            ],
            "type": "heatmapgl"
           }
          ],
          "histogram": [
           {
            "marker": {
             "pattern": {
              "fillmode": "overlay",
              "size": 10,
              "solidity": 0.2
             }
            },
            "type": "histogram"
           }
          ],
          "histogram2d": [
           {
            "colorbar": {
             "outlinewidth": 0,
             "ticks": ""
            },
            "colorscale": [
             [
              0,
              "#0d0887"
             ],
             [
              0.1111111111111111,
              "#46039f"
             ],
             [
              0.2222222222222222,
              "#7201a8"
             ],
             [
              0.3333333333333333,
              "#9c179e"
             ],
             [
              0.4444444444444444,
              "#bd3786"
             ],
             [
              0.5555555555555556,
              "#d8576b"
             ],
             [
              0.6666666666666666,
              "#ed7953"
             ],
             [
              0.7777777777777778,
              "#fb9f3a"
             ],
             [
              0.8888888888888888,
              "#fdca26"
             ],
             [
              1,
              "#f0f921"
             ]
            ],
            "type": "histogram2d"
           }
          ],
          "histogram2dcontour": [
           {
            "colorbar": {
             "outlinewidth": 0,
             "ticks": ""
            },
            "colorscale": [
             [
              0,
              "#0d0887"
             ],
             [
              0.1111111111111111,
              "#46039f"
             ],
             [
              0.2222222222222222,
              "#7201a8"
             ],
             [
              0.3333333333333333,
              "#9c179e"
             ],
             [
              0.4444444444444444,
              "#bd3786"
             ],
             [
              0.5555555555555556,
              "#d8576b"
             ],
             [
              0.6666666666666666,
              "#ed7953"
             ],
             [
              0.7777777777777778,
              "#fb9f3a"
             ],
             [
              0.8888888888888888,
              "#fdca26"
             ],
             [
              1,
              "#f0f921"
             ]
            ],
            "type": "histogram2dcontour"
           }
          ],
          "mesh3d": [
           {
            "colorbar": {
             "outlinewidth": 0,
             "ticks": ""
            },
            "type": "mesh3d"
           }
          ],
          "parcoords": [
           {
            "line": {
             "colorbar": {
              "outlinewidth": 0,
              "ticks": ""
             }
            },
            "type": "parcoords"
           }
          ],
          "pie": [
           {
            "automargin": true,
            "type": "pie"
           }
          ],
          "scatter": [
           {
            "fillpattern": {
             "fillmode": "overlay",
             "size": 10,
             "solidity": 0.2
            },
            "type": "scatter"
           }
          ],
          "scatter3d": [
           {
            "line": {
             "colorbar": {
              "outlinewidth": 0,
              "ticks": ""
             }
            },
            "marker": {
             "colorbar": {
              "outlinewidth": 0,
              "ticks": ""
             }
            },
            "type": "scatter3d"
           }
          ],
          "scattercarpet": [
           {
            "marker": {
             "colorbar": {
              "outlinewidth": 0,
              "ticks": ""
             }
            },
            "type": "scattercarpet"
           }
          ],
          "scattergeo": [
           {
            "marker": {
             "colorbar": {
              "outlinewidth": 0,
              "ticks": ""
             }
            },
            "type": "scattergeo"
           }
          ],
          "scattergl": [
           {
            "marker": {
             "colorbar": {
              "outlinewidth": 0,
              "ticks": ""
             }
            },
            "type": "scattergl"
           }
          ],
          "scattermapbox": [
           {
            "marker": {
             "colorbar": {
              "outlinewidth": 0,
              "ticks": ""
             }
            },
            "type": "scattermapbox"
           }
          ],
          "scatterpolar": [
           {
            "marker": {
             "colorbar": {
              "outlinewidth": 0,
              "ticks": ""
             }
            },
            "type": "scatterpolar"
           }
          ],
          "scatterpolargl": [
           {
            "marker": {
             "colorbar": {
              "outlinewidth": 0,
              "ticks": ""
             }
            },
            "type": "scatterpolargl"
           }
          ],
          "scatterternary": [
           {
            "marker": {
             "colorbar": {
              "outlinewidth": 0,
              "ticks": ""
             }
            },
            "type": "scatterternary"
           }
          ],
          "surface": [
           {
            "colorbar": {
             "outlinewidth": 0,
             "ticks": ""
            },
            "colorscale": [
             [
              0,
              "#0d0887"
             ],
             [
              0.1111111111111111,
              "#46039f"
             ],
             [
              0.2222222222222222,
              "#7201a8"
             ],
             [
              0.3333333333333333,
              "#9c179e"
             ],
             [
              0.4444444444444444,
              "#bd3786"
             ],
             [
              0.5555555555555556,
              "#d8576b"
             ],
             [
              0.6666666666666666,
              "#ed7953"
             ],
             [
              0.7777777777777778,
              "#fb9f3a"
             ],
             [
              0.8888888888888888,
              "#fdca26"
             ],
             [
              1,
              "#f0f921"
             ]
            ],
            "type": "surface"
           }
          ],
          "table": [
           {
            "cells": {
             "fill": {
              "color": "#EBF0F8"
             },
             "line": {
              "color": "white"
             }
            },
            "header": {
             "fill": {
              "color": "#C8D4E3"
             },
             "line": {
              "color": "white"
             }
            },
            "type": "table"
           }
          ]
         },
         "layout": {
          "annotationdefaults": {
           "arrowcolor": "#2a3f5f",
           "arrowhead": 0,
           "arrowwidth": 1
          },
          "autotypenumbers": "strict",
          "coloraxis": {
           "colorbar": {
            "outlinewidth": 0,
            "ticks": ""
           }
          },
          "colorscale": {
           "diverging": [
            [
             0,
             "#8e0152"
            ],
            [
             0.1,
             "#c51b7d"
            ],
            [
             0.2,
             "#de77ae"
            ],
            [
             0.3,
             "#f1b6da"
            ],
            [
             0.4,
             "#fde0ef"
            ],
            [
             0.5,
             "#f7f7f7"
            ],
            [
             0.6,
             "#e6f5d0"
            ],
            [
             0.7,
             "#b8e186"
            ],
            [
             0.8,
             "#7fbc41"
            ],
            [
             0.9,
             "#4d9221"
            ],
            [
             1,
             "#276419"
            ]
           ],
           "sequential": [
            [
             0,
             "#0d0887"
            ],
            [
             0.1111111111111111,
             "#46039f"
            ],
            [
             0.2222222222222222,
             "#7201a8"
            ],
            [
             0.3333333333333333,
             "#9c179e"
            ],
            [
             0.4444444444444444,
             "#bd3786"
            ],
            [
             0.5555555555555556,
             "#d8576b"
            ],
            [
             0.6666666666666666,
             "#ed7953"
            ],
            [
             0.7777777777777778,
             "#fb9f3a"
            ],
            [
             0.8888888888888888,
             "#fdca26"
            ],
            [
             1,
             "#f0f921"
            ]
           ],
           "sequentialminus": [
            [
             0,
             "#0d0887"
            ],
            [
             0.1111111111111111,
             "#46039f"
            ],
            [
             0.2222222222222222,
             "#7201a8"
            ],
            [
             0.3333333333333333,
             "#9c179e"
            ],
            [
             0.4444444444444444,
             "#bd3786"
            ],
            [
             0.5555555555555556,
             "#d8576b"
            ],
            [
             0.6666666666666666,
             "#ed7953"
            ],
            [
             0.7777777777777778,
             "#fb9f3a"
            ],
            [
             0.8888888888888888,
             "#fdca26"
            ],
            [
             1,
             "#f0f921"
            ]
           ]
          },
          "colorway": [
           "#636efa",
           "#EF553B",
           "#00cc96",
           "#ab63fa",
           "#FFA15A",
           "#19d3f3",
           "#FF6692",
           "#B6E880",
           "#FF97FF",
           "#FECB52"
          ],
          "font": {
           "color": "#2a3f5f"
          },
          "geo": {
           "bgcolor": "white",
           "lakecolor": "white",
           "landcolor": "#E5ECF6",
           "showlakes": true,
           "showland": true,
           "subunitcolor": "white"
          },
          "hoverlabel": {
           "align": "left"
          },
          "hovermode": "closest",
          "mapbox": {
           "style": "light"
          },
          "paper_bgcolor": "white",
          "plot_bgcolor": "#E5ECF6",
          "polar": {
           "angularaxis": {
            "gridcolor": "white",
            "linecolor": "white",
            "ticks": ""
           },
           "bgcolor": "#E5ECF6",
           "radialaxis": {
            "gridcolor": "white",
            "linecolor": "white",
            "ticks": ""
           }
          },
          "scene": {
           "xaxis": {
            "backgroundcolor": "#E5ECF6",
            "gridcolor": "white",
            "gridwidth": 2,
            "linecolor": "white",
            "showbackground": true,
            "ticks": "",
            "zerolinecolor": "white"
           },
           "yaxis": {
            "backgroundcolor": "#E5ECF6",
            "gridcolor": "white",
            "gridwidth": 2,
            "linecolor": "white",
            "showbackground": true,
            "ticks": "",
            "zerolinecolor": "white"
           },
           "zaxis": {
            "backgroundcolor": "#E5ECF6",
            "gridcolor": "white",
            "gridwidth": 2,
            "linecolor": "white",
            "showbackground": true,
            "ticks": "",
            "zerolinecolor": "white"
           }
          },
          "shapedefaults": {
           "line": {
            "color": "#2a3f5f"
           }
          },
          "ternary": {
           "aaxis": {
            "gridcolor": "white",
            "linecolor": "white",
            "ticks": ""
           },
           "baxis": {
            "gridcolor": "white",
            "linecolor": "white",
            "ticks": ""
           },
           "bgcolor": "#E5ECF6",
           "caxis": {
            "gridcolor": "white",
            "linecolor": "white",
            "ticks": ""
           }
          },
          "title": {
           "x": 0.05
          },
          "xaxis": {
           "automargin": true,
           "gridcolor": "white",
           "linecolor": "white",
           "ticks": "",
           "title": {
            "standoff": 15
           },
           "zerolinecolor": "white",
           "zerolinewidth": 2
          },
          "yaxis": {
           "automargin": true,
           "gridcolor": "white",
           "linecolor": "white",
           "ticks": "",
           "title": {
            "standoff": 15
           },
           "zerolinecolor": "white",
           "zerolinewidth": 2
          }
         }
        },
        "xaxis": {
         "anchor": "y",
         "domain": [
          0,
          1
         ],
         "title": {
          "text": "total"
         }
        },
        "yaxis": {
         "anchor": "x",
         "domain": [
          0,
          1
         ],
         "title": {
          "text": "count"
         }
        }
       }
      }
     },
     "metadata": {},
     "output_type": "display_data"
    }
   ],
   "source": [
    "import plotly.express as px\n",
    "\n",
    "#display(df)\n",
    "\n",
    "fig = px.histogram(df, x=\"total\")\n",
    "fig.show()"
   ]
  },
  {
   "cell_type": "code",
   "execution_count": null,
   "metadata": {},
   "outputs": [],
   "source": [
    "import plotly.express as px\n",
    "\n",
    "colorscale = [\"rgb(255, 51, 51)\", \"rgb(210, 231, 154)\", \"rgb(94, 179, 39)\", \"rgb(67, 136, 33)\", \"rgb(33, 74, 12)\"]\n",
    "\n",
    "fig = px.choropleth(df, geojson=countries, locations='country', locationmode='country names', color='total',\n",
    "                           color_continuous_scale=colorscale,\n",
    "                           range_color=(0, max(df[\"total\"])),\n",
    "                           labels={'total':'medals'}\n",
    "                          )\n",
    "\n",
    "fig.update_layout(margin={\"r\":0,\"t\":0,\"l\":0,\"b\":0})\n",
    "fig.show()"
   ]
  },
  {
   "cell_type": "code",
   "execution_count": null,
   "metadata": {},
   "outputs": [],
   "source": [
    "import plotly.express as px\n",
    "\n",
    "fig = px.choropleth(df, geojson=countries, locations='country', locationmode='country names', color='total',\n",
    "                           color_continuous_scale=[(0.00, \"darkblue\"),   (20/3000, \"darkblue\"),\n",
    "                                                (20/3000, \"dodgerblue\"), (40/3000, \"dodgerblue\"),\n",
    "                                                (40/3000, \"cyan\"),  (60/3000, \"cyan\"),\n",
    "                                                (60/3000, \"darkgreen\"), (80/3000, \"darkgreen\"),\n",
    "                                                (80/3000, \"limegreen\"), (100/3000, \"limegreen\"),\n",
    "                                                (100/3000, \"yellow\"), (300/3000, \"yellow\"),\n",
    "                                                (300/3000, \"goldenrod\"), (500/3000, \"goldenrod\"),\n",
    "                                                (500/3000, \"chocolate\"), (700/3000, \"chocolate\"),\n",
    "                                                (700/3000, \"firebrick\"), (900/3000, \"firebrick\"),\n",
    "                                                (900/3000, \"darkmagenta\"), (1100/3000, \"darkmagenta\"),\n",
    "                                                (1100/3000, \"blueviolet\"), (3000/3000, \"blueviolet\")],\n",
    "                           range_color=(0, 3000),\n",
    "                           labels={'total':'medals'}\n",
    "                          )\n",
    "\n",
    "fig.update_layout(margin={\"r\":0,\"t\":0,\"l\":0,\"b\":0})\n",
    "fig.show()"
   ]
  },
  {
   "cell_type": "code",
   "execution_count": null,
   "metadata": {},
   "outputs": [],
   "source": [
    "import plotly.express as px\n",
    "\n",
    "fig = px.choropleth(df, geojson=countries, locations='country', locationmode='country names', color='total',\n",
    "                           color_continuous_scale=\"jet\",\n",
    "                           range_color=(0, max(df[\"total\"])),\n",
    "                           labels={'total':'medals'}\n",
    "                          )\n",
    "\n",
    "fig.update_layout(margin={\"r\":0,\"t\":0,\"l\":0,\"b\":0})\n",
    "fig.show()"
   ]
  }
 ],
 "metadata": {
  "kernelspec": {
   "display_name": "base",
   "language": "python",
   "name": "python3"
  },
  "language_info": {
   "codemirror_mode": {
    "name": "ipython",
    "version": 3
   },
   "file_extension": ".py",
   "mimetype": "text/x-python",
   "name": "python",
   "nbconvert_exporter": "python",
   "pygments_lexer": "ipython3",
   "version": "3.9.12"
  },
  "orig_nbformat": 4
 },
 "nbformat": 4,
 "nbformat_minor": 2
}
