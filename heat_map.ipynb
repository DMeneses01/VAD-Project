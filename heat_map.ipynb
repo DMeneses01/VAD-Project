{
 "cells": [
  {
   "attachments": {},
   "cell_type": "markdown",
   "metadata": {},
   "source": [
    "### Heat Map"
   ]
  },
  {
   "cell_type": "code",
   "execution_count": null,
   "metadata": {},
   "outputs": [],
   "source": [
    "import geopandas as gpd\n",
    "import pandas as pd"
   ]
  },
  {
   "cell_type": "code",
   "execution_count": null,
   "metadata": {},
   "outputs": [],
   "source": [
    "countries = gpd.read_file('countries.geojson')"
   ]
  },
  {
   "cell_type": "code",
   "execution_count": null,
   "metadata": {},
   "outputs": [],
   "source": [
    "games_Medal = pd.read_csv('Dataset/Olympic_Games_Medal_Tally.csv', sep=',', encoding_errors='replace')\n",
    "games_Medal = games_Medal.replace([\"na\"], None)\n",
    "\n",
    "games_Medal = games_Medal[games_Medal[\"edition\"].str.contains(\"Winter\") == False]\n",
    "\n",
    "df = pd.DataFrame(games_Medal[\"country\"].unique(), columns=[\"country\"])\n",
    "\n",
    "total = games_Medal.groupby('country')['total'].sum()\n",
    "\n",
    "df = pd.merge(df, total, on='country', how='left')\n",
    "\n",
    "# CLEANING DATA\n",
    "\n",
    "df = df[df[\"country\"].str.contains(\"Mixed team\")==False] # Impossivel dividir\n",
    "df = df[df[\"country\"].str.contains(\"Unified Team\")==False] # Impossivel dividir\n",
    "df = df[df[\"country\"].str.contains(\"Individual Olympic Athletes\")==False] # Impossivel dividir\n",
    "df = df[df[\"country\"].str.contains(\"Bohemia\")==False]    # Eslováquia + Republica Checa\n",
    "df = df[df[\"country\"].str.contains(\"Australasia\")==False]    # Australia + Nova Zelandia + Nova Guine + partes da Indonesia\n",
    "df = df[df[\"country\"].str.contains(\"Czechoslovakia\")==False]    # Eslováquia + Republica Checa\n",
    "df = df[df[\"country\"].str.contains(\"Yugoslavia\")==False] # Bosnia + Croacia + Macedonia + Montenegro + Eslovenia + Servia\n",
    "df = df[df[\"country\"].str.contains(\"Soviet Union\")==False] # Russia + Letonia + Lituania + Estonia + Georgia + Armenia + Azerbaijao + Bielorrussia + Cazaquistao + Moldavia + Quirguistao + Tajiquistao + Turquemenistao + Ucrania + Usbequistao\n",
    "df = df[df[\"country\"].str.contains(\"United Arab Republic\")==False]  # Egypt + Syria + Faixa de Gaza\n",
    "df = df[df[\"country\"].str.contains(\"West Indies Federation\")==False] # Antigua + Barbados + Cayman Islands + Dominica + Grenada + Jamaica + Montserrat + St Christopher-Nevis-Anguilla + Saint Lucia\t+ St Vincent and the Grenadines\t+ Trinidad and Tobago + Turks and Caicos Islands\t\n",
    "\n",
    "df[\"country\"] = df[\"country\"].replace('Türkiye', 'Turkey')\n",
    "\n",
    "df.loc[df['country'] == \"Germany\", ['total']] += df.loc[df['country'] == \"West Germany\", ['total']].values[0][0]\n",
    "df.loc[df['country'] == \"Germany\", ['total']] += df.loc[df['country'] == \"East Germany\", ['total']].values[0][0]\n",
    "df = df[df[\"country\"].str.contains(\"West Germany\")==False]\n",
    "df = df[df[\"country\"].str.contains(\"East Germany\")==False]\n",
    "\n",
    "df.loc[df['country'] == \"People's Republic of China\", ['total']] += df.loc[df['country'] == \"Hong Kong, China\", ['total']].values[0][0]\n",
    "df = df[df[\"country\"].str.contains(\"Hong Kong, China\")==False]\n",
    "\n",
    "df.loc[df['country'] == \"Russian Federation\", ['total']] += df.loc[df['country'] == \"ROC\", ['total']].values[0][0]\n",
    "df = df[df[\"country\"].str.contains(\"ROC\")==False]\n",
    "\n",
    "#df = df[df[\"total\"] > 5]\n",
    "\n",
    "\n",
    "display(list(df.values))"
   ]
  },
  {
   "cell_type": "code",
   "execution_count": null,
   "metadata": {},
   "outputs": [],
   "source": [
    "import plotly.express as px\n",
    "\n",
    "#display(df)\n",
    "\n",
    "fig = px.histogram(df, x=\"total\")\n",
    "fig.show()"
   ]
  },
  {
   "cell_type": "code",
   "execution_count": null,
   "metadata": {},
   "outputs": [],
   "source": [
    "import plotly.express as px\n",
    "\n",
    "colorscale = [\"rgb(255, 51, 51)\", \"rgb(210, 231, 154)\", \"rgb(94, 179, 39)\", \"rgb(67, 136, 33)\", \"rgb(33, 74, 12)\"]\n",
    "\n",
    "fig = px.choropleth(df, geojson=countries, locations='country', locationmode='country names', color='total',\n",
    "                           color_continuous_scale=colorscale,\n",
    "                           range_color=(0, max(df[\"total\"])),\n",
    "                           labels={'total':'medals'}\n",
    "                          )\n",
    "\n",
    "fig.update_layout(margin={\"r\":0,\"t\":0,\"l\":0,\"b\":0})\n",
    "fig.show()"
   ]
  },
  {
   "cell_type": "code",
   "execution_count": null,
   "metadata": {},
   "outputs": [],
   "source": [
    "import plotly.express as px\n",
    "\n",
    "fig = px.choropleth(df, geojson=countries, locations='country', locationmode='country names', color='total',\n",
    "                           color_continuous_scale=[(0.00, \"darkblue\"),   (20/3000, \"darkblue\"),\n",
    "                                                (20/3000, \"dodgerblue\"), (40/3000, \"dodgerblue\"),\n",
    "                                                (40/3000, \"cyan\"),  (60/3000, \"cyan\"),\n",
    "                                                (60/3000, \"darkgreen\"), (80/3000, \"darkgreen\"),\n",
    "                                                (80/3000, \"limegreen\"), (100/3000, \"limegreen\"),\n",
    "                                                (100/3000, \"yellow\"), (300/3000, \"yellow\"),\n",
    "                                                (300/3000, \"goldenrod\"), (500/3000, \"goldenrod\"),\n",
    "                                                (500/3000, \"chocolate\"), (700/3000, \"chocolate\"),\n",
    "                                                (700/3000, \"firebrick\"), (900/3000, \"firebrick\"),\n",
    "                                                (900/3000, \"darkmagenta\"), (1100/3000, \"darkmagenta\"),\n",
    "                                                (1100/3000, \"blueviolet\"), (3000/3000, \"blueviolet\")],\n",
    "                           range_color=(0, 3000),\n",
    "                           labels={'total':'medals'}\n",
    "                          )\n",
    "\n",
    "fig.update_layout(margin={\"r\":0,\"t\":0,\"l\":0,\"b\":0})\n",
    "fig.show()"
   ]
  },
  {
   "cell_type": "code",
   "execution_count": null,
   "metadata": {},
   "outputs": [],
   "source": [
    "import plotly.express as px\n",
    "\n",
    "fig = px.choropleth(df, geojson=countries, locations='country', locationmode='country names', color='total',\n",
    "                           color_continuous_scale=\"jet\",\n",
    "                           range_color=(0, max(df[\"total\"])),\n",
    "                           labels={'total':'medals'}\n",
    "                          )\n",
    "\n",
    "fig.update_layout(margin={\"r\":0,\"t\":0,\"l\":0,\"b\":0})\n",
    "fig.show()"
   ]
  }
 ],
 "metadata": {
  "kernelspec": {
   "display_name": "base",
   "language": "python",
   "name": "python3"
  },
  "language_info": {
   "codemirror_mode": {
    "name": "ipython",
    "version": 3
   },
   "file_extension": ".py",
   "mimetype": "text/x-python",
   "name": "python",
   "nbconvert_exporter": "python",
   "pygments_lexer": "ipython3",
   "version": "3.9.12"
  },
  "orig_nbformat": 4
 },
 "nbformat": 4,
 "nbformat_minor": 2
}
